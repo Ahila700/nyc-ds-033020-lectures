{
 "cells": [
  {
   "cell_type": "code",
   "execution_count": 1,
   "metadata": {},
   "outputs": [],
   "source": [
    "import pandas as pd\n",
    "import numpy as np\n",
    "\n",
    "import seaborn as sns\n",
    "sns.set(context='paper', style='darkgrid', rc={'figure.facecolor':'white'}, font_scale=1.2)\n",
    "\n",
    "import matplotlib.pyplot as plt\n",
    "%matplotlib inline\n",
    "\n",
    "from sklearn.model_selection import train_test_split\n",
    "from sklearn.metrics import accuracy_score, f1_score\n",
    "from sklearn.preprocessing import PolynomialFeatures\n",
    "from sklearn.preprocessing import StandardScaler\n",
    "\n",
    "from sklearn.linear_model import LogisticRegression\n",
    "\n",
    "from sklearn import metrics\n",
    "\n",
    "from sklearn.metrics import confusion_matrix\n",
    "import itertools\n",
    "\n",
    "from sklearn.model_selection import GridSearchCV\n",
    "\n",
    "from statsmodels.stats.outliers_influence import variance_inflation_factor\n",
    "\n",
    "from sklearn.tree import DecisionTreeClassifier # Import Decision Tree Classifier\n",
    "\n",
    "import pickle"
   ]
  },
  {
   "cell_type": "code",
   "execution_count": 2,
   "metadata": {},
   "outputs": [],
   "source": [
    "with open('Features_Selected_by_RF', 'rb') as handle:\n",
    "    X = pickle.load(handle)"
   ]
  },
  {
   "cell_type": "code",
   "execution_count": 3,
   "metadata": {},
   "outputs": [],
   "source": [
    "with open('Default_values', 'rb') as handle:\n",
    "    y = pickle.load(handle)"
   ]
  },
  {
   "cell_type": "code",
   "execution_count": 49,
   "metadata": {},
   "outputs": [],
   "source": [
    "X['Default'] = y"
   ]
  },
  {
   "cell_type": "code",
   "execution_count": 50,
   "metadata": {},
   "outputs": [],
   "source": [
    "df_final = X"
   ]
  },
  {
   "cell_type": "code",
   "execution_count": 51,
   "metadata": {},
   "outputs": [],
   "source": [
    "df_final.to_csv('Final_data_for_model.csv')"
   ]
  },
  {
   "cell_type": "markdown",
   "metadata": {},
   "source": [
    "___"
   ]
  },
  {
   "cell_type": "markdown",
   "metadata": {},
   "source": [
    "### Train Test Split"
   ]
  },
  {
   "cell_type": "code",
   "execution_count": 39,
   "metadata": {},
   "outputs": [],
   "source": [
    "X_train, X_test, y_train, y_test = train_test_split(X, y, test_size=0.25, random_state=23)"
   ]
  },
  {
   "cell_type": "code",
   "execution_count": 40,
   "metadata": {},
   "outputs": [],
   "source": [
    "scaler = StandardScaler()\n",
    "final_scaler = scaler.fit(X_train)\n",
    "X_train = pd.DataFrame(data=scaler.transform(X_train), columns = X.columns)\n",
    "X_test = pd.DataFrame(data=scaler.transform(X_test), columns = X.columns)"
   ]
  },
  {
   "cell_type": "markdown",
   "metadata": {},
   "source": [
    "___"
   ]
  },
  {
   "cell_type": "markdown",
   "metadata": {},
   "source": [
    "## Best Model for the data"
   ]
  },
  {
   "cell_type": "code",
   "execution_count": 41,
   "metadata": {},
   "outputs": [],
   "source": [
    "from sklearn.ensemble import RandomForestClassifier"
   ]
  },
  {
   "cell_type": "code",
   "execution_count": 42,
   "metadata": {},
   "outputs": [],
   "source": [
    "rfc = RandomForestClassifier(criterion = 'entropy', max_depth = 8, n_estimators = 250, \n",
    "                             min_samples_leaf = 8, min_samples_split = 2, random_state = 1, \n",
    "                             class_weight='balanced', bootstrap=True, n_jobs=-1)"
   ]
  },
  {
   "cell_type": "code",
   "execution_count": 43,
   "metadata": {},
   "outputs": [],
   "source": [
    "#fit the model to the training data\n",
    "rfc.fit(X_train, y_train)\n",
    "#use the fitted model to predict on the test data\n",
    "rfc_pred = rfc.predict(X_test)"
   ]
  },
  {
   "cell_type": "code",
   "execution_count": 44,
   "metadata": {},
   "outputs": [
    {
     "name": "stdout",
     "output_type": "stream",
     "text": [
      "Test Accuracy score:  0.7893333333333333\n",
      "Precision score:  0.5383480825958702\n",
      "Recall score:  0.5663304887509697\n",
      "Test F1 score:  0.551984877126654\n"
     ]
    }
   ],
   "source": [
    "# checking accuracy\n",
    "print('Test Accuracy score: ', accuracy_score(y_test, rfc_pred))\n",
    "\n",
    "# checking precision\n",
    "print('Precision score: ', metrics.precision_score(y_test, rfc_pred))\n",
    "\n",
    "# Checking recall\n",
    "print('Recall score: ', metrics.recall_score(y_test, rfc_pred))\n",
    "\n",
    "# checking accuracy\n",
    "print('Test F1 score: ', f1_score(y_test, rfc_pred))"
   ]
  },
  {
   "cell_type": "markdown",
   "metadata": {},
   "source": [
    "___"
   ]
  },
  {
   "cell_type": "markdown",
   "metadata": {},
   "source": [
    "## More feature engineering on data without dummies for all of the status values"
   ]
  },
  {
   "cell_type": "code",
   "execution_count": 52,
   "metadata": {},
   "outputs": [],
   "source": [
    "df = pd.read_csv('Data_wo_status_dummies.csv', index_col= 0)"
   ]
  },
  {
   "cell_type": "code",
   "execution_count": 68,
   "metadata": {},
   "outputs": [],
   "source": [
    "X_2 = df.drop(columns = 'Default', axis =1)\n",
    "y_2 = df['Default']\n",
    "feature_cols_2 = X_2.columns"
   ]
  },
  {
   "cell_type": "code",
   "execution_count": null,
   "metadata": {},
   "outputs": [],
   "source": []
  },
  {
   "cell_type": "code",
   "execution_count": 69,
   "metadata": {},
   "outputs": [],
   "source": [
    "X_train_2, X_test_2, y_train_2, y_test_2 = train_test_split(X_2, y_2, test_size=0.25, \n",
    "                                                            random_state=23)"
   ]
  },
  {
   "cell_type": "code",
   "execution_count": 70,
   "metadata": {},
   "outputs": [],
   "source": [
    "scaler_2 = StandardScaler()\n",
    "scaler_2.fit(X_train_2)\n",
    "X_train_2 = pd.DataFrame(data=scaler_2.transform(X_train_2), columns = X_2.columns)\n",
    "X_test_2 = pd.DataFrame(data=scaler_2.transform(X_test_2), columns = X_2.columns)"
   ]
  },
  {
   "cell_type": "code",
   "execution_count": null,
   "metadata": {},
   "outputs": [],
   "source": []
  },
  {
   "cell_type": "code",
   "execution_count": 98,
   "metadata": {},
   "outputs": [],
   "source": [
    "rfc_2 = RandomForestClassifier(criterion = 'entropy', max_depth = 3, n_estimators = 10000, \n",
    "                             min_samples_leaf = 5, min_samples_split = 2, random_state = 1, \n",
    "                             class_weight='balanced', bootstrap=True, n_jobs=-1)"
   ]
  },
  {
   "cell_type": "code",
   "execution_count": null,
   "metadata": {},
   "outputs": [],
   "source": [
    "#fit the model to the training data\n",
    "rfc_2.fit(X_train_2, y_train_2)\n",
    "#use the fitted model to predict on the test data\n",
    "rfc_pred_2 = rfc_2.predict(X_test_2)"
   ]
  },
  {
   "cell_type": "code",
   "execution_count": null,
   "metadata": {},
   "outputs": [],
   "source": [
    "# checking accuracy\n",
    "print('Test Accuracy score: ', accuracy_score(y_test_2, rfc_pred_2))\n",
    "\n",
    "# checking precision\n",
    "print('Precision score: ', metrics.precision_score(y_test_2, rfc_pred_2))\n",
    "\n",
    "# Checking recall\n",
    "print('Recall score: ', metrics.recall_score(y_test_2, rfc_pred_2))\n",
    "\n",
    "# checking accuracy\n",
    "print('Test F1 score: ', f1_score(y_test_2, rfc_pred_2))"
   ]
  },
  {
   "cell_type": "markdown",
   "metadata": {},
   "source": [
    "___"
   ]
  },
  {
   "cell_type": "markdown",
   "metadata": {},
   "source": [
    "## Binning the status columns"
   ]
  },
  {
   "cell_type": "code",
   "execution_count": 53,
   "metadata": {},
   "outputs": [],
   "source": [
    "df['September_status'] = np.where(df['September_status'] >= 1, 1, 0)\n",
    "\n",
    "df['August_status'] = np.where(df['August_status'] >= 1, 1, 0)\n",
    "\n",
    "df['July_status'] = np.where(df['July_status'] >= 1, 1, 0)\n",
    "\n",
    "df['June_status'] = np.where(df['June_status'] >= 1, 1, 0)\n",
    "\n",
    "df['May_status'] = np.where(df['May_status'] >= 1, 1, 0)\n",
    "\n",
    "df['April_status'] = np.where(df['April_status'] >= 1, 1, 0)"
   ]
  },
  {
   "cell_type": "code",
   "execution_count": 60,
   "metadata": {},
   "outputs": [],
   "source": [
    "df['Status_balance_sep'] = [df['September_status'][i] * df['September_balance'][i] \n",
    "                        for i in range(len(df['September_status']))]\n",
    "\n",
    "df['Status_balance_aug'] = [df['August_status'][i] * df['August_balance'][i] \n",
    "                        for i in range(len(df['September_status']))]\n",
    "\n",
    "df['Status_balance_jul'] = [df['July_status'][i] * df['July_balance'][i] \n",
    "                        for i in range(len(df['September_status']))]\n",
    "\n",
    "df['Status_balance_jun'] = [df['June_status'][i] * df['June_balance'][i] \n",
    "                        for i in range(len(df['September_status']))]\n",
    "\n",
    "df['Status_balance_may'] = [df['May_status'][i] * df['May_balance'][i] \n",
    "                        for i in range(len(df['September_status']))]\n",
    "\n",
    "df['Status_balance_apr'] = [df['April_status'][i] * df['April_balance'][i] \n",
    "                        for i in range(len(df['September_status']))]"
   ]
  },
  {
   "cell_type": "code",
   "execution_count": 67,
   "metadata": {},
   "outputs": [],
   "source": [
    "df.drop(columns = ['September_status', 'August_status', 'July_status', 'June_status', \n",
    "                   'May_status', 'April_status'], inplace = True)"
   ]
  },
  {
   "cell_type": "code",
   "execution_count": null,
   "metadata": {},
   "outputs": [],
   "source": []
  },
  {
   "cell_type": "code",
   "execution_count": 17,
   "metadata": {},
   "outputs": [],
   "source": [
    "X_3 = df.drop(columns = 'Default', axis =1)\n",
    "y_3 = df['Default']\n",
    "feature_cols_3 = X_3.columns"
   ]
  },
  {
   "cell_type": "code",
   "execution_count": null,
   "metadata": {},
   "outputs": [],
   "source": []
  },
  {
   "cell_type": "code",
   "execution_count": 18,
   "metadata": {},
   "outputs": [],
   "source": [
    "poly= PolynomialFeatures(degree=2, include_bias=False)"
   ]
  },
  {
   "cell_type": "code",
   "execution_count": 19,
   "metadata": {},
   "outputs": [],
   "source": [
    "X_poly = poly.fit_transform(X_3)\n",
    "poly_columns = poly.get_feature_names(X_3.columns)"
   ]
  },
  {
   "cell_type": "code",
   "execution_count": 20,
   "metadata": {},
   "outputs": [],
   "source": [
    "X_poly_df = pd.DataFrame(X_poly, columns = poly_columns)"
   ]
  },
  {
   "cell_type": "code",
   "execution_count": 21,
   "metadata": {
    "collapsed": true
   },
   "outputs": [
    {
     "data": {
      "text/html": [
       "<div>\n",
       "<style scoped>\n",
       "    .dataframe tbody tr th:only-of-type {\n",
       "        vertical-align: middle;\n",
       "    }\n",
       "\n",
       "    .dataframe tbody tr th {\n",
       "        vertical-align: top;\n",
       "    }\n",
       "\n",
       "    .dataframe thead th {\n",
       "        text-align: right;\n",
       "    }\n",
       "</style>\n",
       "<table border=\"1\" class=\"dataframe\">\n",
       "  <thead>\n",
       "    <tr style=\"text-align: right;\">\n",
       "      <th></th>\n",
       "      <th>LIMIT_BAL</th>\n",
       "      <th>SEX</th>\n",
       "      <th>AGE</th>\n",
       "      <th>September_balance</th>\n",
       "      <th>Min_payment_sep</th>\n",
       "      <th>Min_payment_aug</th>\n",
       "      <th>Min_payment_jul</th>\n",
       "      <th>Min_payment_jun</th>\n",
       "      <th>Min_payment_may</th>\n",
       "      <th>Min_payment_apr</th>\n",
       "      <th>...</th>\n",
       "      <th>edu_3^2</th>\n",
       "      <th>edu_3 edu_4</th>\n",
       "      <th>edu_3 marriage_2</th>\n",
       "      <th>edu_3 Overall_status</th>\n",
       "      <th>edu_4^2</th>\n",
       "      <th>edu_4 marriage_2</th>\n",
       "      <th>edu_4 Overall_status</th>\n",
       "      <th>marriage_2^2</th>\n",
       "      <th>marriage_2 Overall_status</th>\n",
       "      <th>Overall_status^2</th>\n",
       "    </tr>\n",
       "  </thead>\n",
       "  <tbody>\n",
       "    <tr>\n",
       "      <th>0</th>\n",
       "      <td>200000.0</td>\n",
       "      <td>0.0</td>\n",
       "      <td>30.0</td>\n",
       "      <td>133727.0</td>\n",
       "      <td>1.0</td>\n",
       "      <td>1.0</td>\n",
       "      <td>1.0</td>\n",
       "      <td>1.0</td>\n",
       "      <td>1.0</td>\n",
       "      <td>0.0</td>\n",
       "      <td>...</td>\n",
       "      <td>1.0</td>\n",
       "      <td>0.0</td>\n",
       "      <td>0.0</td>\n",
       "      <td>6.0</td>\n",
       "      <td>0.0</td>\n",
       "      <td>0.0</td>\n",
       "      <td>0.0</td>\n",
       "      <td>0.0</td>\n",
       "      <td>0.0</td>\n",
       "      <td>36.0</td>\n",
       "    </tr>\n",
       "    <tr>\n",
       "      <th>1</th>\n",
       "      <td>200000.0</td>\n",
       "      <td>0.0</td>\n",
       "      <td>27.0</td>\n",
       "      <td>0.0</td>\n",
       "      <td>1.0</td>\n",
       "      <td>1.0</td>\n",
       "      <td>1.0</td>\n",
       "      <td>1.0</td>\n",
       "      <td>1.0</td>\n",
       "      <td>1.0</td>\n",
       "      <td>...</td>\n",
       "      <td>0.0</td>\n",
       "      <td>0.0</td>\n",
       "      <td>0.0</td>\n",
       "      <td>0.0</td>\n",
       "      <td>1.0</td>\n",
       "      <td>1.0</td>\n",
       "      <td>0.0</td>\n",
       "      <td>1.0</td>\n",
       "      <td>0.0</td>\n",
       "      <td>0.0</td>\n",
       "    </tr>\n",
       "    <tr>\n",
       "      <th>2</th>\n",
       "      <td>20000.0</td>\n",
       "      <td>0.0</td>\n",
       "      <td>28.0</td>\n",
       "      <td>-416.0</td>\n",
       "      <td>1.0</td>\n",
       "      <td>0.0</td>\n",
       "      <td>1.0</td>\n",
       "      <td>0.0</td>\n",
       "      <td>1.0</td>\n",
       "      <td>1.0</td>\n",
       "      <td>...</td>\n",
       "      <td>0.0</td>\n",
       "      <td>0.0</td>\n",
       "      <td>0.0</td>\n",
       "      <td>0.0</td>\n",
       "      <td>0.0</td>\n",
       "      <td>0.0</td>\n",
       "      <td>0.0</td>\n",
       "      <td>1.0</td>\n",
       "      <td>1.0</td>\n",
       "      <td>1.0</td>\n",
       "    </tr>\n",
       "    <tr>\n",
       "      <th>3</th>\n",
       "      <td>50000.0</td>\n",
       "      <td>1.0</td>\n",
       "      <td>23.0</td>\n",
       "      <td>47099.0</td>\n",
       "      <td>1.0</td>\n",
       "      <td>1.0</td>\n",
       "      <td>1.0</td>\n",
       "      <td>0.0</td>\n",
       "      <td>1.0</td>\n",
       "      <td>1.0</td>\n",
       "      <td>...</td>\n",
       "      <td>0.0</td>\n",
       "      <td>0.0</td>\n",
       "      <td>0.0</td>\n",
       "      <td>0.0</td>\n",
       "      <td>0.0</td>\n",
       "      <td>0.0</td>\n",
       "      <td>0.0</td>\n",
       "      <td>1.0</td>\n",
       "      <td>0.0</td>\n",
       "      <td>0.0</td>\n",
       "    </tr>\n",
       "    <tr>\n",
       "      <th>4</th>\n",
       "      <td>20000.0</td>\n",
       "      <td>1.0</td>\n",
       "      <td>47.0</td>\n",
       "      <td>-390.0</td>\n",
       "      <td>1.0</td>\n",
       "      <td>0.0</td>\n",
       "      <td>1.0</td>\n",
       "      <td>1.0</td>\n",
       "      <td>1.0</td>\n",
       "      <td>1.0</td>\n",
       "      <td>...</td>\n",
       "      <td>0.0</td>\n",
       "      <td>0.0</td>\n",
       "      <td>0.0</td>\n",
       "      <td>0.0</td>\n",
       "      <td>0.0</td>\n",
       "      <td>0.0</td>\n",
       "      <td>0.0</td>\n",
       "      <td>0.0</td>\n",
       "      <td>0.0</td>\n",
       "      <td>0.0</td>\n",
       "    </tr>\n",
       "    <tr>\n",
       "      <th>...</th>\n",
       "      <td>...</td>\n",
       "      <td>...</td>\n",
       "      <td>...</td>\n",
       "      <td>...</td>\n",
       "      <td>...</td>\n",
       "      <td>...</td>\n",
       "      <td>...</td>\n",
       "      <td>...</td>\n",
       "      <td>...</td>\n",
       "      <td>...</td>\n",
       "      <td>...</td>\n",
       "      <td>...</td>\n",
       "      <td>...</td>\n",
       "      <td>...</td>\n",
       "      <td>...</td>\n",
       "      <td>...</td>\n",
       "      <td>...</td>\n",
       "      <td>...</td>\n",
       "      <td>...</td>\n",
       "      <td>...</td>\n",
       "      <td>...</td>\n",
       "    </tr>\n",
       "    <tr>\n",
       "      <th>22495</th>\n",
       "      <td>50000.0</td>\n",
       "      <td>0.0</td>\n",
       "      <td>50.0</td>\n",
       "      <td>19956.0</td>\n",
       "      <td>1.0</td>\n",
       "      <td>1.0</td>\n",
       "      <td>1.0</td>\n",
       "      <td>1.0</td>\n",
       "      <td>1.0</td>\n",
       "      <td>1.0</td>\n",
       "      <td>...</td>\n",
       "      <td>0.0</td>\n",
       "      <td>0.0</td>\n",
       "      <td>0.0</td>\n",
       "      <td>0.0</td>\n",
       "      <td>0.0</td>\n",
       "      <td>0.0</td>\n",
       "      <td>0.0</td>\n",
       "      <td>0.0</td>\n",
       "      <td>0.0</td>\n",
       "      <td>0.0</td>\n",
       "    </tr>\n",
       "    <tr>\n",
       "      <th>22496</th>\n",
       "      <td>80000.0</td>\n",
       "      <td>0.0</td>\n",
       "      <td>53.0</td>\n",
       "      <td>46158.0</td>\n",
       "      <td>1.0</td>\n",
       "      <td>1.0</td>\n",
       "      <td>1.0</td>\n",
       "      <td>1.0</td>\n",
       "      <td>1.0</td>\n",
       "      <td>1.0</td>\n",
       "      <td>...</td>\n",
       "      <td>0.0</td>\n",
       "      <td>0.0</td>\n",
       "      <td>0.0</td>\n",
       "      <td>0.0</td>\n",
       "      <td>0.0</td>\n",
       "      <td>0.0</td>\n",
       "      <td>0.0</td>\n",
       "      <td>0.0</td>\n",
       "      <td>0.0</td>\n",
       "      <td>0.0</td>\n",
       "    </tr>\n",
       "    <tr>\n",
       "      <th>22497</th>\n",
       "      <td>50000.0</td>\n",
       "      <td>0.0</td>\n",
       "      <td>50.0</td>\n",
       "      <td>49142.0</td>\n",
       "      <td>1.0</td>\n",
       "      <td>1.0</td>\n",
       "      <td>1.0</td>\n",
       "      <td>1.0</td>\n",
       "      <td>1.0</td>\n",
       "      <td>1.0</td>\n",
       "      <td>...</td>\n",
       "      <td>0.0</td>\n",
       "      <td>0.0</td>\n",
       "      <td>0.0</td>\n",
       "      <td>0.0</td>\n",
       "      <td>0.0</td>\n",
       "      <td>0.0</td>\n",
       "      <td>0.0</td>\n",
       "      <td>0.0</td>\n",
       "      <td>0.0</td>\n",
       "      <td>0.0</td>\n",
       "    </tr>\n",
       "    <tr>\n",
       "      <th>22498</th>\n",
       "      <td>220000.0</td>\n",
       "      <td>1.0</td>\n",
       "      <td>32.0</td>\n",
       "      <td>198264.0</td>\n",
       "      <td>0.0</td>\n",
       "      <td>1.0</td>\n",
       "      <td>1.0</td>\n",
       "      <td>1.0</td>\n",
       "      <td>1.0</td>\n",
       "      <td>1.0</td>\n",
       "      <td>...</td>\n",
       "      <td>0.0</td>\n",
       "      <td>0.0</td>\n",
       "      <td>0.0</td>\n",
       "      <td>0.0</td>\n",
       "      <td>0.0</td>\n",
       "      <td>0.0</td>\n",
       "      <td>0.0</td>\n",
       "      <td>0.0</td>\n",
       "      <td>0.0</td>\n",
       "      <td>0.0</td>\n",
       "    </tr>\n",
       "    <tr>\n",
       "      <th>22499</th>\n",
       "      <td>130000.0</td>\n",
       "      <td>1.0</td>\n",
       "      <td>39.0</td>\n",
       "      <td>0.0</td>\n",
       "      <td>1.0</td>\n",
       "      <td>1.0</td>\n",
       "      <td>1.0</td>\n",
       "      <td>1.0</td>\n",
       "      <td>1.0</td>\n",
       "      <td>1.0</td>\n",
       "      <td>...</td>\n",
       "      <td>0.0</td>\n",
       "      <td>0.0</td>\n",
       "      <td>0.0</td>\n",
       "      <td>0.0</td>\n",
       "      <td>0.0</td>\n",
       "      <td>0.0</td>\n",
       "      <td>0.0</td>\n",
       "      <td>0.0</td>\n",
       "      <td>0.0</td>\n",
       "      <td>1.0</td>\n",
       "    </tr>\n",
       "  </tbody>\n",
       "</table>\n",
       "<p>22500 rows × 135 columns</p>\n",
       "</div>"
      ],
      "text/plain": [
       "       LIMIT_BAL  SEX   AGE  September_balance  Min_payment_sep  \\\n",
       "0       200000.0  0.0  30.0           133727.0              1.0   \n",
       "1       200000.0  0.0  27.0                0.0              1.0   \n",
       "2        20000.0  0.0  28.0             -416.0              1.0   \n",
       "3        50000.0  1.0  23.0            47099.0              1.0   \n",
       "4        20000.0  1.0  47.0             -390.0              1.0   \n",
       "...          ...  ...   ...                ...              ...   \n",
       "22495    50000.0  0.0  50.0            19956.0              1.0   \n",
       "22496    80000.0  0.0  53.0            46158.0              1.0   \n",
       "22497    50000.0  0.0  50.0            49142.0              1.0   \n",
       "22498   220000.0  1.0  32.0           198264.0              0.0   \n",
       "22499   130000.0  1.0  39.0                0.0              1.0   \n",
       "\n",
       "       Min_payment_aug  Min_payment_jul  Min_payment_jun  Min_payment_may  \\\n",
       "0                  1.0              1.0              1.0              1.0   \n",
       "1                  1.0              1.0              1.0              1.0   \n",
       "2                  0.0              1.0              0.0              1.0   \n",
       "3                  1.0              1.0              0.0              1.0   \n",
       "4                  0.0              1.0              1.0              1.0   \n",
       "...                ...              ...              ...              ...   \n",
       "22495              1.0              1.0              1.0              1.0   \n",
       "22496              1.0              1.0              1.0              1.0   \n",
       "22497              1.0              1.0              1.0              1.0   \n",
       "22498              1.0              1.0              1.0              1.0   \n",
       "22499              1.0              1.0              1.0              1.0   \n",
       "\n",
       "       Min_payment_apr  ...  edu_3^2  edu_3 edu_4  edu_3 marriage_2  \\\n",
       "0                  0.0  ...      1.0          0.0               0.0   \n",
       "1                  1.0  ...      0.0          0.0               0.0   \n",
       "2                  1.0  ...      0.0          0.0               0.0   \n",
       "3                  1.0  ...      0.0          0.0               0.0   \n",
       "4                  1.0  ...      0.0          0.0               0.0   \n",
       "...                ...  ...      ...          ...               ...   \n",
       "22495              1.0  ...      0.0          0.0               0.0   \n",
       "22496              1.0  ...      0.0          0.0               0.0   \n",
       "22497              1.0  ...      0.0          0.0               0.0   \n",
       "22498              1.0  ...      0.0          0.0               0.0   \n",
       "22499              1.0  ...      0.0          0.0               0.0   \n",
       "\n",
       "       edu_3 Overall_status  edu_4^2  edu_4 marriage_2  edu_4 Overall_status  \\\n",
       "0                       6.0      0.0               0.0                   0.0   \n",
       "1                       0.0      1.0               1.0                   0.0   \n",
       "2                       0.0      0.0               0.0                   0.0   \n",
       "3                       0.0      0.0               0.0                   0.0   \n",
       "4                       0.0      0.0               0.0                   0.0   \n",
       "...                     ...      ...               ...                   ...   \n",
       "22495                   0.0      0.0               0.0                   0.0   \n",
       "22496                   0.0      0.0               0.0                   0.0   \n",
       "22497                   0.0      0.0               0.0                   0.0   \n",
       "22498                   0.0      0.0               0.0                   0.0   \n",
       "22499                   0.0      0.0               0.0                   0.0   \n",
       "\n",
       "       marriage_2^2  marriage_2 Overall_status  Overall_status^2  \n",
       "0               0.0                        0.0              36.0  \n",
       "1               1.0                        0.0               0.0  \n",
       "2               1.0                        1.0               1.0  \n",
       "3               1.0                        0.0               0.0  \n",
       "4               0.0                        0.0               0.0  \n",
       "...             ...                        ...               ...  \n",
       "22495           0.0                        0.0               0.0  \n",
       "22496           0.0                        0.0               0.0  \n",
       "22497           0.0                        0.0               0.0  \n",
       "22498           0.0                        0.0               0.0  \n",
       "22499           0.0                        0.0               1.0  \n",
       "\n",
       "[22500 rows x 135 columns]"
      ]
     },
     "execution_count": 21,
     "metadata": {},
     "output_type": "execute_result"
    }
   ],
   "source": [
    "X_poly_df"
   ]
  },
  {
   "cell_type": "code",
   "execution_count": 22,
   "metadata": {},
   "outputs": [],
   "source": [
    "X_train_poly, X_test_poly, y_train_poly, y_test_poly = train_test_split(X_poly_df, y_2, test_size=0.25, \n",
    "                                                            random_state=23)"
   ]
  },
  {
   "cell_type": "code",
   "execution_count": 23,
   "metadata": {},
   "outputs": [],
   "source": [
    "scaler_poly = StandardScaler()\n",
    "scaler_poly.fit(X_train_poly)\n",
    "X_train_poly = pd.DataFrame(data=scaler_poly.transform(X_train_poly), columns = X_poly_df.columns)\n",
    "X_test_poly = pd.DataFrame(data=scaler_poly.transform(X_test_poly), columns = X_poly_df.columns)"
   ]
  },
  {
   "cell_type": "code",
   "execution_count": null,
   "metadata": {},
   "outputs": [],
   "source": []
  },
  {
   "cell_type": "code",
   "execution_count": 36,
   "metadata": {},
   "outputs": [],
   "source": [
    "rfc_poly = RandomForestClassifier(criterion = 'entropy', max_depth = 7, n_estimators = 250, \n",
    "                             min_samples_leaf = 8, min_samples_split = 2, random_state = 1, \n",
    "                             class_weight='balanced', bootstrap=False, n_jobs=-1)"
   ]
  },
  {
   "cell_type": "code",
   "execution_count": 37,
   "metadata": {},
   "outputs": [],
   "source": [
    "#fit the model to the training data\n",
    "rfc_poly.fit(X_train_poly, y_train_poly)\n",
    "#use the fitted model to predict on the test data\n",
    "rfc_pred_poly = rfc_poly.predict(X_test_poly)"
   ]
  },
  {
   "cell_type": "code",
   "execution_count": 38,
   "metadata": {},
   "outputs": [
    {
     "name": "stdout",
     "output_type": "stream",
     "text": [
      "Test Accuracy score:  0.7368888888888889\n",
      "Precision score:  0.4476138233680746\n",
      "Recall score:  0.6330488750969744\n",
      "Test F1 score:  0.5244215938303342\n"
     ]
    }
   ],
   "source": [
    "# checking accuracy\n",
    "print('Test Accuracy score: ', accuracy_score(y_test_poly, rfc_pred_poly))\n",
    "\n",
    "# checking precision\n",
    "print('Precision score: ', metrics.precision_score(y_test_poly, rfc_pred_poly))\n",
    "\n",
    "# Checking recall\n",
    "print('Recall score: ', metrics.recall_score(y_test_poly, rfc_pred_poly))\n",
    "\n",
    "# checking accuracy\n",
    "print('Test F1 score: ', f1_score(y_test_poly, rfc_pred_poly))"
   ]
  },
  {
   "cell_type": "code",
   "execution_count": null,
   "metadata": {},
   "outputs": [],
   "source": []
  }
 ],
 "metadata": {
  "kernelspec": {
   "display_name": "Python 3",
   "language": "python",
   "name": "python3"
  },
  "language_info": {
   "codemirror_mode": {
    "name": "ipython",
    "version": 3
   },
   "file_extension": ".py",
   "mimetype": "text/x-python",
   "name": "python",
   "nbconvert_exporter": "python",
   "pygments_lexer": "ipython3",
   "version": "3.7.6"
  }
 },
 "nbformat": 4,
 "nbformat_minor": 4
}
