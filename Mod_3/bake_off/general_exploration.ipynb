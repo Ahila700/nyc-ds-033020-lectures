{
 "cells": [
  {
   "cell_type": "code",
   "execution_count": 143,
   "metadata": {},
   "outputs": [],
   "source": [
    "import pandas as pd\n",
    "import numpy as np\n",
    "\n",
    "import seaborn as sns\n",
    "sns.set(context='paper', style='darkgrid', rc={'figure.facecolor':'white'}, font_scale=1.2)\n",
    "\n",
    "import matplotlib.pyplot as plt\n",
    "%matplotlib inline"
   ]
  },
  {
   "cell_type": "code",
   "execution_count": 144,
   "metadata": {},
   "outputs": [],
   "source": [
    "df = pd.read_csv('dataset.csv', index_col = 0)"
   ]
  },
  {
   "cell_type": "code",
   "execution_count": 145,
   "metadata": {},
   "outputs": [],
   "source": [
    "df.rename(columns = {'default payment next month': 'Default',\n",
    "                     'BILL_AMT1': 'September_bill',\n",
    "                     'BILL_AMT2': 'August_bill',\n",
    "                     'BILL_AMT3': 'July_bill',\n",
    "                     'BILL_AMT4': 'June_bill',\n",
    "                     'BILL_AMT5': 'May_bill',\n",
    "                     'BILL_AMT6': 'April_bill', \n",
    "                     'PAY_0': 'September_status',\n",
    "                     'PAY_2': 'August_status',\n",
    "                     'PAY_3': 'July_status',\n",
    "                     'PAY_4': 'June_status',\n",
    "                     'PAY_5': 'May_status',\n",
    "                     'PAY_6': 'April_status',\n",
    "                     'PAY_AMT1': 'September_payment',\n",
    "                     'PAY_AMT2': 'August_payment',\n",
    "                     'PAY_AMT3': 'July_payment',\n",
    "                     'PAY_AMT4': 'June_payment',\n",
    "                     'PAY_AMT5': 'May_payment',\n",
    "                     'PAY_AMT6': 'April_payment',}, inplace = True)"
   ]
  },
  {
   "cell_type": "code",
   "execution_count": 146,
   "metadata": {},
   "outputs": [],
   "source": [
    "df['SEX'] = np.where(df['SEX'] == 1, 1, 0)"
   ]
  },
  {
   "cell_type": "code",
   "execution_count": 147,
   "metadata": {},
   "outputs": [],
   "source": [
    "edu_dict = {1: 1,\n",
    "           2: 2,\n",
    "           3: 3,\n",
    "           4: 4,\n",
    "           0: 4, \n",
    "           5: 4, \n",
    "           6: 4}\n",
    "\n",
    "df['EDUCATION'] = df['EDUCATION'].replace(edu_dict)"
   ]
  },
  {
   "cell_type": "code",
   "execution_count": 148,
   "metadata": {},
   "outputs": [],
   "source": [
    "marriage_dict = {0: 2,\n",
    "                1:1,\n",
    "                2:2,\n",
    "                3:2}\n",
    "\n",
    "df['MARRIAGE'] = df['MARRIAGE'].replace(marriage_dict)"
   ]
  },
  {
   "cell_type": "code",
   "execution_count": 149,
   "metadata": {},
   "outputs": [],
   "source": [
    "status_dict = {-2:-1}\n",
    "\n",
    "df['September_status'] = df['September_status'].replace(status_dict)\n",
    "df['August_status'] = df['August_status'].replace(status_dict)\n",
    "df['July_status'] = df['July_status'].replace(status_dict)\n",
    "df['June_status'] = df['June_status'].replace(status_dict)\n",
    "df['May_status'] = df['May_status'].replace(status_dict)\n",
    "df['April_status'] = df['April_status'].replace(status_dict)"
   ]
  },
  {
   "cell_type": "code",
   "execution_count": null,
   "metadata": {},
   "outputs": [],
   "source": []
  },
  {
   "cell_type": "code",
   "execution_count": 131,
   "metadata": {},
   "outputs": [],
   "source": [
    "default = df[df['Default'] == 1]\n",
    "no_default = df[df['Default'] == 0]"
   ]
  },
  {
   "cell_type": "code",
   "execution_count": 132,
   "metadata": {},
   "outputs": [
    {
     "data": {
      "text/plain": [
       "4977"
      ]
     },
     "execution_count": 132,
     "metadata": {},
     "output_type": "execute_result"
    }
   ],
   "source": [
    "len(default)"
   ]
  },
  {
   "cell_type": "code",
   "execution_count": 133,
   "metadata": {},
   "outputs": [
    {
     "data": {
      "text/plain": [
       "17523"
      ]
     },
     "execution_count": 133,
     "metadata": {},
     "output_type": "execute_result"
    }
   ],
   "source": [
    "len(no_default)"
   ]
  },
  {
   "cell_type": "markdown",
   "metadata": {},
   "source": [
    "___"
   ]
  },
  {
   "cell_type": "markdown",
   "metadata": {},
   "source": [
    "# Possibility to use this to organize the payments made for known bill amounts"
   ]
  },
  {
   "cell_type": "code",
   "execution_count": null,
   "metadata": {},
   "outputs": [],
   "source": [
    "Bills_for_payments = [(df['BILL_AMT2'][i] + df['BILL_AMT3'][i] + df['BILL_AMT4'][i] + \n",
    "                       df['BILL_AMT5'][i] + df['BILL_AMT6'][i]) for i in range(len(df['BILL_AMT1']))]"
   ]
  },
  {
   "cell_type": "code",
   "execution_count": null,
   "metadata": {},
   "outputs": [],
   "source": [
    "df['bill_for_known_payments'] = Bills_for_payments"
   ]
  },
  {
   "cell_type": "code",
   "execution_count": null,
   "metadata": {},
   "outputs": [],
   "source": []
  },
  {
   "cell_type": "code",
   "execution_count": null,
   "metadata": {},
   "outputs": [],
   "source": [
    "Payments_for_bills = [(df['PAY_AMT1'][i] + df['PAY_AMT2'][i] + df['PAY_AMT3'][i] + \n",
    "                       df['PAY_AMT4'][i] + df['PAY_AMT5'][i]) for i in range(len(df['PAY_AMT1']))]"
   ]
  },
  {
   "cell_type": "code",
   "execution_count": null,
   "metadata": {},
   "outputs": [],
   "source": [
    "df['payments_for_known_bills'] = Payments_for_bills"
   ]
  },
  {
   "cell_type": "code",
   "execution_count": null,
   "metadata": {},
   "outputs": [],
   "source": []
  },
  {
   "cell_type": "code",
   "execution_count": null,
   "metadata": {},
   "outputs": [],
   "source": [
    "df['balance_left'] = [df['payments_for_known_bills'][i] - df['bill_for_known_payments'][i] \n",
    "                      for i in range(len(df['bill_for_known_payments']))]"
   ]
  },
  {
   "cell_type": "code",
   "execution_count": null,
   "metadata": {},
   "outputs": [],
   "source": [
    "df['balance_left'].describe()"
   ]
  },
  {
   "cell_type": "markdown",
   "metadata": {},
   "source": [
    "___"
   ]
  },
  {
   "cell_type": "markdown",
   "metadata": {},
   "source": [
    "# General EDA to find any kind of correlation"
   ]
  },
  {
   "cell_type": "code",
   "execution_count": 44,
   "metadata": {},
   "outputs": [],
   "source": [
    "columns = df.columns"
   ]
  },
  {
   "cell_type": "code",
   "execution_count": 45,
   "metadata": {},
   "outputs": [
    {
     "name": "stdout",
     "output_type": "stream",
     "text": [
      "LIMIT_BAL [10000, 16000, 20000, 30000, 40000, 50000, 60000, 70000, 80000, 90000, 100000, 110000, 120000, 130000, 140000, 150000, 160000, 170000, 180000, 190000, 200000, 210000, 220000, 230000, 240000, 250000, 260000, 270000, 280000, 290000, 300000, 310000, 320000, 327680, 330000, 340000, 350000, 360000, 370000, 380000, 390000, 400000, 410000, 420000, 430000, 440000, 450000, 460000, 470000, 480000, 490000, 500000, 510000, 520000, 530000, 540000, 550000, 560000, 570000, 580000, 590000, 600000, 610000, 620000, 630000, 640000, 650000, 660000, 670000, 680000, 700000, 710000, 720000, 750000, 760000, 780000, 800000, 1000000]\n",
      "SEX [0, 1]\n",
      "EDUCATION [1, 2, 3, 4]\n",
      "MARRIAGE [1, 2]\n",
      "AGE [21, 22, 23, 24, 25, 26, 27, 28, 29, 30, 31, 32, 33, 34, 35, 36, 37, 38, 39, 40, 41, 42, 43, 44, 45, 46, 47, 48, 49, 50, 51, 52, 53, 54, 55, 56, 57, 58, 59, 60, 61, 62, 63, 64, 65, 66, 67, 68, 69, 70, 71, 72, 73, 75, 79]\n",
      "September_status [0, 1, 2, 3, 4, 5, 6, 7, 8]\n",
      "August_status [0, 1, 2, 3, 4, 5, 6, 7]\n",
      "July_status [0, 1, 2, 3, 4, 5, 6, 7, 8]\n",
      "June_status [0, 1, 2, 3, 4, 5, 6, 7, 8]\n",
      "May_status [0, 2, 3, 4, 5, 6, 7, 8]\n",
      "April_status [0, 2, 3, 4, 5, 6, 7, 8]\n"
     ]
    }
   ],
   "source": [
    "for x in columns[:11]:\n",
    "    print(x, sorted(df[x].unique()))"
   ]
  },
  {
   "cell_type": "code",
   "execution_count": 46,
   "metadata": {},
   "outputs": [
    {
     "data": {
      "text/plain": [
       "<matplotlib.axes._subplots.AxesSubplot at 0x1a207fb350>"
      ]
     },
     "execution_count": 46,
     "metadata": {},
     "output_type": "execute_result"
    },
    {
     "data": {
      "image/png": "[encoded data removed]",
      "text/plain": [
       "<Figure size 432x288 with 1 Axes>"
      ]
     },
     "metadata": {
      "needs_background": "light"
     },
     "output_type": "display_data"
    }
   ],
   "source": [
    "df.groupby('Default')['LIMIT_BAL'].mean().plot.bar(legend = False)"
   ]
  },
  {
   "cell_type": "code",
   "execution_count": null,
   "metadata": {},
   "outputs": [],
   "source": []
  },
  {
   "cell_type": "code",
   "execution_count": 47,
   "metadata": {},
   "outputs": [
    {
     "name": "stdout",
     "output_type": "stream",
     "text": [
      "Balance Limit vs Default\n",
      "\n",
      "\n",
      "Defaulted\n",
      "count      4977.000000\n",
      "mean     130644.500703\n",
      "std      115953.954395\n",
      "min       10000.000000\n",
      "25%       50000.000000\n",
      "50%       90000.000000\n",
      "75%      200000.000000\n",
      "max      710000.000000\n",
      "Name: LIMIT_BAL, dtype: float64\n",
      "--------------------------------------------------------------------------------\n",
      "Did Not Default\n",
      "             count           mean            std      min      25%       50%  \\\n",
      "LIMIT_BAL  17523.0  177669.120584  131101.523616  10000.0  60000.0  150000.0   \n",
      "\n",
      "                75%        max  \n",
      "LIMIT_BAL  250000.0  1000000.0  \n"
     ]
    },
    {
     "data": {
      "text/plain": [
       "<matplotlib.legend.Legend at 0x1a20a0a710>"
      ]
     },
     "execution_count": 47,
     "metadata": {},
     "output_type": "execute_result"
    },
    {
     "data": {
      "image/png": "[encoded data removed]",
      "text/plain": [
       "<Figure size 1152x1008 with 1 Axes>"
      ]
     },
     "metadata": {},
     "output_type": "display_data"
    }
   ],
   "source": [
    "print('Balance Limit vs Default')\n",
    "print('\\n')\n",
    "print('Defaulted')\n",
    "print(df[df['Default']==1]['LIMIT_BAL'].describe().transpose())\n",
    "print('--'*40)\n",
    "print('Did Not Default')\n",
    "print(df[df['Default']==0][['LIMIT_BAL']].describe().transpose())\n",
    "# Subplots of Numeric Features\n",
    "sns.set_style('darkgrid')\n",
    "fig = plt.figure(figsize = (16,14))\n",
    "fig.subplots_adjust(hspace = .30)\n",
    "\n",
    "ax1 = fig.add_subplot(221)\n",
    "ax1.hist(df[df['Default'] ==0].LIMIT_BAL, bins = 15, label ='Did Not Default',density=True,  alpha = .50,edgecolor= 'black',color ='grey')\n",
    "ax1.hist(df[df['Default']==1].LIMIT_BAL, bins = 15, label = 'Defaulted', density=True, alpha = .50, edgecolor = 'black',color = 'lightgreen')\n",
    "ax1.set_title('Balance Limit vs Default')\n",
    "ax1.set_xlabel('Balance')\n",
    "ax1.set_ylabel('Default Status')\n",
    "ax1.legend(loc = 'upper right')"
   ]
  },
  {
   "cell_type": "code",
   "execution_count": null,
   "metadata": {},
   "outputs": [],
   "source": []
  },
  {
   "cell_type": "code",
   "execution_count": 48,
   "metadata": {},
   "outputs": [
    {
     "data": {
      "text/plain": [
       "<matplotlib.axes._subplots.AxesSubplot at 0x1a200ded10>"
      ]
     },
     "execution_count": 48,
     "metadata": {},
     "output_type": "execute_result"
    },
    {
     "data": {
      "image/png": "[encoded data removed]",
      "text/plain": [
       "<Figure size 792x648 with 2 Axes>"
      ]
     },
     "metadata": {},
     "output_type": "display_data"
    }
   ],
   "source": [
    "sns.set(style=\"white\")\n",
    "\n",
    "\n",
    "# Compute the correlation matrix\n",
    "corr = np.abs(df.corr())\n",
    "\n",
    "# Generate a mask for the upper triangle\n",
    "mask = np.zeros_like(corr, dtype=np.bool)\n",
    "mask[np.triu_indices_from(mask)] = True\n",
    "\n",
    "# Set up the matplotlib figure\n",
    "f, ax = plt.subplots(figsize=(11, 9))\n",
    "\n",
    "# Generate a custom diverging colormap\n",
    "cmap = sns.diverging_palette(220, 10, as_cmap=True)\n",
    "\n",
    "# Draw the heatmap with the mask and correct aspect ratio\n",
    "sns.heatmap(corr, mask=mask, cmap=cmap, vmax=1, center=0,\n",
    "            square=True, linewidths=.5, cbar_kws={\"shrink\": .5})"
   ]
  },
  {
   "cell_type": "code",
   "execution_count": 49,
   "metadata": {},
   "outputs": [
    {
     "data": {
      "text/html": [
       "<div>\n",
       "<style scoped>\n",
       "    .dataframe tbody tr th:only-of-type {\n",
       "        vertical-align: middle;\n",
       "    }\n",
       "\n",
       "    .dataframe tbody tr th {\n",
       "        vertical-align: top;\n",
       "    }\n",
       "\n",
       "    .dataframe thead th {\n",
       "        text-align: right;\n",
       "    }\n",
       "</style>\n",
       "<table border=\"1\" class=\"dataframe\">\n",
       "  <thead>\n",
       "    <tr style=\"text-align: right;\">\n",
       "      <th></th>\n",
       "      <th>LIMIT_BAL</th>\n",
       "      <th>SEX</th>\n",
       "      <th>EDUCATION</th>\n",
       "      <th>MARRIAGE</th>\n",
       "      <th>AGE</th>\n",
       "      <th>September_status</th>\n",
       "      <th>August_status</th>\n",
       "      <th>July_status</th>\n",
       "      <th>June_status</th>\n",
       "      <th>May_status</th>\n",
       "      <th>...</th>\n",
       "      <th>June_bill</th>\n",
       "      <th>May_bill</th>\n",
       "      <th>April_bill</th>\n",
       "      <th>August_payment</th>\n",
       "      <th>July_payment</th>\n",
       "      <th>June_payment</th>\n",
       "      <th>May_payment</th>\n",
       "      <th>April_payment</th>\n",
       "      <th>March_payment</th>\n",
       "      <th>Default</th>\n",
       "    </tr>\n",
       "  </thead>\n",
       "  <tbody>\n",
       "    <tr>\n",
       "      <th>LIMIT_BAL</th>\n",
       "      <td>NaN</td>\n",
       "      <td>0.027786</td>\n",
       "      <td>0.229968</td>\n",
       "      <td>0.102951</td>\n",
       "      <td>0.144338</td>\n",
       "      <td>0.170397</td>\n",
       "      <td>0.199425</td>\n",
       "      <td>0.192759</td>\n",
       "      <td>0.181867</td>\n",
       "      <td>0.169835</td>\n",
       "      <td>...</td>\n",
       "      <td>0.297081</td>\n",
       "      <td>0.299122</td>\n",
       "      <td>0.292186</td>\n",
       "      <td>0.193930</td>\n",
       "      <td>0.185436</td>\n",
       "      <td>0.207461</td>\n",
       "      <td>0.204746</td>\n",
       "      <td>0.213842</td>\n",
       "      <td>0.218610</td>\n",
       "      <td>0.150855</td>\n",
       "    </tr>\n",
       "    <tr>\n",
       "      <th>SEX</th>\n",
       "      <td>NaN</td>\n",
       "      <td>NaN</td>\n",
       "      <td>0.012341</td>\n",
       "      <td>0.032335</td>\n",
       "      <td>0.084107</td>\n",
       "      <td>0.038133</td>\n",
       "      <td>0.044348</td>\n",
       "      <td>0.040899</td>\n",
       "      <td>0.035832</td>\n",
       "      <td>0.036120</td>\n",
       "      <td>...</td>\n",
       "      <td>0.024464</td>\n",
       "      <td>0.017746</td>\n",
       "      <td>0.015860</td>\n",
       "      <td>0.000013</td>\n",
       "      <td>0.005674</td>\n",
       "      <td>0.009696</td>\n",
       "      <td>0.002076</td>\n",
       "      <td>0.000857</td>\n",
       "      <td>0.001893</td>\n",
       "      <td>0.037813</td>\n",
       "    </tr>\n",
       "    <tr>\n",
       "      <th>EDUCATION</th>\n",
       "      <td>NaN</td>\n",
       "      <td>NaN</td>\n",
       "      <td>NaN</td>\n",
       "      <td>0.157385</td>\n",
       "      <td>0.183950</td>\n",
       "      <td>0.055678</td>\n",
       "      <td>0.066075</td>\n",
       "      <td>0.054580</td>\n",
       "      <td>0.054482</td>\n",
       "      <td>0.043600</td>\n",
       "      <td>...</td>\n",
       "      <td>0.005997</td>\n",
       "      <td>0.012500</td>\n",
       "      <td>0.012906</td>\n",
       "      <td>0.039463</td>\n",
       "      <td>0.032871</td>\n",
       "      <td>0.042329</td>\n",
       "      <td>0.043992</td>\n",
       "      <td>0.044212</td>\n",
       "      <td>0.043254</td>\n",
       "      <td>0.033165</td>\n",
       "    </tr>\n",
       "    <tr>\n",
       "      <th>MARRIAGE</th>\n",
       "      <td>NaN</td>\n",
       "      <td>NaN</td>\n",
       "      <td>NaN</td>\n",
       "      <td>NaN</td>\n",
       "      <td>0.451852</td>\n",
       "      <td>0.011342</td>\n",
       "      <td>0.006298</td>\n",
       "      <td>0.009391</td>\n",
       "      <td>0.004839</td>\n",
       "      <td>0.000280</td>\n",
       "      <td>...</td>\n",
       "      <td>0.019037</td>\n",
       "      <td>0.021270</td>\n",
       "      <td>0.015427</td>\n",
       "      <td>0.009963</td>\n",
       "      <td>0.007302</td>\n",
       "      <td>0.000064</td>\n",
       "      <td>0.010458</td>\n",
       "      <td>0.001284</td>\n",
       "      <td>0.009989</td>\n",
       "      <td>0.028126</td>\n",
       "    </tr>\n",
       "    <tr>\n",
       "      <th>AGE</th>\n",
       "      <td>NaN</td>\n",
       "      <td>NaN</td>\n",
       "      <td>NaN</td>\n",
       "      <td>NaN</td>\n",
       "      <td>NaN</td>\n",
       "      <td>0.006097</td>\n",
       "      <td>0.017187</td>\n",
       "      <td>0.024716</td>\n",
       "      <td>0.019337</td>\n",
       "      <td>0.019285</td>\n",
       "      <td>...</td>\n",
       "      <td>0.045040</td>\n",
       "      <td>0.045188</td>\n",
       "      <td>0.043316</td>\n",
       "      <td>0.025407</td>\n",
       "      <td>0.020186</td>\n",
       "      <td>0.025558</td>\n",
       "      <td>0.020936</td>\n",
       "      <td>0.022432</td>\n",
       "      <td>0.019743</td>\n",
       "      <td>0.014292</td>\n",
       "    </tr>\n",
       "    <tr>\n",
       "      <th>September_status</th>\n",
       "      <td>NaN</td>\n",
       "      <td>NaN</td>\n",
       "      <td>NaN</td>\n",
       "      <td>NaN</td>\n",
       "      <td>NaN</td>\n",
       "      <td>NaN</td>\n",
       "      <td>0.701373</td>\n",
       "      <td>0.515652</td>\n",
       "      <td>0.456734</td>\n",
       "      <td>0.422610</td>\n",
       "      <td>...</td>\n",
       "      <td>0.014271</td>\n",
       "      <td>0.021793</td>\n",
       "      <td>0.023517</td>\n",
       "      <td>0.076235</td>\n",
       "      <td>0.060359</td>\n",
       "      <td>0.061312</td>\n",
       "      <td>0.061979</td>\n",
       "      <td>0.054420</td>\n",
       "      <td>0.049963</td>\n",
       "      <td>0.390012</td>\n",
       "    </tr>\n",
       "    <tr>\n",
       "      <th>August_status</th>\n",
       "      <td>NaN</td>\n",
       "      <td>NaN</td>\n",
       "      <td>NaN</td>\n",
       "      <td>NaN</td>\n",
       "      <td>NaN</td>\n",
       "      <td>NaN</td>\n",
       "      <td>NaN</td>\n",
       "      <td>0.660066</td>\n",
       "      <td>0.506813</td>\n",
       "      <td>0.456269</td>\n",
       "      <td>...</td>\n",
       "      <td>0.028150</td>\n",
       "      <td>0.034576</td>\n",
       "      <td>0.038486</td>\n",
       "      <td>0.094364</td>\n",
       "      <td>0.059086</td>\n",
       "      <td>0.057071</td>\n",
       "      <td>0.054802</td>\n",
       "      <td>0.046234</td>\n",
       "      <td>0.043575</td>\n",
       "      <td>0.322132</td>\n",
       "    </tr>\n",
       "    <tr>\n",
       "      <th>July_status</th>\n",
       "      <td>NaN</td>\n",
       "      <td>NaN</td>\n",
       "      <td>NaN</td>\n",
       "      <td>NaN</td>\n",
       "      <td>NaN</td>\n",
       "      <td>NaN</td>\n",
       "      <td>NaN</td>\n",
       "      <td>NaN</td>\n",
       "      <td>0.678828</td>\n",
       "      <td>0.555382</td>\n",
       "      <td>...</td>\n",
       "      <td>0.014021</td>\n",
       "      <td>0.022425</td>\n",
       "      <td>0.026390</td>\n",
       "      <td>0.035931</td>\n",
       "      <td>0.077383</td>\n",
       "      <td>0.053305</td>\n",
       "      <td>0.052241</td>\n",
       "      <td>0.047787</td>\n",
       "      <td>0.047809</td>\n",
       "      <td>0.284630</td>\n",
       "    </tr>\n",
       "    <tr>\n",
       "      <th>June_status</th>\n",
       "      <td>NaN</td>\n",
       "      <td>NaN</td>\n",
       "      <td>NaN</td>\n",
       "      <td>NaN</td>\n",
       "      <td>NaN</td>\n",
       "      <td>NaN</td>\n",
       "      <td>NaN</td>\n",
       "      <td>NaN</td>\n",
       "      <td>NaN</td>\n",
       "      <td>0.749208</td>\n",
       "      <td>...</td>\n",
       "      <td>0.011905</td>\n",
       "      <td>0.023526</td>\n",
       "      <td>0.029351</td>\n",
       "      <td>0.054459</td>\n",
       "      <td>0.038797</td>\n",
       "      <td>0.071451</td>\n",
       "      <td>0.055331</td>\n",
       "      <td>0.051725</td>\n",
       "      <td>0.049951</td>\n",
       "      <td>0.268623</td>\n",
       "    </tr>\n",
       "    <tr>\n",
       "      <th>May_status</th>\n",
       "      <td>NaN</td>\n",
       "      <td>NaN</td>\n",
       "      <td>NaN</td>\n",
       "      <td>NaN</td>\n",
       "      <td>NaN</td>\n",
       "      <td>NaN</td>\n",
       "      <td>NaN</td>\n",
       "      <td>NaN</td>\n",
       "      <td>NaN</td>\n",
       "      <td>NaN</td>\n",
       "      <td>...</td>\n",
       "      <td>0.021841</td>\n",
       "      <td>0.032927</td>\n",
       "      <td>0.039986</td>\n",
       "      <td>0.052419</td>\n",
       "      <td>0.040766</td>\n",
       "      <td>0.036064</td>\n",
       "      <td>0.064632</td>\n",
       "      <td>0.051485</td>\n",
       "      <td>0.046551</td>\n",
       "      <td>0.257197</td>\n",
       "    </tr>\n",
       "    <tr>\n",
       "      <th>April_status</th>\n",
       "      <td>NaN</td>\n",
       "      <td>NaN</td>\n",
       "      <td>NaN</td>\n",
       "      <td>NaN</td>\n",
       "      <td>NaN</td>\n",
       "      <td>NaN</td>\n",
       "      <td>NaN</td>\n",
       "      <td>NaN</td>\n",
       "      <td>NaN</td>\n",
       "      <td>NaN</td>\n",
       "      <td>...</td>\n",
       "      <td>0.020734</td>\n",
       "      <td>0.041521</td>\n",
       "      <td>0.045647</td>\n",
       "      <td>0.045279</td>\n",
       "      <td>0.040316</td>\n",
       "      <td>0.036930</td>\n",
       "      <td>0.028018</td>\n",
       "      <td>0.066468</td>\n",
       "      <td>0.044485</td>\n",
       "      <td>0.246226</td>\n",
       "    </tr>\n",
       "    <tr>\n",
       "      <th>September_bill</th>\n",
       "      <td>NaN</td>\n",
       "      <td>NaN</td>\n",
       "      <td>NaN</td>\n",
       "      <td>NaN</td>\n",
       "      <td>NaN</td>\n",
       "      <td>NaN</td>\n",
       "      <td>NaN</td>\n",
       "      <td>NaN</td>\n",
       "      <td>NaN</td>\n",
       "      <td>NaN</td>\n",
       "      <td>...</td>\n",
       "      <td>0.857784</td>\n",
       "      <td>0.828507</td>\n",
       "      <td>0.804999</td>\n",
       "      <td>0.136506</td>\n",
       "      <td>0.107283</td>\n",
       "      <td>0.155979</td>\n",
       "      <td>0.164743</td>\n",
       "      <td>0.167295</td>\n",
       "      <td>0.182727</td>\n",
       "      <td>0.021522</td>\n",
       "    </tr>\n",
       "    <tr>\n",
       "      <th>August_bill</th>\n",
       "      <td>NaN</td>\n",
       "      <td>NaN</td>\n",
       "      <td>NaN</td>\n",
       "      <td>NaN</td>\n",
       "      <td>NaN</td>\n",
       "      <td>NaN</td>\n",
       "      <td>NaN</td>\n",
       "      <td>NaN</td>\n",
       "      <td>NaN</td>\n",
       "      <td>NaN</td>\n",
       "      <td>...</td>\n",
       "      <td>0.890731</td>\n",
       "      <td>0.859824</td>\n",
       "      <td>0.835563</td>\n",
       "      <td>0.279401</td>\n",
       "      <td>0.111341</td>\n",
       "      <td>0.150597</td>\n",
       "      <td>0.153807</td>\n",
       "      <td>0.157725</td>\n",
       "      <td>0.178077</td>\n",
       "      <td>0.015816</td>\n",
       "    </tr>\n",
       "    <tr>\n",
       "      <th>July_bill</th>\n",
       "      <td>NaN</td>\n",
       "      <td>NaN</td>\n",
       "      <td>NaN</td>\n",
       "      <td>NaN</td>\n",
       "      <td>NaN</td>\n",
       "      <td>NaN</td>\n",
       "      <td>NaN</td>\n",
       "      <td>NaN</td>\n",
       "      <td>NaN</td>\n",
       "      <td>NaN</td>\n",
       "      <td>...</td>\n",
       "      <td>0.931050</td>\n",
       "      <td>0.892082</td>\n",
       "      <td>0.861155</td>\n",
       "      <td>0.249550</td>\n",
       "      <td>0.285811</td>\n",
       "      <td>0.118394</td>\n",
       "      <td>0.143701</td>\n",
       "      <td>0.167073</td>\n",
       "      <td>0.182110</td>\n",
       "      <td>0.015825</td>\n",
       "    </tr>\n",
       "    <tr>\n",
       "      <th>June_bill</th>\n",
       "      <td>NaN</td>\n",
       "      <td>NaN</td>\n",
       "      <td>NaN</td>\n",
       "      <td>NaN</td>\n",
       "      <td>NaN</td>\n",
       "      <td>NaN</td>\n",
       "      <td>NaN</td>\n",
       "      <td>NaN</td>\n",
       "      <td>NaN</td>\n",
       "      <td>NaN</td>\n",
       "      <td>...</td>\n",
       "      <td>NaN</td>\n",
       "      <td>0.941926</td>\n",
       "      <td>0.906645</td>\n",
       "      <td>0.237069</td>\n",
       "      <td>0.225549</td>\n",
       "      <td>0.303130</td>\n",
       "      <td>0.134379</td>\n",
       "      <td>0.163703</td>\n",
       "      <td>0.177918</td>\n",
       "      <td>0.010929</td>\n",
       "    </tr>\n",
       "    <tr>\n",
       "      <th>May_bill</th>\n",
       "      <td>NaN</td>\n",
       "      <td>NaN</td>\n",
       "      <td>NaN</td>\n",
       "      <td>NaN</td>\n",
       "      <td>NaN</td>\n",
       "      <td>NaN</td>\n",
       "      <td>NaN</td>\n",
       "      <td>NaN</td>\n",
       "      <td>NaN</td>\n",
       "      <td>NaN</td>\n",
       "      <td>...</td>\n",
       "      <td>NaN</td>\n",
       "      <td>NaN</td>\n",
       "      <td>0.950881</td>\n",
       "      <td>0.221649</td>\n",
       "      <td>0.196868</td>\n",
       "      <td>0.259311</td>\n",
       "      <td>0.294260</td>\n",
       "      <td>0.145210</td>\n",
       "      <td>0.159881</td>\n",
       "      <td>0.008143</td>\n",
       "    </tr>\n",
       "    <tr>\n",
       "      <th>April_bill</th>\n",
       "      <td>NaN</td>\n",
       "      <td>NaN</td>\n",
       "      <td>NaN</td>\n",
       "      <td>NaN</td>\n",
       "      <td>NaN</td>\n",
       "      <td>NaN</td>\n",
       "      <td>NaN</td>\n",
       "      <td>NaN</td>\n",
       "      <td>NaN</td>\n",
       "      <td>NaN</td>\n",
       "      <td>...</td>\n",
       "      <td>NaN</td>\n",
       "      <td>NaN</td>\n",
       "      <td>NaN</td>\n",
       "      <td>0.204553</td>\n",
       "      <td>0.175336</td>\n",
       "      <td>0.242105</td>\n",
       "      <td>0.250925</td>\n",
       "      <td>0.307377</td>\n",
       "      <td>0.115446</td>\n",
       "      <td>0.005646</td>\n",
       "    </tr>\n",
       "    <tr>\n",
       "      <th>August_payment</th>\n",
       "      <td>NaN</td>\n",
       "      <td>NaN</td>\n",
       "      <td>NaN</td>\n",
       "      <td>NaN</td>\n",
       "      <td>NaN</td>\n",
       "      <td>NaN</td>\n",
       "      <td>NaN</td>\n",
       "      <td>NaN</td>\n",
       "      <td>NaN</td>\n",
       "      <td>NaN</td>\n",
       "      <td>...</td>\n",
       "      <td>NaN</td>\n",
       "      <td>NaN</td>\n",
       "      <td>NaN</td>\n",
       "      <td>NaN</td>\n",
       "      <td>0.332131</td>\n",
       "      <td>0.260544</td>\n",
       "      <td>0.216752</td>\n",
       "      <td>0.158674</td>\n",
       "      <td>0.203589</td>\n",
       "      <td>0.069991</td>\n",
       "    </tr>\n",
       "    <tr>\n",
       "      <th>July_payment</th>\n",
       "      <td>NaN</td>\n",
       "      <td>NaN</td>\n",
       "      <td>NaN</td>\n",
       "      <td>NaN</td>\n",
       "      <td>NaN</td>\n",
       "      <td>NaN</td>\n",
       "      <td>NaN</td>\n",
       "      <td>NaN</td>\n",
       "      <td>NaN</td>\n",
       "      <td>NaN</td>\n",
       "      <td>...</td>\n",
       "      <td>NaN</td>\n",
       "      <td>NaN</td>\n",
       "      <td>NaN</td>\n",
       "      <td>NaN</td>\n",
       "      <td>NaN</td>\n",
       "      <td>0.262568</td>\n",
       "      <td>0.193870</td>\n",
       "      <td>0.142838</td>\n",
       "      <td>0.164044</td>\n",
       "      <td>0.060627</td>\n",
       "    </tr>\n",
       "    <tr>\n",
       "      <th>June_payment</th>\n",
       "      <td>NaN</td>\n",
       "      <td>NaN</td>\n",
       "      <td>NaN</td>\n",
       "      <td>NaN</td>\n",
       "      <td>NaN</td>\n",
       "      <td>NaN</td>\n",
       "      <td>NaN</td>\n",
       "      <td>NaN</td>\n",
       "      <td>NaN</td>\n",
       "      <td>NaN</td>\n",
       "      <td>...</td>\n",
       "      <td>NaN</td>\n",
       "      <td>NaN</td>\n",
       "      <td>NaN</td>\n",
       "      <td>NaN</td>\n",
       "      <td>NaN</td>\n",
       "      <td>NaN</td>\n",
       "      <td>0.222465</td>\n",
       "      <td>0.149540</td>\n",
       "      <td>0.167854</td>\n",
       "      <td>0.054457</td>\n",
       "    </tr>\n",
       "    <tr>\n",
       "      <th>May_payment</th>\n",
       "      <td>NaN</td>\n",
       "      <td>NaN</td>\n",
       "      <td>NaN</td>\n",
       "      <td>NaN</td>\n",
       "      <td>NaN</td>\n",
       "      <td>NaN</td>\n",
       "      <td>NaN</td>\n",
       "      <td>NaN</td>\n",
       "      <td>NaN</td>\n",
       "      <td>NaN</td>\n",
       "      <td>...</td>\n",
       "      <td>NaN</td>\n",
       "      <td>NaN</td>\n",
       "      <td>NaN</td>\n",
       "      <td>NaN</td>\n",
       "      <td>NaN</td>\n",
       "      <td>NaN</td>\n",
       "      <td>NaN</td>\n",
       "      <td>0.146475</td>\n",
       "      <td>0.166454</td>\n",
       "      <td>0.050218</td>\n",
       "    </tr>\n",
       "    <tr>\n",
       "      <th>April_payment</th>\n",
       "      <td>NaN</td>\n",
       "      <td>NaN</td>\n",
       "      <td>NaN</td>\n",
       "      <td>NaN</td>\n",
       "      <td>NaN</td>\n",
       "      <td>NaN</td>\n",
       "      <td>NaN</td>\n",
       "      <td>NaN</td>\n",
       "      <td>NaN</td>\n",
       "      <td>NaN</td>\n",
       "      <td>...</td>\n",
       "      <td>NaN</td>\n",
       "      <td>NaN</td>\n",
       "      <td>NaN</td>\n",
       "      <td>NaN</td>\n",
       "      <td>NaN</td>\n",
       "      <td>NaN</td>\n",
       "      <td>NaN</td>\n",
       "      <td>NaN</td>\n",
       "      <td>0.147535</td>\n",
       "      <td>0.052991</td>\n",
       "    </tr>\n",
       "    <tr>\n",
       "      <th>March_payment</th>\n",
       "      <td>NaN</td>\n",
       "      <td>NaN</td>\n",
       "      <td>NaN</td>\n",
       "      <td>NaN</td>\n",
       "      <td>NaN</td>\n",
       "      <td>NaN</td>\n",
       "      <td>NaN</td>\n",
       "      <td>NaN</td>\n",
       "      <td>NaN</td>\n",
       "      <td>NaN</td>\n",
       "      <td>...</td>\n",
       "      <td>NaN</td>\n",
       "      <td>NaN</td>\n",
       "      <td>NaN</td>\n",
       "      <td>NaN</td>\n",
       "      <td>NaN</td>\n",
       "      <td>NaN</td>\n",
       "      <td>NaN</td>\n",
       "      <td>NaN</td>\n",
       "      <td>NaN</td>\n",
       "      <td>0.052590</td>\n",
       "    </tr>\n",
       "    <tr>\n",
       "      <th>Default</th>\n",
       "      <td>NaN</td>\n",
       "      <td>NaN</td>\n",
       "      <td>NaN</td>\n",
       "      <td>NaN</td>\n",
       "      <td>NaN</td>\n",
       "      <td>NaN</td>\n",
       "      <td>NaN</td>\n",
       "      <td>NaN</td>\n",
       "      <td>NaN</td>\n",
       "      <td>NaN</td>\n",
       "      <td>...</td>\n",
       "      <td>NaN</td>\n",
       "      <td>NaN</td>\n",
       "      <td>NaN</td>\n",
       "      <td>NaN</td>\n",
       "      <td>NaN</td>\n",
       "      <td>NaN</td>\n",
       "      <td>NaN</td>\n",
       "      <td>NaN</td>\n",
       "      <td>NaN</td>\n",
       "      <td>NaN</td>\n",
       "    </tr>\n",
       "  </tbody>\n",
       "</table>\n",
       "<p>24 rows × 24 columns</p>\n",
       "</div>"
      ],
      "text/plain": [
       "                  LIMIT_BAL       SEX  EDUCATION  MARRIAGE       AGE  \\\n",
       "LIMIT_BAL               NaN  0.027786   0.229968  0.102951  0.144338   \n",
       "SEX                     NaN       NaN   0.012341  0.032335  0.084107   \n",
       "EDUCATION               NaN       NaN        NaN  0.157385  0.183950   \n",
       "MARRIAGE                NaN       NaN        NaN       NaN  0.451852   \n",
       "AGE                     NaN       NaN        NaN       NaN       NaN   \n",
       "September_status        NaN       NaN        NaN       NaN       NaN   \n",
       "August_status           NaN       NaN        NaN       NaN       NaN   \n",
       "July_status             NaN       NaN        NaN       NaN       NaN   \n",
       "June_status             NaN       NaN        NaN       NaN       NaN   \n",
       "May_status              NaN       NaN        NaN       NaN       NaN   \n",
       "April_status            NaN       NaN        NaN       NaN       NaN   \n",
       "September_bill          NaN       NaN        NaN       NaN       NaN   \n",
       "August_bill             NaN       NaN        NaN       NaN       NaN   \n",
       "July_bill               NaN       NaN        NaN       NaN       NaN   \n",
       "June_bill               NaN       NaN        NaN       NaN       NaN   \n",
       "May_bill                NaN       NaN        NaN       NaN       NaN   \n",
       "April_bill              NaN       NaN        NaN       NaN       NaN   \n",
       "August_payment          NaN       NaN        NaN       NaN       NaN   \n",
       "July_payment            NaN       NaN        NaN       NaN       NaN   \n",
       "June_payment            NaN       NaN        NaN       NaN       NaN   \n",
       "May_payment             NaN       NaN        NaN       NaN       NaN   \n",
       "April_payment           NaN       NaN        NaN       NaN       NaN   \n",
       "March_payment           NaN       NaN        NaN       NaN       NaN   \n",
       "Default                 NaN       NaN        NaN       NaN       NaN   \n",
       "\n",
       "                  September_status  August_status  July_status  June_status  \\\n",
       "LIMIT_BAL                 0.170397       0.199425     0.192759     0.181867   \n",
       "SEX                       0.038133       0.044348     0.040899     0.035832   \n",
       "EDUCATION                 0.055678       0.066075     0.054580     0.054482   \n",
       "MARRIAGE                  0.011342       0.006298     0.009391     0.004839   \n",
       "AGE                       0.006097       0.017187     0.024716     0.019337   \n",
       "September_status               NaN       0.701373     0.515652     0.456734   \n",
       "August_status                  NaN            NaN     0.660066     0.506813   \n",
       "July_status                    NaN            NaN          NaN     0.678828   \n",
       "June_status                    NaN            NaN          NaN          NaN   \n",
       "May_status                     NaN            NaN          NaN          NaN   \n",
       "April_status                   NaN            NaN          NaN          NaN   \n",
       "September_bill                 NaN            NaN          NaN          NaN   \n",
       "August_bill                    NaN            NaN          NaN          NaN   \n",
       "July_bill                      NaN            NaN          NaN          NaN   \n",
       "June_bill                      NaN            NaN          NaN          NaN   \n",
       "May_bill                       NaN            NaN          NaN          NaN   \n",
       "April_bill                     NaN            NaN          NaN          NaN   \n",
       "August_payment                 NaN            NaN          NaN          NaN   \n",
       "July_payment                   NaN            NaN          NaN          NaN   \n",
       "June_payment                   NaN            NaN          NaN          NaN   \n",
       "May_payment                    NaN            NaN          NaN          NaN   \n",
       "April_payment                  NaN            NaN          NaN          NaN   \n",
       "March_payment                  NaN            NaN          NaN          NaN   \n",
       "Default                        NaN            NaN          NaN          NaN   \n",
       "\n",
       "                  May_status  ...  June_bill  May_bill  April_bill  \\\n",
       "LIMIT_BAL           0.169835  ...   0.297081  0.299122    0.292186   \n",
       "SEX                 0.036120  ...   0.024464  0.017746    0.015860   \n",
       "EDUCATION           0.043600  ...   0.005997  0.012500    0.012906   \n",
       "MARRIAGE            0.000280  ...   0.019037  0.021270    0.015427   \n",
       "AGE                 0.019285  ...   0.045040  0.045188    0.043316   \n",
       "September_status    0.422610  ...   0.014271  0.021793    0.023517   \n",
       "August_status       0.456269  ...   0.028150  0.034576    0.038486   \n",
       "July_status         0.555382  ...   0.014021  0.022425    0.026390   \n",
       "June_status         0.749208  ...   0.011905  0.023526    0.029351   \n",
       "May_status               NaN  ...   0.021841  0.032927    0.039986   \n",
       "April_status             NaN  ...   0.020734  0.041521    0.045647   \n",
       "September_bill           NaN  ...   0.857784  0.828507    0.804999   \n",
       "August_bill              NaN  ...   0.890731  0.859824    0.835563   \n",
       "July_bill                NaN  ...   0.931050  0.892082    0.861155   \n",
       "June_bill                NaN  ...        NaN  0.941926    0.906645   \n",
       "May_bill                 NaN  ...        NaN       NaN    0.950881   \n",
       "April_bill               NaN  ...        NaN       NaN         NaN   \n",
       "August_payment           NaN  ...        NaN       NaN         NaN   \n",
       "July_payment             NaN  ...        NaN       NaN         NaN   \n",
       "June_payment             NaN  ...        NaN       NaN         NaN   \n",
       "May_payment              NaN  ...        NaN       NaN         NaN   \n",
       "April_payment            NaN  ...        NaN       NaN         NaN   \n",
       "March_payment            NaN  ...        NaN       NaN         NaN   \n",
       "Default                  NaN  ...        NaN       NaN         NaN   \n",
       "\n",
       "                  August_payment  July_payment  June_payment  May_payment  \\\n",
       "LIMIT_BAL               0.193930      0.185436      0.207461     0.204746   \n",
       "SEX                     0.000013      0.005674      0.009696     0.002076   \n",
       "EDUCATION               0.039463      0.032871      0.042329     0.043992   \n",
       "MARRIAGE                0.009963      0.007302      0.000064     0.010458   \n",
       "AGE                     0.025407      0.020186      0.025558     0.020936   \n",
       "September_status        0.076235      0.060359      0.061312     0.061979   \n",
       "August_status           0.094364      0.059086      0.057071     0.054802   \n",
       "July_status             0.035931      0.077383      0.053305     0.052241   \n",
       "June_status             0.054459      0.038797      0.071451     0.055331   \n",
       "May_status              0.052419      0.040766      0.036064     0.064632   \n",
       "April_status            0.045279      0.040316      0.036930     0.028018   \n",
       "September_bill          0.136506      0.107283      0.155979     0.164743   \n",
       "August_bill             0.279401      0.111341      0.150597     0.153807   \n",
       "July_bill               0.249550      0.285811      0.118394     0.143701   \n",
       "June_bill               0.237069      0.225549      0.303130     0.134379   \n",
       "May_bill                0.221649      0.196868      0.259311     0.294260   \n",
       "April_bill              0.204553      0.175336      0.242105     0.250925   \n",
       "August_payment               NaN      0.332131      0.260544     0.216752   \n",
       "July_payment                 NaN           NaN      0.262568     0.193870   \n",
       "June_payment                 NaN           NaN           NaN     0.222465   \n",
       "May_payment                  NaN           NaN           NaN          NaN   \n",
       "April_payment                NaN           NaN           NaN          NaN   \n",
       "March_payment                NaN           NaN           NaN          NaN   \n",
       "Default                      NaN           NaN           NaN          NaN   \n",
       "\n",
       "                  April_payment  March_payment   Default  \n",
       "LIMIT_BAL              0.213842       0.218610  0.150855  \n",
       "SEX                    0.000857       0.001893  0.037813  \n",
       "EDUCATION              0.044212       0.043254  0.033165  \n",
       "MARRIAGE               0.001284       0.009989  0.028126  \n",
       "AGE                    0.022432       0.019743  0.014292  \n",
       "September_status       0.054420       0.049963  0.390012  \n",
       "August_status          0.046234       0.043575  0.322132  \n",
       "July_status            0.047787       0.047809  0.284630  \n",
       "June_status            0.051725       0.049951  0.268623  \n",
       "May_status             0.051485       0.046551  0.257197  \n",
       "April_status           0.066468       0.044485  0.246226  \n",
       "September_bill         0.167295       0.182727  0.021522  \n",
       "August_bill            0.157725       0.178077  0.015816  \n",
       "July_bill              0.167073       0.182110  0.015825  \n",
       "June_bill              0.163703       0.177918  0.010929  \n",
       "May_bill               0.145210       0.159881  0.008143  \n",
       "April_bill             0.307377       0.115446  0.005646  \n",
       "August_payment         0.158674       0.203589  0.069991  \n",
       "July_payment           0.142838       0.164044  0.060627  \n",
       "June_payment           0.149540       0.167854  0.054457  \n",
       "May_payment            0.146475       0.166454  0.050218  \n",
       "April_payment               NaN       0.147535  0.052991  \n",
       "March_payment               NaN            NaN  0.052590  \n",
       "Default                     NaN            NaN       NaN  \n",
       "\n",
       "[24 rows x 24 columns]"
      ]
     },
     "execution_count": 49,
     "metadata": {},
     "output_type": "execute_result"
    }
   ],
   "source": [
    "# Create correlation matrix\n",
    "corr_matrix = df.corr().abs()\n",
    "\n",
    "# Select upper triangle of correlation matrix\n",
    "upper = corr_matrix.where(np.triu(np.ones(corr_matrix.shape), k=1).astype(np.bool))\n",
    "upper"
   ]
  },
  {
   "cell_type": "markdown",
   "metadata": {},
   "source": [
    "___"
   ]
  },
  {
   "cell_type": "markdown",
   "metadata": {},
   "source": [
    "# Trying to Clean up all the unkown data"
   ]
  },
  {
   "cell_type": "markdown",
   "metadata": {},
   "source": [
    "### Since the values for -2, -1 are all similar for all 6 months of the Payment status they are all going to be grouped up as -1 for payed duly. \n",
    "\n",
    "##### This is subject to change as there are a lot of values in these categories so if i find there is a better correlation later i may change as i go along"
   ]
  },
  {
   "cell_type": "code",
   "execution_count": 4,
   "metadata": {},
   "outputs": [
    {
     "data": {
      "text/plain": [
       "September_status\n",
       "-2    13.212181\n",
       "-1    17.230913\n",
       " 0    12.880499\n",
       " 1    33.562885\n",
       " 2    68.434217\n",
       " 3    75.298805\n",
       " 4    64.285714\n",
       " 5    47.058824\n",
       " 6    60.000000\n",
       " 7    80.000000\n",
       " 8    53.846154\n",
       "Name: Default, dtype: float64"
      ]
     },
     "execution_count": 4,
     "metadata": {},
     "output_type": "execute_result"
    }
   ],
   "source": [
    "(df.groupby('September_status')['Default'].sum() / df.groupby('September_status')['Default'].count())*100"
   ]
  },
  {
   "cell_type": "code",
   "execution_count": 20,
   "metadata": {},
   "outputs": [
    {
     "data": {
      "text/plain": [
       "September_status\n",
       "0    13.990799\n",
       "1    33.562885\n",
       "2    68.434217\n",
       "3    75.298805\n",
       "4    64.285714\n",
       "5    47.058824\n",
       "6    60.000000\n",
       "7    80.000000\n",
       "8    53.846154\n",
       "Name: Default, dtype: float64"
      ]
     },
     "execution_count": 20,
     "metadata": {},
     "output_type": "execute_result"
    }
   ],
   "source": [
    "(df.groupby('September_status')['Default'].sum() / df.groupby('September_status')['Default'].count())*100"
   ]
  },
  {
   "cell_type": "code",
   "execution_count": null,
   "metadata": {},
   "outputs": [],
   "source": []
  },
  {
   "cell_type": "code",
   "execution_count": 5,
   "metadata": {},
   "outputs": [
    {
     "data": {
      "text/plain": [
       "August_status\n",
       "-2    18.406004\n",
       "-1    16.503161\n",
       " 0    15.888484\n",
       " 1    27.777778\n",
       " 2    54.616429\n",
       " 3    66.527197\n",
       " 4    47.945205\n",
       " 5    57.894737\n",
       " 6    66.666667\n",
       " 7    53.846154\n",
       "Name: Default, dtype: float64"
      ]
     },
     "execution_count": 5,
     "metadata": {},
     "output_type": "execute_result"
    }
   ],
   "source": [
    "(df.groupby('August_status')['Default'].sum() / df.groupby('August_status')['Default'].count())*100"
   ]
  },
  {
   "cell_type": "code",
   "execution_count": 21,
   "metadata": {},
   "outputs": [
    {
     "data": {
      "text/plain": [
       "August_status\n",
       "0    16.402585\n",
       "1    27.777778\n",
       "2    54.616429\n",
       "3    66.527197\n",
       "4    47.945205\n",
       "5    57.894737\n",
       "6    66.666667\n",
       "7    53.846154\n",
       "Name: Default, dtype: float64"
      ]
     },
     "execution_count": 21,
     "metadata": {},
     "output_type": "execute_result"
    }
   ],
   "source": [
    "(df.groupby('August_status')['Default'].sum() / df.groupby('August_status')['Default'].count())*100"
   ]
  },
  {
   "cell_type": "code",
   "execution_count": null,
   "metadata": {},
   "outputs": [],
   "source": []
  },
  {
   "cell_type": "code",
   "execution_count": 6,
   "metadata": {},
   "outputs": [
    {
     "data": {
      "text/plain": [
       "July_status\n",
       "-2    18.505104\n",
       "-1    16.080178\n",
       " 0    17.379544\n",
       " 1    50.000000\n",
       " 2    51.246927\n",
       " 3    59.016393\n",
       " 4    55.932203\n",
       " 5    60.000000\n",
       " 6    56.250000\n",
       " 7    83.333333\n",
       " 8    50.000000\n",
       "Name: Default, dtype: float64"
      ]
     },
     "execution_count": 6,
     "metadata": {},
     "output_type": "execute_result"
    }
   ],
   "source": [
    "(df.groupby('July_status')['Default'].sum() / df.groupby('July_status')['Default'].count())*100"
   ]
  },
  {
   "cell_type": "code",
   "execution_count": 22,
   "metadata": {},
   "outputs": [
    {
     "data": {
      "text/plain": [
       "July_status\n",
       "0    17.254740\n",
       "1    50.000000\n",
       "2    51.246927\n",
       "3    59.016393\n",
       "4    55.932203\n",
       "5    60.000000\n",
       "6    56.250000\n",
       "7    83.333333\n",
       "8    50.000000\n",
       "Name: Default, dtype: float64"
      ]
     },
     "execution_count": 22,
     "metadata": {},
     "output_type": "execute_result"
    }
   ],
   "source": [
    "(df.groupby('July_status')['Default'].sum() / df.groupby('July_status')['Default'].count())*100"
   ]
  },
  {
   "cell_type": "code",
   "execution_count": null,
   "metadata": {},
   "outputs": [],
   "source": []
  },
  {
   "cell_type": "code",
   "execution_count": 7,
   "metadata": {},
   "outputs": [
    {
     "data": {
      "text/plain": [
       "June_status\n",
       "-2     19.151552\n",
       "-1     16.063029\n",
       " 0     18.347735\n",
       " 1    100.000000\n",
       " 2     52.338435\n",
       " 3     59.259259\n",
       " 4     72.916667\n",
       " 5     44.444444\n",
       " 6     66.666667\n",
       " 7     82.222222\n",
       " 8    100.000000\n",
       "Name: Default, dtype: float64"
      ]
     },
     "execution_count": 7,
     "metadata": {},
     "output_type": "execute_result"
    }
   ],
   "source": [
    "(df.groupby('June_status')['Default'].sum() / df.groupby('June_status')['Default'].count())*100"
   ]
  },
  {
   "cell_type": "code",
   "execution_count": 23,
   "metadata": {},
   "outputs": [
    {
     "data": {
      "text/plain": [
       "June_status\n",
       "0     17.990748\n",
       "1    100.000000\n",
       "2     52.338435\n",
       "3     59.259259\n",
       "4     72.916667\n",
       "5     44.444444\n",
       "6     66.666667\n",
       "7     82.222222\n",
       "8    100.000000\n",
       "Name: Default, dtype: float64"
      ]
     },
     "execution_count": 23,
     "metadata": {},
     "output_type": "execute_result"
    }
   ],
   "source": [
    "(df.groupby('June_status')['Default'].sum() / df.groupby('June_status')['Default'].count())*100"
   ]
  },
  {
   "cell_type": "code",
   "execution_count": null,
   "metadata": {},
   "outputs": [],
   "source": []
  },
  {
   "cell_type": "code",
   "execution_count": 8,
   "metadata": {},
   "outputs": [
    {
     "data": {
      "text/plain": [
       "May_status\n",
       "-2     19.563936\n",
       "-1     16.726922\n",
       " 0     18.855799\n",
       " 2     53.650958\n",
       " 3     65.034965\n",
       " 4     56.451613\n",
       " 5     66.666667\n",
       " 6     66.666667\n",
       " 7     84.444444\n",
       " 8    100.000000\n",
       "Name: Default, dtype: float64"
      ]
     },
     "execution_count": 8,
     "metadata": {},
     "output_type": "execute_result"
    }
   ],
   "source": [
    "(df.groupby('May_status')['Default'].sum() / df.groupby('May_status')['Default'].count())*100"
   ]
  },
  {
   "cell_type": "code",
   "execution_count": 24,
   "metadata": {},
   "outputs": [
    {
     "data": {
      "text/plain": [
       "May_status\n",
       "0     18.539132\n",
       "2     53.650958\n",
       "3     65.034965\n",
       "4     56.451613\n",
       "5     66.666667\n",
       "6     66.666667\n",
       "7     84.444444\n",
       "8    100.000000\n",
       "Name: Default, dtype: float64"
      ]
     },
     "execution_count": 24,
     "metadata": {},
     "output_type": "execute_result"
    }
   ],
   "source": [
    "(df.groupby('May_status')['Default'].sum() / df.groupby('May_status')['Default'].count())*100"
   ]
  },
  {
   "cell_type": "code",
   "execution_count": null,
   "metadata": {},
   "outputs": [],
   "source": []
  },
  {
   "cell_type": "code",
   "execution_count": 9,
   "metadata": {},
   "outputs": [
    {
     "data": {
      "text/plain": [
       "April_status\n",
       "-2     20.198129\n",
       "-1     17.106481\n",
       " 0     18.752551\n",
       " 2     50.823643\n",
       " 3     62.406015\n",
       " 4     69.230769\n",
       " 5     62.500000\n",
       " 6     76.470588\n",
       " 7     82.352941\n",
       " 8    100.000000\n",
       "Name: Default, dtype: float64"
      ]
     },
     "execution_count": 9,
     "metadata": {},
     "output_type": "execute_result"
    }
   ],
   "source": [
    "(df.groupby('April_status')['Default'].sum() / df.groupby('April_status')['Default'].count())*100"
   ]
  },
  {
   "cell_type": "code",
   "execution_count": 25,
   "metadata": {},
   "outputs": [
    {
     "data": {
      "text/plain": [
       "April_status\n",
       "0     18.660595\n",
       "2     50.823643\n",
       "3     62.406015\n",
       "4     69.230769\n",
       "5     62.500000\n",
       "6     76.470588\n",
       "7     82.352941\n",
       "8    100.000000\n",
       "Name: Default, dtype: float64"
      ]
     },
     "execution_count": 25,
     "metadata": {},
     "output_type": "execute_result"
    }
   ],
   "source": [
    "(df.groupby('April_status')['Default'].sum() / df.groupby('April_status')['Default'].count())*100"
   ]
  },
  {
   "cell_type": "markdown",
   "metadata": {},
   "source": [
    "___"
   ]
  },
  {
   "cell_type": "markdown",
   "metadata": {},
   "source": [
    "### For Sex i just changed the 2s for women to 0s because it is easier for me to follow"
   ]
  },
  {
   "cell_type": "code",
   "execution_count": 10,
   "metadata": {},
   "outputs": [
    {
     "data": {
      "text/plain": [
       "SEX\n",
       "1    0.240523\n",
       "2    0.208453\n",
       "Name: Default, dtype: float64"
      ]
     },
     "execution_count": 10,
     "metadata": {},
     "output_type": "execute_result"
    }
   ],
   "source": [
    "df.groupby('SEX')['Default'].mean()"
   ]
  },
  {
   "cell_type": "code",
   "execution_count": 26,
   "metadata": {},
   "outputs": [
    {
     "data": {
      "text/plain": [
       "SEX\n",
       "0    0.208453\n",
       "1    0.240523\n",
       "Name: Default, dtype: float64"
      ]
     },
     "execution_count": 26,
     "metadata": {},
     "output_type": "execute_result"
    }
   ],
   "source": [
    "df.groupby('SEX')['Default'].mean()"
   ]
  },
  {
   "cell_type": "markdown",
   "metadata": {},
   "source": [
    "___"
   ]
  },
  {
   "cell_type": "markdown",
   "metadata": {},
   "source": [
    "### For Education there were 3 extra unknown items, 0, 5 and 6. All there had ver minimal amounts of people in those categories and no meaningful correlation to the status of whether they are defaulting or not defaulting"
   ]
  },
  {
   "cell_type": "code",
   "execution_count": 11,
   "metadata": {},
   "outputs": [
    {
     "data": {
      "text/plain": [
       "EDUCATION\n",
       "0    0.000000\n",
       "1    0.192400\n",
       "2    0.237720\n",
       "3    0.249864\n",
       "4    0.044444\n",
       "5    0.068293\n",
       "6    0.171429\n",
       "Name: Default, dtype: float64"
      ]
     },
     "execution_count": 11,
     "metadata": {},
     "output_type": "execute_result"
    }
   ],
   "source": [
    "df.groupby('EDUCATION')['Default'].mean()"
   ]
  },
  {
   "cell_type": "code",
   "execution_count": 27,
   "metadata": {},
   "outputs": [
    {
     "data": {
      "text/plain": [
       "EDUCATION\n",
       "1    0.192400\n",
       "2    0.237720\n",
       "3    0.249864\n",
       "4    0.069971\n",
       "Name: Default, dtype: float64"
      ]
     },
     "execution_count": 27,
     "metadata": {},
     "output_type": "execute_result"
    }
   ],
   "source": [
    "df.groupby('EDUCATION')['Default'].mean()"
   ]
  },
  {
   "cell_type": "markdown",
   "metadata": {},
   "source": [
    "___"
   ]
  },
  {
   "cell_type": "markdown",
   "metadata": {},
   "source": [
    "### Only 1 excess category. Weird as it had a very rate of defaulting but with so few people (41) it was not worth keeping seperate. \n",
    "\n",
    "##### Possibility to add all the values to the single category as well since the entire section can just be married or not married instead of having an entirely new category of people. only increases the % of defaults by .04"
   ]
  },
  {
   "cell_type": "code",
   "execution_count": 12,
   "metadata": {},
   "outputs": [
    {
     "data": {
      "text/plain": [
       "MARRIAGE\n",
       "0     9.756098\n",
       "1    23.392666\n",
       "2    21.001507\n",
       "3    25.423729\n",
       "Name: Default, dtype: float64"
      ]
     },
     "execution_count": 12,
     "metadata": {},
     "output_type": "execute_result"
    }
   ],
   "source": [
    "(df.groupby('MARRIAGE')['Default'].sum() / df.groupby('MARRIAGE')['Default'].count())*100"
   ]
  },
  {
   "cell_type": "code",
   "execution_count": 28,
   "metadata": {},
   "outputs": [
    {
     "data": {
      "text/plain": [
       "MARRIAGE\n",
       "1    23.392666\n",
       "2    21.049186\n",
       "Name: Default, dtype: float64"
      ]
     },
     "execution_count": 28,
     "metadata": {},
     "output_type": "execute_result"
    }
   ],
   "source": [
    "(df.groupby('MARRIAGE')['Default'].sum() / df.groupby('MARRIAGE')['Default'].count())*100"
   ]
  },
  {
   "cell_type": "markdown",
   "metadata": {},
   "source": [
    "___"
   ]
  },
  {
   "cell_type": "markdown",
   "metadata": {},
   "source": [
    "# Creating CSV with current data"
   ]
  },
  {
   "cell_type": "code",
   "execution_count": 151,
   "metadata": {},
   "outputs": [],
   "source": [
    "df.to_csv('Cleaned_default_status.csv')"
   ]
  },
  {
   "cell_type": "code",
   "execution_count": null,
   "metadata": {},
   "outputs": [],
   "source": []
  },
  {
   "cell_type": "markdown",
   "metadata": {},
   "source": [
    "___"
   ]
  },
  {
   "cell_type": "markdown",
   "metadata": {},
   "source": [
    "## Just thinking about possible features to add in and testing them out"
   ]
  },
  {
   "cell_type": "code",
   "execution_count": 150,
   "metadata": {},
   "outputs": [],
   "source": [
    "df['September_balance'] = [df['September_bill'][i] - df['September_payment'][i] \n",
    "                       for i in range(len(df['September_payment']))]\n",
    "\n",
    "df['August_balance'] = [df['August_bill'][i] - df['August_payment'][i] \n",
    "                       for i in range(len(df['August_payment']))]\n",
    "\n",
    "df['July_balance'] = [df['July_bill'][i] - df['July_payment'][i] \n",
    "                       for i in range(len(df['July_payment']))]\n",
    "\n",
    "df['June_balance'] = [df['June_bill'][i] - df['June_payment'][i] \n",
    "                       for i in range(len(df['June_payment']))]\n",
    "\n",
    "df['May_balance'] = [df['May_bill'][i] - df['May_payment'][i] \n",
    "                       for i in range(len(df['May_payment']))]\n",
    "\n",
    "df['April_balance'] = [df['April_bill'][i] - df['April_payment'][i] \n",
    "                       for i in range(len(df['April_payment']))]"
   ]
  },
  {
   "cell_type": "code",
   "execution_count": 130,
   "metadata": {
    "scrolled": true
   },
   "outputs": [
    {
     "data": {
      "text/plain": [
       "September_status\n",
       "0      2897.081817\n",
       "1     23972.810439\n",
       "2     59954.252126\n",
       "3     34372.266932\n",
       "4     48246.892857\n",
       "5     93510.176471\n",
       "6     81405.600000\n",
       "7    154654.600000\n",
       "8    125495.076923\n",
       "9     68179.695059\n",
       "Name: September_balance, dtype: float64"
      ]
     },
     "execution_count": 130,
     "metadata": {},
     "output_type": "execute_result"
    }
   ],
   "source": [
    "df.groupby('September_status')['September_balance'].mean()"
   ]
  },
  {
   "cell_type": "code",
   "execution_count": 129,
   "metadata": {},
   "outputs": [
    {
     "data": {
      "text/plain": [
       "August_status\n",
       "0      1892.400271\n",
       "1     18843.333333\n",
       "2     45977.251867\n",
       "3     42262.803347\n",
       "4     56243.369863\n",
       "5     68838.631579\n",
       "6    127851.833333\n",
       "7    122348.923077\n",
       "9     63799.999237\n",
       "Name: August_balance, dtype: float64"
      ]
     },
     "execution_count": 129,
     "metadata": {},
     "output_type": "execute_result"
    }
   ],
   "source": [
    "df.groupby('August_status')['August_balance'].mean()"
   ]
  },
  {
   "cell_type": "code",
   "execution_count": 128,
   "metadata": {},
   "outputs": [
    {
     "data": {
      "text/plain": [
       "July_status\n",
       "0      2652.184801\n",
       "1    155925.000000\n",
       "2     42740.632244\n",
       "3     39968.748634\n",
       "4     50910.728814\n",
       "5     77879.700000\n",
       "6     97355.000000\n",
       "7      5742.958333\n",
       "8     19411.000000\n",
       "9     59108.314455\n",
       "Name: July_balance, dtype: float64"
      ]
     },
     "execution_count": 128,
     "metadata": {},
     "output_type": "execute_result"
    }
   ],
   "source": [
    "df.groupby('July_status')['July_balance'].mean()"
   ]
  },
  {
   "cell_type": "code",
   "execution_count": 127,
   "metadata": {},
   "outputs": [
    {
     "data": {
      "text/plain": [
       "June_status\n",
       "0      2608.925916\n",
       "1    285801.000000\n",
       "2     43720.920918\n",
       "3     44627.770370\n",
       "4     43020.583333\n",
       "5     63853.037037\n",
       "6     32141.666667\n",
       "7     11136.333333\n",
       "8      2400.000000\n",
       "9     53931.152306\n",
       "Name: June_balance, dtype: float64"
      ]
     },
     "execution_count": 127,
     "metadata": {},
     "output_type": "execute_result"
    }
   ],
   "source": [
    "df.groupby('June_status')['June_balance'].mean()"
   ]
  },
  {
   "cell_type": "code",
   "execution_count": 126,
   "metadata": {},
   "outputs": [
    {
     "data": {
      "text/plain": [
       "May_status\n",
       "0      2307.633833\n",
       "2     48063.193164\n",
       "3     35312.769231\n",
       "4     57082.725806\n",
       "5     23257.166667\n",
       "6    121902.333333\n",
       "7      5454.355556\n",
       "8      2400.000000\n",
       "9     51053.322414\n",
       "Name: May_balance, dtype: float64"
      ]
     },
     "execution_count": 126,
     "metadata": {},
     "output_type": "execute_result"
    }
   ],
   "source": [
    "df.groupby('May_status')['May_balance'].mean()"
   ]
  },
  {
   "cell_type": "code",
   "execution_count": null,
   "metadata": {},
   "outputs": [],
   "source": []
  },
  {
   "cell_type": "code",
   "execution_count": 120,
   "metadata": {},
   "outputs": [
    {
     "data": {
      "text/plain": [
       "September_bill       8628.743124\n",
       "September_payment    6648.051572\n",
       "September_balance    2119.904224\n",
       "August_bill          8767.955796\n",
       "August_payment       7451.881631\n",
       "August_balance       2165.006385\n",
       "July_bill            9616.888016\n",
       "July_payment         6255.969057\n",
       "July_balance         3568.337917\n",
       "dtype: float64"
      ]
     },
     "execution_count": 120,
     "metadata": {},
     "output_type": "execute_result"
    }
   ],
   "source": [
    "df[df['September_status'] == -2][['September_bill', 'September_payment', 'September_balance',\n",
    "                                'August_bill', 'August_payment', 'August_balance',\n",
    "                                'July_bill', 'July_payment', 'July_balance']].mean()"
   ]
  },
  {
   "cell_type": "code",
   "execution_count": null,
   "metadata": {},
   "outputs": [],
   "source": []
  },
  {
   "cell_type": "code",
   "execution_count": 125,
   "metadata": {},
   "outputs": [
    {
     "data": {
      "text/plain": [
       "<matplotlib.axes._subplots.AxesSubplot at 0x1a1fdc1fd0>"
      ]
     },
     "execution_count": 125,
     "metadata": {},
     "output_type": "execute_result"
    },
    {
     "data": {
      "image/png": "[encoded data removed]",
      "text/plain": [
       "<Figure size 792x648 with 2 Axes>"
      ]
     },
     "metadata": {},
     "output_type": "display_data"
    }
   ],
   "source": [
    "sns.set(style=\"white\")\n",
    "\n",
    "\n",
    "# Compute the correlation matrix\n",
    "corr = np.abs(df.corr())\n",
    "\n",
    "# Generate a mask for the upper triangle\n",
    "mask = np.zeros_like(corr, dtype=np.bool)\n",
    "mask[np.triu_indices_from(mask)] = True\n",
    "\n",
    "# Set up the matplotlib figure\n",
    "f, ax = plt.subplots(figsize=(11, 9))\n",
    "\n",
    "# Generate a custom diverging colormap\n",
    "cmap = sns.diverging_palette(220, 10, as_cmap=True)\n",
    "\n",
    "# Draw the heatmap with the mask and correct aspect ratio\n",
    "sns.heatmap(corr, mask=mask, cmap=cmap, vmax=1, center=0,\n",
    "            square=True, linewidths=.5, cbar_kws={\"shrink\": .5})"
   ]
  },
  {
   "cell_type": "code",
   "execution_count": null,
   "metadata": {},
   "outputs": [],
   "source": []
  }
 ],
 "metadata": {
  "kernelspec": {
   "display_name": "Python 3",
   "language": "python",
   "name": "python3"
  },
  "language_info": {
   "codemirror_mode": {
    "name": "ipython",
    "version": 3
   },
   "file_extension": ".py",
   "mimetype": "text/x-python",
   "name": "python",
   "nbconvert_exporter": "python",
   "pygments_lexer": "ipython3",
   "version": "3.7.6"
  }
 },
 "nbformat": 4,
 "nbformat_minor": 4
}
