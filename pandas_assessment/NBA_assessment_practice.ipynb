{
 "cells": [
  {
   "cell_type": "code",
   "execution_count": 2,
   "metadata": {},
   "outputs": [],
   "source": [
    "import json\n",
    "import pandas as pd"
   ]
  },
  {
   "cell_type": "markdown",
   "metadata": {},
   "source": [
    "# Part 1: Reading and investigating data\n",
    "\n",
    "Open up the `player_data.json` and investigate the data structure."
   ]
  },
  {
   "cell_type": "code",
   "execution_count": 3,
   "metadata": {},
   "outputs": [
    {
     "data": {
      "text/html": [
       "<div>\n",
       "<style scoped>\n",
       "    .dataframe tbody tr th:only-of-type {\n",
       "        vertical-align: middle;\n",
       "    }\n",
       "\n",
       "    .dataframe tbody tr th {\n",
       "        vertical-align: top;\n",
       "    }\n",
       "\n",
       "    .dataframe thead th {\n",
       "        text-align: right;\n",
       "    }\n",
       "</style>\n",
       "<table border=\"1\" class=\"dataframe\">\n",
       "  <thead>\n",
       "    <tr style=\"text-align: right;\">\n",
       "      <th></th>\n",
       "      <th>DISPLAY_FIRST_LAST</th>\n",
       "      <th>PERSON_ID</th>\n",
       "      <th>TEAM_ID</th>\n",
       "      <th>Game_ID</th>\n",
       "      <th>MIN</th>\n",
       "      <th>PTS</th>\n",
       "      <th>AST</th>\n",
       "      <th>REB</th>\n",
       "      <th>DREB</th>\n",
       "      <th>BLK</th>\n",
       "      <th>TEAM_ABBREVIATION</th>\n",
       "    </tr>\n",
       "  </thead>\n",
       "  <tbody>\n",
       "    <tr>\n",
       "      <th>0</th>\n",
       "      <td>Alex Abrines</td>\n",
       "      <td>203518</td>\n",
       "      <td>1610612760</td>\n",
       "      <td>0021800772</td>\n",
       "      <td>9</td>\n",
       "      <td>0</td>\n",
       "      <td>0</td>\n",
       "      <td>0</td>\n",
       "      <td>0</td>\n",
       "      <td>0</td>\n",
       "      <td>OKC</td>\n",
       "    </tr>\n",
       "    <tr>\n",
       "      <th>1</th>\n",
       "      <td>Alex Abrines</td>\n",
       "      <td>203518</td>\n",
       "      <td>1610612760</td>\n",
       "      <td>0021800751</td>\n",
       "      <td>6</td>\n",
       "      <td>3</td>\n",
       "      <td>0</td>\n",
       "      <td>1</td>\n",
       "      <td>1</td>\n",
       "      <td>0</td>\n",
       "      <td>OKC</td>\n",
       "    </tr>\n",
       "    <tr>\n",
       "      <th>2</th>\n",
       "      <td>Alex Abrines</td>\n",
       "      <td>203518</td>\n",
       "      <td>1610612760</td>\n",
       "      <td>0021800493</td>\n",
       "      <td>27</td>\n",
       "      <td>7</td>\n",
       "      <td>0</td>\n",
       "      <td>1</td>\n",
       "      <td>1</td>\n",
       "      <td>2</td>\n",
       "      <td>OKC</td>\n",
       "    </tr>\n",
       "    <tr>\n",
       "      <th>3</th>\n",
       "      <td>Alex Abrines</td>\n",
       "      <td>203518</td>\n",
       "      <td>1610612760</td>\n",
       "      <td>0021800485</td>\n",
       "      <td>16</td>\n",
       "      <td>6</td>\n",
       "      <td>0</td>\n",
       "      <td>1</td>\n",
       "      <td>1</td>\n",
       "      <td>0</td>\n",
       "      <td>OKC</td>\n",
       "    </tr>\n",
       "    <tr>\n",
       "      <th>4</th>\n",
       "      <td>Alex Abrines</td>\n",
       "      <td>203518</td>\n",
       "      <td>1610612760</td>\n",
       "      <td>0021800466</td>\n",
       "      <td>23</td>\n",
       "      <td>9</td>\n",
       "      <td>1</td>\n",
       "      <td>1</td>\n",
       "      <td>1</td>\n",
       "      <td>0</td>\n",
       "      <td>OKC</td>\n",
       "    </tr>\n",
       "    <tr>\n",
       "      <th>...</th>\n",
       "      <td>...</td>\n",
       "      <td>...</td>\n",
       "      <td>...</td>\n",
       "      <td>...</td>\n",
       "      <td>...</td>\n",
       "      <td>...</td>\n",
       "      <td>...</td>\n",
       "      <td>...</td>\n",
       "      <td>...</td>\n",
       "      <td>...</td>\n",
       "      <td>...</td>\n",
       "    </tr>\n",
       "    <tr>\n",
       "      <th>26096</th>\n",
       "      <td>Ivica Zubac</td>\n",
       "      <td>1627826</td>\n",
       "      <td>1610612747</td>\n",
       "      <td>0021800183</td>\n",
       "      <td>2</td>\n",
       "      <td>0</td>\n",
       "      <td>0</td>\n",
       "      <td>2</td>\n",
       "      <td>1</td>\n",
       "      <td>0</td>\n",
       "      <td>LAL</td>\n",
       "    </tr>\n",
       "    <tr>\n",
       "      <th>26097</th>\n",
       "      <td>Ivica Zubac</td>\n",
       "      <td>1627826</td>\n",
       "      <td>1610612747</td>\n",
       "      <td>0021800139</td>\n",
       "      <td>11</td>\n",
       "      <td>5</td>\n",
       "      <td>1</td>\n",
       "      <td>6</td>\n",
       "      <td>4</td>\n",
       "      <td>0</td>\n",
       "      <td>LAL</td>\n",
       "    </tr>\n",
       "    <tr>\n",
       "      <th>26098</th>\n",
       "      <td>Ivica Zubac</td>\n",
       "      <td>1627826</td>\n",
       "      <td>1610612747</td>\n",
       "      <td>0021800132</td>\n",
       "      <td>20</td>\n",
       "      <td>9</td>\n",
       "      <td>0</td>\n",
       "      <td>8</td>\n",
       "      <td>4</td>\n",
       "      <td>0</td>\n",
       "      <td>LAL</td>\n",
       "    </tr>\n",
       "    <tr>\n",
       "      <th>26099</th>\n",
       "      <td>Ivica Zubac</td>\n",
       "      <td>1627826</td>\n",
       "      <td>1610612747</td>\n",
       "      <td>0021800060</td>\n",
       "      <td>2</td>\n",
       "      <td>0</td>\n",
       "      <td>1</td>\n",
       "      <td>2</td>\n",
       "      <td>1</td>\n",
       "      <td>0</td>\n",
       "      <td>LAL</td>\n",
       "    </tr>\n",
       "    <tr>\n",
       "      <th>26100</th>\n",
       "      <td>Ivica Zubac</td>\n",
       "      <td>1627826</td>\n",
       "      <td>1610612747</td>\n",
       "      <td>0021800048</td>\n",
       "      <td>5</td>\n",
       "      <td>0</td>\n",
       "      <td>0</td>\n",
       "      <td>1</td>\n",
       "      <td>0</td>\n",
       "      <td>1</td>\n",
       "      <td>LAL</td>\n",
       "    </tr>\n",
       "  </tbody>\n",
       "</table>\n",
       "<p>26101 rows × 11 columns</p>\n",
       "</div>"
      ],
      "text/plain": [
       "      DISPLAY_FIRST_LAST PERSON_ID     TEAM_ID     Game_ID MIN PTS AST REB  \\\n",
       "0           Alex Abrines    203518  1610612760  0021800772   9   0   0   0   \n",
       "1           Alex Abrines    203518  1610612760  0021800751   6   3   0   1   \n",
       "2           Alex Abrines    203518  1610612760  0021800493  27   7   0   1   \n",
       "3           Alex Abrines    203518  1610612760  0021800485  16   6   0   1   \n",
       "4           Alex Abrines    203518  1610612760  0021800466  23   9   1   1   \n",
       "...                  ...       ...         ...         ...  ..  ..  ..  ..   \n",
       "26096        Ivica Zubac   1627826  1610612747  0021800183   2   0   0   2   \n",
       "26097        Ivica Zubac   1627826  1610612747  0021800139  11   5   1   6   \n",
       "26098        Ivica Zubac   1627826  1610612747  0021800132  20   9   0   8   \n",
       "26099        Ivica Zubac   1627826  1610612747  0021800060   2   0   1   2   \n",
       "26100        Ivica Zubac   1627826  1610612747  0021800048   5   0   0   1   \n",
       "\n",
       "      DREB BLK TEAM_ABBREVIATION  \n",
       "0        0   0               OKC  \n",
       "1        1   0               OKC  \n",
       "2        1   2               OKC  \n",
       "3        1   0               OKC  \n",
       "4        1   0               OKC  \n",
       "...    ...  ..               ...  \n",
       "26096    1   0               LAL  \n",
       "26097    4   0               LAL  \n",
       "26098    4   0               LAL  \n",
       "26099    1   0               LAL  \n",
       "26100    0   1               LAL  \n",
       "\n",
       "[26101 rows x 11 columns]"
      ]
     },
     "execution_count": 3,
     "metadata": {},
     "output_type": "execute_result"
    }
   ],
   "source": [
    "nba = pd.read_json('player_data.json')\n",
    "\n",
    "column_names = ['DISPLAY_FIRST_LAST', 'PERSON_ID', 'TEAM_ID', 'Game_ID', 'MIN', 'PTS', 'AST', \n",
    "                'REB', 'DREB', 'BLK', 'TEAM_ABBREVIATION']\n",
    "\n",
    "nba_data = pd.DataFrame(columns = column_names)\n",
    "\n",
    "\n",
    "# nba['MIN'] = 0\n",
    "# for index, row in nba.iterrows():\n",
    "#     minutes = 0\n",
    "#     for game in row['GAMELOG']:\n",
    "#         minutes += game['MIN']\n",
    "#     if minutes == 0:\n",
    "#         nba.loc[nba_check['PERSON_ID'] == row['PERSON_ID'], 'MIN'] = 0\n",
    "#     else:\n",
    "#         nba.loc[nba_check['PERSON_ID'] == row['PERSON_ID'], 'MIN'] = round((minutes / len(nba_check['GAMELOG'][index])),3)\n",
    "\n",
    "nba_game_list = []\n",
    "for index, row in nba.iterrows():\n",
    "    for game in row['GAMELOG']:\n",
    "        nba_game = [row['DISPLAY_FIRST_LAST'], row['PERSON_ID'], game['TEAM_ID'], \n",
    "                        game['Game_ID'], game['MIN'], game['PTS'], game['AST'], game['REB'],\n",
    "                        game['DREB'], game['BLK'], game['TEAM_ABBREVIATION']]\n",
    "        zipped = zip(column_names, nba_game)\n",
    "        a_dictionary = dict(zipped)\n",
    "        nba_game_list.append(a_dictionary)\n",
    "\n",
    "nba_data = nba_data.append(nba_game_list)\n",
    "\n",
    "nba_data"
   ]
  },
  {
   "cell_type": "markdown",
   "metadata": {},
   "source": [
    "# Part 2:  Creating the Dataframe\n",
    "\n",
    "Create a data frame where each row corresponds to a game for each player. You must have atleast the following columns in your final dataframe:\n",
    "\n",
    "'DISPLAY_FIRST_LAST', 'PERSON_ID', 'TEAM_ID', 'AST', 'BLK', 'DREB','Game_ID',  'MIN', 'PTS', 'REB', 'TEAM_ABBREVIATION'\n",
    "\n",
    "*You can include additional columns in your dataframe, so you don't have to do additional work to remove other columns.*  "
   ]
  },
  {
   "cell_type": "code",
   "execution_count": null,
   "metadata": {},
   "outputs": [],
   "source": []
  },
  {
   "cell_type": "markdown",
   "metadata": {},
   "source": [
    "# Part 3: Pandas Questions\n",
    "\n",
    "Answer the following questions"
   ]
  },
  {
   "cell_type": "markdown",
   "metadata": {},
   "source": [
    "## 1 \n",
    "- Find the player who scored the most points in an individual game last season.\n",
    "\n",
    "-  Now do the same for rebounds, blocks, and assists."
   ]
  },
  {
   "cell_type": "code",
   "execution_count": 4,
   "metadata": {},
   "outputs": [
    {
     "name": "stdout",
     "output_type": "stream",
     "text": [
      "      DISPLAY_FIRST_LAST PTS\n",
      "10323       James Harden  61\n",
      "10348       James Harden  61\n",
      "\n",
      "       DISPLAY_FIRST_LAST REB\n",
      "23773  Karl-Anthony Towns  27\n",
      "\n",
      "      DISPLAY_FIRST_LAST BLK\n",
      "21109  Mitchell Robinson   9\n",
      "25135   Hassan Whiteside   9\n",
      "\n",
      "      DISPLAY_FIRST_LAST AST\n",
      "24969  Russell Westbrook  24\n"
     ]
    }
   ],
   "source": [
    "print(nba_data.loc[nba_data['PTS'] == nba_data['PTS'].max()][['DISPLAY_FIRST_LAST', 'PTS']])\n",
    "print('')\n",
    "print(nba_data.loc[nba_data['REB'] == nba_data['REB'].max()][['DISPLAY_FIRST_LAST', 'REB']])\n",
    "print('')\n",
    "print(nba_data.loc[nba_data['BLK'] == nba_data['BLK'].max()][['DISPLAY_FIRST_LAST', 'BLK']])\n",
    "print('')\n",
    "print(nba_data.loc[nba_data['AST'] == nba_data['AST'].max()][['DISPLAY_FIRST_LAST', 'AST']])"
   ]
  },
  {
   "cell_type": "markdown",
   "metadata": {},
   "source": [
    "## 2: \n",
    "\n",
    "- Find the player who scored the most points for the entire season.\n",
    "\n",
    "- Now do the same for rebounds, blocks, and assists."
   ]
  },
  {
   "cell_type": "code",
   "execution_count": 5,
   "metadata": {},
   "outputs": [
    {
     "name": "stdout",
     "output_type": "stream",
     "text": [
      "                     PTS\n",
      "DISPLAY_FIRST_LAST      \n",
      "James Harden        2818\n",
      "\n",
      "                     REB\n",
      "DISPLAY_FIRST_LAST      \n",
      "Andre Drummond      1232\n",
      "\n",
      "                    BLK\n",
      "DISPLAY_FIRST_LAST     \n",
      "Myles Turner        199\n",
      "\n",
      "                    AST\n",
      "DISPLAY_FIRST_LAST     \n",
      "Russell Westbrook   784\n"
     ]
    }
   ],
   "source": [
    "nba_sums = nba_data.groupby(['DISPLAY_FIRST_LAST']).sum()\n",
    "\n",
    "print(nba_sums.loc[nba_sums['PTS'] == nba_sums['PTS'].max()][['PTS']])\n",
    "print('')\n",
    "print(nba_sums.loc[nba_sums['REB'] == nba_sums['REB'].max()][['REB']])\n",
    "print('')\n",
    "print(nba_sums.loc[nba_sums['BLK'] == nba_sums['BLK'].max()][['BLK']])\n",
    "print('')\n",
    "print(nba_sums.loc[nba_sums['AST'] == nba_sums['AST'].max()][['AST']])"
   ]
  },
  {
   "cell_type": "markdown",
   "metadata": {},
   "source": [
    "## 3:\n",
    "How many players played in at least 82 games last season?"
   ]
  },
  {
   "cell_type": "code",
   "execution_count": 6,
   "metadata": {},
   "outputs": [
    {
     "data": {
      "text/plain": [
       "21"
      ]
     },
     "execution_count": 6,
     "metadata": {},
     "output_type": "execute_result"
    }
   ],
   "source": [
    "num_games = nba_data.groupby(['DISPLAY_FIRST_LAST']).count()\n",
    "(num_games['PERSON_ID'].loc[num_games['PERSON_ID'] == 82]).count()"
   ]
  },
  {
   "cell_type": "markdown",
   "metadata": {},
   "source": [
    "## 4: \n",
    "- Find which team scored the most points for the entire season.\n",
    "\n",
    "- Now do the same for rebounds, blocks, and assists."
   ]
  },
  {
   "cell_type": "code",
   "execution_count": 7,
   "metadata": {},
   "outputs": [
    {
     "name": "stdout",
     "output_type": "stream",
     "text": [
      "                    PTS\n",
      "TEAM_ABBREVIATION      \n",
      "MIL                9686\n",
      "\n",
      "                    REB\n",
      "TEAM_ABBREVIATION      \n",
      "MIL                4078\n",
      "\n",
      "                   BLK\n",
      "TEAM_ABBREVIATION     \n",
      "GSW                525\n",
      "\n",
      "                    AST\n",
      "TEAM_ABBREVIATION      \n",
      "GSW                2413\n"
     ]
    }
   ],
   "source": [
    "team_total = nba_data.groupby(['TEAM_ABBREVIATION']).sum()\n",
    "\n",
    "print(team_total.loc[team_total['PTS'] == team_total['PTS'].max()][['PTS']])\n",
    "print('')\n",
    "print(team_total.loc[team_total['REB'] == team_total['REB'].max()][['REB']])\n",
    "print('')\n",
    "print(team_total.loc[team_total['BLK'] == team_total['BLK'].max()][['BLK']])\n",
    "print('')\n",
    "print(team_total.loc[team_total['AST'] == team_total['AST'].max()][['AST']])\n"
   ]
  },
  {
   "cell_type": "markdown",
   "metadata": {},
   "source": [
    "## 5:\n",
    "Which team had the most players play for them last season?"
   ]
  },
  {
   "cell_type": "code",
   "execution_count": null,
   "metadata": {},
   "outputs": [],
   "source": []
  },
  {
   "cell_type": "code",
   "execution_count": 8,
   "metadata": {},
   "outputs": [
    {
     "data": {
      "text/html": [
       "<div>\n",
       "<style scoped>\n",
       "    .dataframe tbody tr th:only-of-type {\n",
       "        vertical-align: middle;\n",
       "    }\n",
       "\n",
       "    .dataframe tbody tr th {\n",
       "        vertical-align: top;\n",
       "    }\n",
       "\n",
       "    .dataframe thead th {\n",
       "        text-align: right;\n",
       "    }\n",
       "</style>\n",
       "<table border=\"1\" class=\"dataframe\">\n",
       "  <thead>\n",
       "    <tr style=\"text-align: right;\">\n",
       "      <th></th>\n",
       "      <th>TEAM_ABBREVIATION</th>\n",
       "      <th>DISPLAY_FIRST_LAST</th>\n",
       "      <th>player_count</th>\n",
       "    </tr>\n",
       "  </thead>\n",
       "  <tbody>\n",
       "    <tr>\n",
       "      <th>14</th>\n",
       "      <td>MEM</td>\n",
       "      <td>[Kyle Anderson, Avery Bradley, Dillon Brooks, ...</td>\n",
       "      <td>28</td>\n",
       "    </tr>\n",
       "  </tbody>\n",
       "</table>\n",
       "</div>"
      ],
      "text/plain": [
       "   TEAM_ABBREVIATION                                 DISPLAY_FIRST_LAST  \\\n",
       "14               MEM  [Kyle Anderson, Avery Bradley, Dillon Brooks, ...   \n",
       "\n",
       "    player_count  \n",
       "14            28  "
      ]
     },
     "execution_count": 8,
     "metadata": {},
     "output_type": "execute_result"
    }
   ],
   "source": [
    "nba_players = nba_data.groupby(['TEAM_ABBREVIATION']).agg({'DISPLAY_FIRST_LAST': 'unique'})\n",
    "\n",
    "nba_players.reset_index(inplace = True)\n",
    "\n",
    "nba_players['player_count'] = nba_players.DISPLAY_FIRST_LAST.apply(lambda x: len(x))\n",
    "\n",
    "nba_players.loc[nba_players['player_count'] == nba_players['player_count'].max()]"
   ]
  },
  {
   "cell_type": "markdown",
   "metadata": {},
   "source": [
    "## 6:\n",
    "- Did any players play for more than one team last year?\n",
    "\n",
    "- What is the most number of teams a player played for last season?"
   ]
  },
  {
   "cell_type": "code",
   "execution_count": 9,
   "metadata": {},
   "outputs": [],
   "source": [
    "nba_players = nba_data.groupby(['DISPLAY_FIRST_LAST'])\n"
   ]
  },
  {
   "cell_type": "markdown",
   "metadata": {},
   "source": [
    "## 7:\n",
    "\n",
    "Find the player who scored the least amount of points while playing in at least 40 games last season."
   ]
  },
  {
   "cell_type": "code",
   "execution_count": 57,
   "metadata": {},
   "outputs": [
    {
     "data": {
      "text/plain": [
       "DISPLAY_FIRST_LAST  PERSON_ID\n",
       "Aaron Gordon        203932       78\n",
       "Aaron Holiday       1628988      50\n",
       "Abdel Nader         1627846      61\n",
       "Al Horford          201143       68\n",
       "Al-Farouq Aminu     202329       81\n",
       "                                 ..\n",
       "Zach LaVine         203897       63\n",
       "Zach Lofton         1629155       1\n",
       "Zaza Pachulia       2585         68\n",
       "Zhaire Smith        1629015       6\n",
       "Zhou Qi             1627753       1\n",
       "Name: Game_ID, Length: 530, dtype: int64"
      ]
     },
     "execution_count": 57,
     "metadata": {},
     "output_type": "execute_result"
    }
   ],
   "source": [
    "nba_data.groupby(['DISPLAY_FIRST_LAST', 'PERSON_ID'])['Game_ID'].count()\n"
   ]
  },
  {
   "cell_type": "markdown",
   "metadata": {},
   "source": [
    "# Part 4: Pandas and Probability"
   ]
  },
  {
   "cell_type": "markdown",
   "metadata": {},
   "source": [
    "## 8: \n",
    "\n",
    "What is the probability that a random player had a game where they scored more than 40 points?"
   ]
  },
  {
   "cell_type": "code",
   "execution_count": null,
   "metadata": {},
   "outputs": [],
   "source": [
    "#your code here"
   ]
  },
  {
   "cell_type": "markdown",
   "metadata": {},
   "source": [
    "## 9:\n",
    "\n",
    "What is the probability that a randomly selected player from last season would average more than 20 points per game?"
   ]
  },
  {
   "cell_type": "code",
   "execution_count": null,
   "metadata": {},
   "outputs": [],
   "source": [
    "# your code here"
   ]
  },
  {
   "cell_type": "markdown",
   "metadata": {},
   "source": [
    "# Advanced Questions"
   ]
  },
  {
   "cell_type": "markdown",
   "metadata": {},
   "source": [
    "## 10: \n",
    "Find the player who scored the least amount of points while playing in at least 40 games and averageing at least 15 minutes per game last season."
   ]
  },
  {
   "cell_type": "code",
   "execution_count": null,
   "metadata": {},
   "outputs": [],
   "source": [
    "#your code here"
   ]
  },
  {
   "cell_type": "markdown",
   "metadata": {},
   "source": [
    "## 11: \n",
    "Which player scored the largest share of points for their team throughout the season."
   ]
  },
  {
   "cell_type": "code",
   "execution_count": null,
   "metadata": {},
   "outputs": [],
   "source": [
    "#your code here"
   ]
  },
  {
   "cell_type": "markdown",
   "metadata": {},
   "source": [
    "## 12:\n",
    "\n",
    "What is the probability that a randomly selected player had at least one game in which they scored 40 points last season. "
   ]
  },
  {
   "cell_type": "code",
   "execution_count": null,
   "metadata": {},
   "outputs": [],
   "source": [
    "# your code here"
   ]
  },
  {
   "cell_type": "markdown",
   "metadata": {},
   "source": [
    "## 13: \n",
    "\n",
    "A double-double is when a player records for any of the two follow categories: points, rebounds, assists, steals, or blocks. \n",
    "What is the probability that a randomly selected player had a double-double in a game last season?\n"
   ]
  },
  {
   "cell_type": "code",
   "execution_count": null,
   "metadata": {},
   "outputs": [],
   "source": [
    "#your code here"
   ]
  },
  {
   "cell_type": "markdown",
   "metadata": {},
   "source": [
    "## 14:\n",
    "\n",
    "What is the probability that a randomnly selected game had a player record a triple-double in that game?"
   ]
  },
  {
   "cell_type": "code",
   "execution_count": null,
   "metadata": {},
   "outputs": [],
   "source": [
    "#your code here"
   ]
  }
 ],
 "metadata": {
  "kernelspec": {
   "display_name": "Python 3",
   "language": "python",
   "name": "python3"
  },
  "language_info": {
   "codemirror_mode": {
    "name": "ipython",
    "version": 3
   },
   "file_extension": ".py",
   "mimetype": "text/x-python",
   "name": "python",
   "nbconvert_exporter": "python",
   "pygments_lexer": "ipython3",
   "version": "3.7.6"
  }
 },
 "nbformat": 4,
 "nbformat_minor": 2
}
