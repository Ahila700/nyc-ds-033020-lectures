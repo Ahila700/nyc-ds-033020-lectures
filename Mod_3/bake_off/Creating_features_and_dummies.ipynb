{
 "cells": [
  {
   "cell_type": "code",
   "execution_count": 1,
   "metadata": {},
   "outputs": [],
   "source": [
    "import pandas as pd\n",
    "import numpy as np\n",
    "\n",
    "import seaborn as sns\n",
    "sns.set(context='paper', style='darkgrid', rc={'figure.facecolor':'white'}, font_scale=1.2)\n",
    "\n",
    "import matplotlib.pyplot as plt\n",
    "%matplotlib inline"
   ]
  },
  {
   "cell_type": "code",
   "execution_count": 2,
   "metadata": {},
   "outputs": [],
   "source": [
    "df_cleaned = pd.read_csv('Cleaned_default_status.csv', index_col = 0)"
   ]
  },
  {
   "cell_type": "code",
   "execution_count": 3,
   "metadata": {},
   "outputs": [
    {
     "data": {
      "text/html": [
       "<div>\n",
       "<style scoped>\n",
       "    .dataframe tbody tr th:only-of-type {\n",
       "        vertical-align: middle;\n",
       "    }\n",
       "\n",
       "    .dataframe tbody tr th {\n",
       "        vertical-align: top;\n",
       "    }\n",
       "\n",
       "    .dataframe thead th {\n",
       "        text-align: right;\n",
       "    }\n",
       "</style>\n",
       "<table border=\"1\" class=\"dataframe\">\n",
       "  <thead>\n",
       "    <tr style=\"text-align: right;\">\n",
       "      <th></th>\n",
       "      <th>LIMIT_BAL</th>\n",
       "      <th>SEX</th>\n",
       "      <th>EDUCATION</th>\n",
       "      <th>MARRIAGE</th>\n",
       "      <th>AGE</th>\n",
       "      <th>September_status</th>\n",
       "      <th>August_status</th>\n",
       "      <th>July_status</th>\n",
       "      <th>June_status</th>\n",
       "      <th>May_status</th>\n",
       "      <th>...</th>\n",
       "      <th>June_payment</th>\n",
       "      <th>May_payment</th>\n",
       "      <th>April_payment</th>\n",
       "      <th>Default</th>\n",
       "      <th>September_balance</th>\n",
       "      <th>August_balance</th>\n",
       "      <th>July_balance</th>\n",
       "      <th>June_balance</th>\n",
       "      <th>May_balance</th>\n",
       "      <th>April_balance</th>\n",
       "    </tr>\n",
       "  </thead>\n",
       "  <tbody>\n",
       "    <tr>\n",
       "      <th>0</th>\n",
       "      <td>200000</td>\n",
       "      <td>0</td>\n",
       "      <td>3</td>\n",
       "      <td>1</td>\n",
       "      <td>30</td>\n",
       "      <td>2</td>\n",
       "      <td>2</td>\n",
       "      <td>2</td>\n",
       "      <td>2</td>\n",
       "      <td>2</td>\n",
       "      <td>...</td>\n",
       "      <td>6000</td>\n",
       "      <td>5000</td>\n",
       "      <td>0</td>\n",
       "      <td>0</td>\n",
       "      <td>133727</td>\n",
       "      <td>137137</td>\n",
       "      <td>139514</td>\n",
       "      <td>141273</td>\n",
       "      <td>144244</td>\n",
       "      <td>151973</td>\n",
       "    </tr>\n",
       "    <tr>\n",
       "      <th>1</th>\n",
       "      <td>200000</td>\n",
       "      <td>0</td>\n",
       "      <td>4</td>\n",
       "      <td>2</td>\n",
       "      <td>27</td>\n",
       "      <td>-1</td>\n",
       "      <td>-1</td>\n",
       "      <td>-1</td>\n",
       "      <td>-1</td>\n",
       "      <td>-1</td>\n",
       "      <td>...</td>\n",
       "      <td>0</td>\n",
       "      <td>0</td>\n",
       "      <td>0</td>\n",
       "      <td>0</td>\n",
       "      <td>0</td>\n",
       "      <td>0</td>\n",
       "      <td>0</td>\n",
       "      <td>0</td>\n",
       "      <td>0</td>\n",
       "      <td>0</td>\n",
       "    </tr>\n",
       "    <tr>\n",
       "      <th>2</th>\n",
       "      <td>20000</td>\n",
       "      <td>0</td>\n",
       "      <td>2</td>\n",
       "      <td>2</td>\n",
       "      <td>28</td>\n",
       "      <td>0</td>\n",
       "      <td>0</td>\n",
       "      <td>2</td>\n",
       "      <td>0</td>\n",
       "      <td>0</td>\n",
       "      <td>...</td>\n",
       "      <td>6</td>\n",
       "      <td>6530</td>\n",
       "      <td>8103</td>\n",
       "      <td>1</td>\n",
       "      <td>-416</td>\n",
       "      <td>5693</td>\n",
       "      <td>-957</td>\n",
       "      <td>8162</td>\n",
       "      <td>364</td>\n",
       "      <td>3321</td>\n",
       "    </tr>\n",
       "    <tr>\n",
       "      <th>3</th>\n",
       "      <td>50000</td>\n",
       "      <td>1</td>\n",
       "      <td>2</td>\n",
       "      <td>2</td>\n",
       "      <td>23</td>\n",
       "      <td>0</td>\n",
       "      <td>0</td>\n",
       "      <td>0</td>\n",
       "      <td>-1</td>\n",
       "      <td>0</td>\n",
       "      <td>...</td>\n",
       "      <td>700</td>\n",
       "      <td>718</td>\n",
       "      <td>700</td>\n",
       "      <td>0</td>\n",
       "      <td>47099</td>\n",
       "      <td>9474</td>\n",
       "      <td>-1981</td>\n",
       "      <td>47737</td>\n",
       "      <td>17994</td>\n",
       "      <td>18429</td>\n",
       "    </tr>\n",
       "    <tr>\n",
       "      <th>4</th>\n",
       "      <td>20000</td>\n",
       "      <td>1</td>\n",
       "      <td>2</td>\n",
       "      <td>1</td>\n",
       "      <td>47</td>\n",
       "      <td>-1</td>\n",
       "      <td>-1</td>\n",
       "      <td>-1</td>\n",
       "      <td>-1</td>\n",
       "      <td>-1</td>\n",
       "      <td>...</td>\n",
       "      <td>0</td>\n",
       "      <td>0</td>\n",
       "      <td>0</td>\n",
       "      <td>0</td>\n",
       "      <td>-390</td>\n",
       "      <td>780</td>\n",
       "      <td>0</td>\n",
       "      <td>0</td>\n",
       "      <td>0</td>\n",
       "      <td>0</td>\n",
       "    </tr>\n",
       "    <tr>\n",
       "      <th>...</th>\n",
       "      <td>...</td>\n",
       "      <td>...</td>\n",
       "      <td>...</td>\n",
       "      <td>...</td>\n",
       "      <td>...</td>\n",
       "      <td>...</td>\n",
       "      <td>...</td>\n",
       "      <td>...</td>\n",
       "      <td>...</td>\n",
       "      <td>...</td>\n",
       "      <td>...</td>\n",
       "      <td>...</td>\n",
       "      <td>...</td>\n",
       "      <td>...</td>\n",
       "      <td>...</td>\n",
       "      <td>...</td>\n",
       "      <td>...</td>\n",
       "      <td>...</td>\n",
       "      <td>...</td>\n",
       "      <td>...</td>\n",
       "      <td>...</td>\n",
       "    </tr>\n",
       "    <tr>\n",
       "      <th>22495</th>\n",
       "      <td>50000</td>\n",
       "      <td>0</td>\n",
       "      <td>2</td>\n",
       "      <td>1</td>\n",
       "      <td>50</td>\n",
       "      <td>0</td>\n",
       "      <td>0</td>\n",
       "      <td>0</td>\n",
       "      <td>0</td>\n",
       "      <td>0</td>\n",
       "      <td>...</td>\n",
       "      <td>1000</td>\n",
       "      <td>697</td>\n",
       "      <td>532</td>\n",
       "      <td>0</td>\n",
       "      <td>19956</td>\n",
       "      <td>19133</td>\n",
       "      <td>19485</td>\n",
       "      <td>16081</td>\n",
       "      <td>15537</td>\n",
       "      <td>15798</td>\n",
       "    </tr>\n",
       "    <tr>\n",
       "      <th>22496</th>\n",
       "      <td>80000</td>\n",
       "      <td>0</td>\n",
       "      <td>2</td>\n",
       "      <td>1</td>\n",
       "      <td>53</td>\n",
       "      <td>0</td>\n",
       "      <td>0</td>\n",
       "      <td>0</td>\n",
       "      <td>0</td>\n",
       "      <td>0</td>\n",
       "      <td>...</td>\n",
       "      <td>800</td>\n",
       "      <td>1100</td>\n",
       "      <td>1100</td>\n",
       "      <td>0</td>\n",
       "      <td>46158</td>\n",
       "      <td>97888</td>\n",
       "      <td>19625</td>\n",
       "      <td>19525</td>\n",
       "      <td>19176</td>\n",
       "      <td>19562</td>\n",
       "    </tr>\n",
       "    <tr>\n",
       "      <th>22497</th>\n",
       "      <td>50000</td>\n",
       "      <td>0</td>\n",
       "      <td>2</td>\n",
       "      <td>1</td>\n",
       "      <td>50</td>\n",
       "      <td>0</td>\n",
       "      <td>0</td>\n",
       "      <td>0</td>\n",
       "      <td>0</td>\n",
       "      <td>0</td>\n",
       "      <td>...</td>\n",
       "      <td>1628</td>\n",
       "      <td>1520</td>\n",
       "      <td>2202</td>\n",
       "      <td>0</td>\n",
       "      <td>49142</td>\n",
       "      <td>48301</td>\n",
       "      <td>47253</td>\n",
       "      <td>47760</td>\n",
       "      <td>47333</td>\n",
       "      <td>45563</td>\n",
       "    </tr>\n",
       "    <tr>\n",
       "      <th>22498</th>\n",
       "      <td>220000</td>\n",
       "      <td>1</td>\n",
       "      <td>2</td>\n",
       "      <td>1</td>\n",
       "      <td>32</td>\n",
       "      <td>0</td>\n",
       "      <td>0</td>\n",
       "      <td>0</td>\n",
       "      <td>0</td>\n",
       "      <td>0</td>\n",
       "      <td>...</td>\n",
       "      <td>4000</td>\n",
       "      <td>4000</td>\n",
       "      <td>4500</td>\n",
       "      <td>0</td>\n",
       "      <td>198264</td>\n",
       "      <td>99304</td>\n",
       "      <td>101226</td>\n",
       "      <td>103476</td>\n",
       "      <td>105746</td>\n",
       "      <td>107420</td>\n",
       "    </tr>\n",
       "    <tr>\n",
       "      <th>22499</th>\n",
       "      <td>130000</td>\n",
       "      <td>1</td>\n",
       "      <td>1</td>\n",
       "      <td>1</td>\n",
       "      <td>39</td>\n",
       "      <td>2</td>\n",
       "      <td>-1</td>\n",
       "      <td>-1</td>\n",
       "      <td>-1</td>\n",
       "      <td>-1</td>\n",
       "      <td>...</td>\n",
       "      <td>3169</td>\n",
       "      <td>390</td>\n",
       "      <td>390</td>\n",
       "      <td>0</td>\n",
       "      <td>0</td>\n",
       "      <td>0</td>\n",
       "      <td>-678</td>\n",
       "      <td>-2101</td>\n",
       "      <td>2779</td>\n",
       "      <td>0</td>\n",
       "    </tr>\n",
       "  </tbody>\n",
       "</table>\n",
       "<p>22500 rows × 30 columns</p>\n",
       "</div>"
      ],
      "text/plain": [
       "       LIMIT_BAL  SEX  EDUCATION  MARRIAGE  AGE  September_status  \\\n",
       "0         200000    0          3         1   30                 2   \n",
       "1         200000    0          4         2   27                -1   \n",
       "2          20000    0          2         2   28                 0   \n",
       "3          50000    1          2         2   23                 0   \n",
       "4          20000    1          2         1   47                -1   \n",
       "...          ...  ...        ...       ...  ...               ...   \n",
       "22495      50000    0          2         1   50                 0   \n",
       "22496      80000    0          2         1   53                 0   \n",
       "22497      50000    0          2         1   50                 0   \n",
       "22498     220000    1          2         1   32                 0   \n",
       "22499     130000    1          1         1   39                 2   \n",
       "\n",
       "       August_status  July_status  June_status  May_status  ...  June_payment  \\\n",
       "0                  2            2            2           2  ...          6000   \n",
       "1                 -1           -1           -1          -1  ...             0   \n",
       "2                  0            2            0           0  ...             6   \n",
       "3                  0            0           -1           0  ...           700   \n",
       "4                 -1           -1           -1          -1  ...             0   \n",
       "...              ...          ...          ...         ...  ...           ...   \n",
       "22495              0            0            0           0  ...          1000   \n",
       "22496              0            0            0           0  ...           800   \n",
       "22497              0            0            0           0  ...          1628   \n",
       "22498              0            0            0           0  ...          4000   \n",
       "22499             -1           -1           -1          -1  ...          3169   \n",
       "\n",
       "       May_payment  April_payment  Default  September_balance  August_balance  \\\n",
       "0             5000              0        0             133727          137137   \n",
       "1                0              0        0                  0               0   \n",
       "2             6530           8103        1               -416            5693   \n",
       "3              718            700        0              47099            9474   \n",
       "4                0              0        0               -390             780   \n",
       "...            ...            ...      ...                ...             ...   \n",
       "22495          697            532        0              19956           19133   \n",
       "22496         1100           1100        0              46158           97888   \n",
       "22497         1520           2202        0              49142           48301   \n",
       "22498         4000           4500        0             198264           99304   \n",
       "22499          390            390        0                  0               0   \n",
       "\n",
       "       July_balance  June_balance  May_balance  April_balance  \n",
       "0            139514        141273       144244         151973  \n",
       "1                 0             0            0              0  \n",
       "2              -957          8162          364           3321  \n",
       "3             -1981         47737        17994          18429  \n",
       "4                 0             0            0              0  \n",
       "...             ...           ...          ...            ...  \n",
       "22495         19485         16081        15537          15798  \n",
       "22496         19625         19525        19176          19562  \n",
       "22497         47253         47760        47333          45563  \n",
       "22498        101226        103476       105746         107420  \n",
       "22499          -678         -2101         2779              0  \n",
       "\n",
       "[22500 rows x 30 columns]"
      ]
     },
     "execution_count": 3,
     "metadata": {},
     "output_type": "execute_result"
    }
   ],
   "source": [
    "df_cleaned"
   ]
  },
  {
   "cell_type": "code",
   "execution_count": null,
   "metadata": {},
   "outputs": [],
   "source": []
  },
  {
   "cell_type": "code",
   "execution_count": 40,
   "metadata": {},
   "outputs": [],
   "source": [
    "default = df_cleaned[df_cleaned['Default'] == 1]\n",
    "no_default = df_cleaned[df_cleaned['Default'] == 0]"
   ]
  },
  {
   "cell_type": "code",
   "execution_count": 41,
   "metadata": {},
   "outputs": [],
   "source": [
    "classes = ['default', 'no_default']"
   ]
  },
  {
   "cell_type": "code",
   "execution_count": null,
   "metadata": {},
   "outputs": [],
   "source": []
  },
  {
   "cell_type": "code",
   "execution_count": null,
   "metadata": {},
   "outputs": [],
   "source": []
  },
  {
   "cell_type": "markdown",
   "metadata": {},
   "source": [
    "## Messing around with the data to find new features"
   ]
  },
  {
   "cell_type": "markdown",
   "metadata": {},
   "source": [
    "#### Already done in first notebook"
   ]
  },
  {
   "cell_type": "code",
   "execution_count": 42,
   "metadata": {},
   "outputs": [],
   "source": [
    "# df_cleaned['September_balance'] = [df_cleaned['September_bill'][i] - df_cleaned['September_payment'][i] \n",
    "#                        for i in range(len(df_cleaned['September_payment']))]\n",
    "\n",
    "# df_cleaned['August_balance'] = [df_cleaned['August_bill'][i] - df_cleaned['August_payment'][i] \n",
    "#                        for i in range(len(df_cleaned['August_payment']))]\n",
    "\n",
    "# df_cleaned['July_balance'] = [df_cleaned['July_bill'][i] - df_cleaned['July_payment'][i] \n",
    "#                        for i in range(len(df_cleaned['July_payment']))]\n",
    "\n",
    "# df_cleaned['June_balance'] = [df_cleaned['June_bill'][i] - df_cleaned['June_payment'][i] \n",
    "#                        for i in range(len(df_cleaned['June_payment']))]\n",
    "\n",
    "# df_cleaned['May_balance'] = [df_cleaned['May_bill'][i] - df_cleaned['May_payment'][i] \n",
    "#                        for i in range(len(df_cleaned['May_payment']))]\n",
    "\n",
    "# df_cleaned['April_balance'] = [df_cleaned['April_bill'][i] - df_cleaned['April_payment'][i] \n",
    "#                        for i in range(len(df_cleaned['April_payment']))]"
   ]
  },
  {
   "cell_type": "code",
   "execution_count": null,
   "metadata": {},
   "outputs": [],
   "source": []
  },
  {
   "cell_type": "code",
   "execution_count": 4,
   "metadata": {},
   "outputs": [],
   "source": [
    "df_cleaned['Min_payment_sep'] = [1 if df_cleaned['September_bill'][i] <= 0 \n",
    "                                 else 1 if (df_cleaned['September_payment'][i] / df_cleaned['September_bill'][i]) > .03       \n",
    "                                 else 0 for i in range(len(df_cleaned['September_bill']))]\n",
    "\n",
    "df_cleaned['Min_payment_aug'] = [1 if df_cleaned['August_bill'][i] <= 0\n",
    "                                 else 1 if (df_cleaned['August_payment'][i] / df_cleaned['August_bill'][i]) > .03       \n",
    "                                 else 0 for i in range(len(df_cleaned['August_bill']))]\n",
    "\n",
    "df_cleaned['Min_payment_jul'] = [1 if df_cleaned['July_bill'][i] <= 0\n",
    "                                 else 1 if (df_cleaned['July_payment'][i] / df_cleaned['July_bill'][i]) > .03       \n",
    "                                 else 0 for i in range(len(df_cleaned['July_bill']))]\n",
    "\n",
    "df_cleaned['Min_payment_jun'] = [1 if df_cleaned['June_bill'][i] <= 0\n",
    "                                 else 1 if (df_cleaned['June_payment'][i] / df_cleaned['June_bill'][i]) > .03       \n",
    "                                else 0 for i in range(len(df_cleaned['June_bill']))]\n",
    "\n",
    "df_cleaned['Min_payment_may'] = [1 if df_cleaned['May_bill'][i] <= 0\n",
    "                                 else 1 if (df_cleaned['May_payment'][i] / df_cleaned['May_bill'][i]) > .03       \n",
    "                                 else 0 for i in range(len(df_cleaned['May_bill']))]\n",
    "\n",
    "df_cleaned['Min_payment_apr'] = [1 if df_cleaned['April_bill'][i] <= 0\n",
    "                                 else 1 if (df_cleaned['April_payment'][i] / df_cleaned['April_bill'][i]) > .03       \n",
    "                                 else 0 for i in range(len(df_cleaned['April_bill']))]"
   ]
  },
  {
   "cell_type": "code",
   "execution_count": null,
   "metadata": {},
   "outputs": [],
   "source": []
  },
  {
   "cell_type": "markdown",
   "metadata": {},
   "source": [
    "## Prepping data for first Practice mode"
   ]
  },
  {
   "cell_type": "code",
   "execution_count": 5,
   "metadata": {},
   "outputs": [],
   "source": [
    "df_cleaned.drop(columns = ['September_bill', 'August_bill', 'July_bill',\n",
    "       'June_bill', 'May_bill', 'April_bill', 'September_payment',\n",
    "       'August_payment', 'July_payment', 'June_payment', 'May_payment',\n",
    "       'April_payment'], inplace = True)"
   ]
  },
  {
   "cell_type": "code",
   "execution_count": 6,
   "metadata": {},
   "outputs": [],
   "source": [
    "edu_dummies = pd.get_dummies(df_cleaned['EDUCATION'], prefix = 'edu', drop_first = True)\n",
    "\n",
    "marriage_dummies = pd.get_dummies(df_cleaned['MARRIAGE'], prefix = 'marriage', drop_first = True)\n",
    "\n",
    "status_dummies_sep = pd.get_dummies(df_cleaned['September_status'], \n",
    "                                    prefix = 'September_status', drop_first = True)\n",
    "\n",
    "status_dummies_aug = pd.get_dummies(df_cleaned['August_status'], \n",
    "                                    prefix = 'August_status', drop_first = True)\n",
    "\n",
    "status_dummies_jul = pd.get_dummies(df_cleaned['July_status'], \n",
    "                                    prefix = 'July_status', drop_first = True)\n",
    "\n",
    "status_dummies_jun = pd.get_dummies(df_cleaned['June_status'], \n",
    "                                    prefix = 'June_status', drop_first = True)\n",
    "\n",
    "status_dummies_may = pd.get_dummies(df_cleaned['May_status'], \n",
    "                                    prefix = 'May_status', drop_first = True)\n",
    "\n",
    "status_dummies_apr = pd.get_dummies(df_cleaned['April_status'], \n",
    "                                    prefix = 'April_status', drop_first = True)"
   ]
  },
  {
   "cell_type": "code",
   "execution_count": 7,
   "metadata": {},
   "outputs": [],
   "source": [
    "# df_w_dummies = pd.concat([df_cleaned, edu_dummies, marriage_dummies, status_dummies_sep, \n",
    "#                          status_dummies_aug, status_dummies_jul, status_dummies_jun, \n",
    "#                          status_dummies_may, status_dummies_apr], axis = 1)\n",
    "\n",
    "df_w_dummies = pd.concat([df_cleaned, edu_dummies, marriage_dummies], axis = 1)"
   ]
  },
  {
   "cell_type": "code",
   "execution_count": 8,
   "metadata": {},
   "outputs": [],
   "source": [
    "df_w_dummies.drop(columns = ['EDUCATION', 'MARRIAGE'], inplace = True)"
   ]
  },
  {
   "cell_type": "code",
   "execution_count": null,
   "metadata": {},
   "outputs": [],
   "source": []
  },
  {
   "cell_type": "code",
   "execution_count": null,
   "metadata": {},
   "outputs": [],
   "source": []
  },
  {
   "cell_type": "code",
   "execution_count": 9,
   "metadata": {},
   "outputs": [],
   "source": [
    "df_w_dummies.to_csv('Data_wo_status_dummies.csv')"
   ]
  },
  {
   "cell_type": "code",
   "execution_count": null,
   "metadata": {},
   "outputs": [],
   "source": []
  },
  {
   "cell_type": "code",
   "execution_count": null,
   "metadata": {},
   "outputs": [],
   "source": [
    "df_w_dummies['Limit_min_sep'] = [df_w_dummies['LIMIT_BAL'][i] * df_w_dummies['Min_payment_sep'][i]\n",
    "                            for i in range(len(df_w_dummies['LIMIT_BAL']))]\n",
    "\n",
    "df_w_dummies['Limit_min_aug'] = [df_w_dummies['LIMIT_BAL'][i] * df_w_dummies['Min_payment_aug'][i]\n",
    "                            for i in range(len(df_w_dummies['LIMIT_BAL']))]\n",
    "\n",
    "df_w_dummies['Limit_min_jul'] = [df_w_dummies['LIMIT_BAL'][i] * df_w_dummies['Min_payment_jul'][i]\n",
    "                            for i in range(len(df_w_dummies['LIMIT_BAL']))]\n",
    "\n",
    "df_w_dummies['Limit_min_jun'] = [df_w_dummies['LIMIT_BAL'][i] * df_w_dummies['Min_payment_jun'][i]\n",
    "                            for i in range(len(df_w_dummies['LIMIT_BAL']))]\n",
    "\n",
    "df_w_dummies['Limit_min_may'] = [df_w_dummies['LIMIT_BAL'][i] * df_w_dummies['Min_payment_may'][i]\n",
    "                            for i in range(len(df_w_dummies['LIMIT_BAL']))]\n",
    "\n",
    "df_w_dummies['Limit_min_apr'] = [df_w_dummies['LIMIT_BAL'][i] * df_w_dummies['Min_payment_apr'][i]\n",
    "                            for i in range(len(df_w_dummies['LIMIT_BAL']))]"
   ]
  },
  {
   "cell_type": "code",
   "execution_count": null,
   "metadata": {},
   "outputs": [],
   "source": [
    "# df_w_dummies['sep_0'] = [df_w_dummies['September_status_9'][i] * df_w_dummies['Min_payment_sep'][i]      \n",
    "#                          for i in range(len(df_w_dummies['September_status_9']))]\n",
    "\n",
    "# df_w_dummies['aug_0'] = [df_w_dummies['August_status_9'][i] * df_w_dummies['Min_payment_aug'][i]      \n",
    "#                          for i in range(len(df_w_dummies['September_status_9']))]\n",
    "\n",
    "# df_w_dummies['jul_0'] = [df_w_dummies['July_status_9'][i] * df_w_dummies['Min_payment_jul'][i]      \n",
    "#                          for i in range(len(df_w_dummies['September_status_9']))]\n",
    "\n",
    "# df_w_dummies['jun_0'] = [df_w_dummies['June_status_9'][i] * df_w_dummies['Min_payment_jun'][i]      \n",
    "#                          for i in range(len(df_w_dummies['September_status_9']))]\n",
    "\n",
    "# df_w_dummies['may_0'] = [df_w_dummies['May_status_9'][i] * df_w_dummies['Min_payment_may'][i]      \n",
    "#                          for i in range(len(df_w_dummies['September_status_9']))]\n",
    "\n",
    "# df_w_dummies['apr_0'] = [df_w_dummies['April_status_9'][i] * df_w_dummies['Min_payment_apr'][i]      \n",
    "#                          for i in range(len(df_w_dummies['September_status_9']))]"
   ]
  },
  {
   "cell_type": "code",
   "execution_count": null,
   "metadata": {},
   "outputs": [],
   "source": []
  },
  {
   "cell_type": "code",
   "execution_count": null,
   "metadata": {},
   "outputs": [],
   "source": [
    "df_w_dummies.drop(columns = ['September_status', 'August_status', 'July_status', 'June_status', \n",
    "                             'May_status', 'April_status', 'EDUCATION', 'MARRIAGE'], inplace = True)"
   ]
  },
  {
   "cell_type": "code",
   "execution_count": null,
   "metadata": {},
   "outputs": [],
   "source": []
  },
  {
   "cell_type": "code",
   "execution_count": null,
   "metadata": {},
   "outputs": [],
   "source": [
    "df_w_dummies.shape"
   ]
  },
  {
   "cell_type": "code",
   "execution_count": null,
   "metadata": {},
   "outputs": [],
   "source": []
  },
  {
   "cell_type": "code",
   "execution_count": null,
   "metadata": {},
   "outputs": [],
   "source": [
    "sns.set(style=\"white\")\n",
    "\n",
    "\n",
    "# Compute the correlation matrix\n",
    "corr = np.abs(df_w_dummies.corr())\n",
    "\n",
    "# Generate a mask for the upper triangle\n",
    "mask = np.zeros_like(corr, dtype=np.bool)\n",
    "mask[np.triu_indices_from(mask)] = True\n",
    "\n",
    "# Set up the matplotlib figure\n",
    "f, ax = plt.subplots(figsize=(11, 9))\n",
    "\n",
    "# Generate a custom diverging colormap\n",
    "cmap = sns.diverging_palette(220, 10, as_cmap=True)\n",
    "\n",
    "# Draw the heatmap with the mask and correct aspect ratio\n",
    "sns.heatmap(corr, mask=mask, cmap=cmap, vmax=1, center=0,\n",
    "            square=True, linewidths=.5, cbar_kws={\"shrink\": .5})"
   ]
  },
  {
   "cell_type": "code",
   "execution_count": null,
   "metadata": {},
   "outputs": [],
   "source": [
    "# Create correlation matrix\n",
    "corr_matrix = df_w_dummies.corr().abs()\n",
    "\n",
    "# Select upper triangle of correlation matrix\n",
    "upper = corr_matrix.where(np.triu(np.ones(corr_matrix.shape), k=1).astype(np.bool))\n",
    "upper"
   ]
  },
  {
   "cell_type": "code",
   "execution_count": null,
   "metadata": {},
   "outputs": [],
   "source": []
  },
  {
   "cell_type": "code",
   "execution_count": null,
   "metadata": {},
   "outputs": [],
   "source": [
    "to_drop = [column for column in upper.columns if any(upper[column] > 0.85)]"
   ]
  },
  {
   "cell_type": "code",
   "execution_count": null,
   "metadata": {},
   "outputs": [],
   "source": [
    "to_drop"
   ]
  },
  {
   "cell_type": "code",
   "execution_count": null,
   "metadata": {},
   "outputs": [],
   "source": [
    "df_w_dummies.drop(columns = to_drop, inplace = True)"
   ]
  },
  {
   "cell_type": "code",
   "execution_count": null,
   "metadata": {},
   "outputs": [],
   "source": []
  },
  {
   "cell_type": "markdown",
   "metadata": {},
   "source": [
    "## Modeling the Data"
   ]
  },
  {
   "cell_type": "code",
   "execution_count": null,
   "metadata": {},
   "outputs": [],
   "source": [
    "from sklearn.model_selection import train_test_split\n",
    "from sklearn.metrics import accuracy_score, f1_score\n",
    "from sklearn.preprocessing import PolynomialFeatures\n",
    "from sklearn.preprocessing import StandardScaler\n",
    "\n",
    "from sklearn.linear_model import LogisticRegression\n",
    "\n",
    "from sklearn import metrics\n",
    "\n",
    "from sklearn.metrics import confusion_matrix\n",
    "import itertools"
   ]
  },
  {
   "cell_type": "code",
   "execution_count": null,
   "metadata": {},
   "outputs": [],
   "source": [
    "X = df_w_dummies.drop('Default', axis = 1)\n",
    "y = df_w_dummies['Default']\n",
    "feature_cols = X.columns"
   ]
  },
  {
   "cell_type": "code",
   "execution_count": null,
   "metadata": {},
   "outputs": [],
   "source": [
    "# setting up testing and training sets\n",
    "X_train, X_test, y_train, y_test = train_test_split(X, y, test_size=0.25, random_state=23)"
   ]
  },
  {
   "cell_type": "code",
   "execution_count": null,
   "metadata": {},
   "outputs": [],
   "source": []
  },
  {
   "cell_type": "code",
   "execution_count": null,
   "metadata": {},
   "outputs": [],
   "source": [
    "scaler = StandardScaler()\n",
    "final_scaler = scaler.fit(X_train)\n",
    "X_train = pd.DataFrame(data=scaler.transform(X_train), columns=feature_cols)\n",
    "X_test = pd.DataFrame(data=scaler.transform(X_test), columns=feature_cols)"
   ]
  },
  {
   "cell_type": "code",
   "execution_count": null,
   "metadata": {},
   "outputs": [],
   "source": []
  },
  {
   "cell_type": "code",
   "execution_count": null,
   "metadata": {},
   "outputs": [],
   "source": [
    "lr_clf_weighted = LogisticRegression(penalty='l2', solver='liblinear', class_weight='balanced')\n",
    "\n",
    "lr_clf_weighted.fit(X_train, y_train)\n",
    "\n",
    "y_weighted_test = lr_clf_weighted.predict(X_test)\n"
   ]
  },
  {
   "cell_type": "code",
   "execution_count": null,
   "metadata": {},
   "outputs": [],
   "source": []
  },
  {
   "cell_type": "code",
   "execution_count": null,
   "metadata": {},
   "outputs": [],
   "source": [
    "# checking accuracy\n",
    "print('Test Accuracy score: ', accuracy_score(y_test, y_weighted_test))\n",
    "\n",
    "# checking precision\n",
    "print('Precision score: ', metrics.precision_score(y_test, y_weighted_test))\n",
    "\n",
    "# Checking recall\n",
    "print('Recall score: ', metrics.recall_score(y_test, y_weighted_test))\n",
    "\n",
    "# checking accuracy\n",
    "print('Test F1 score: ', f1_score(y_test, y_weighted_test))"
   ]
  },
  {
   "cell_type": "code",
   "execution_count": null,
   "metadata": {},
   "outputs": [],
   "source": [
    "def plot_confusion_matrix(cm, classes,\n",
    "                          normalize=False,\n",
    "                          title='Confusion matrix',\n",
    "                          cmap=plt.cm.Blues):\n",
    "    \"\"\"\n",
    "    This function prints and plots the confusion matrix.\n",
    "    Normalization can be applied by setting `normalize=True`.\n",
    "    \"\"\"\n",
    "    if normalize:\n",
    "        cm = cm.astype('float') / cm.sum(axis=1)[:, np.newaxis]\n",
    "        print(\"Normalized confusion matrix\")\n",
    "    else:\n",
    "        print('Confusion Matrix, without normalization')\n",
    "\n",
    "    print(cm)\n",
    "\n",
    "    plt.imshow(cm, interpolation='nearest', cmap=cmap)\n",
    "    plt.title(title)\n",
    "    plt.colorbar()\n",
    "    tick_marks = np.arange(len(classes))\n",
    "    plt.xticks(tick_marks, classes, rotation=45)\n",
    "    plt.yticks(tick_marks, classes)\n",
    "\n",
    "    fmt = '.2f' if normalize else 'd'\n",
    "    thresh = cm.max() / 2.\n",
    "    for i, j in itertools.product(range(cm.shape[0]), range(cm.shape[1])):\n",
    "        plt.text(j, i, format(cm[i, j], fmt),\n",
    "                 horizontalalignment=\"center\",\n",
    "                 color=\"white\" if cm[i, j] > thresh else \"black\")\n",
    "\n",
    "    plt.tight_layout()\n",
    "    plt.ylabel('True label')\n",
    "    plt.xlabel('Predicted label')"
   ]
  },
  {
   "cell_type": "code",
   "execution_count": null,
   "metadata": {},
   "outputs": [],
   "source": [
    "# new confusion matrix (threshold of 0.3)\n",
    "plot_confusion_matrix(metrics.confusion_matrix(y_test, y_weighted_test), classes,\n",
    "                          normalize=False,\n",
    "                          title='Confusion matrix',\n",
    "                          cmap=plt.cm.Blues)"
   ]
  },
  {
   "cell_type": "code",
   "execution_count": null,
   "metadata": {},
   "outputs": [],
   "source": []
  },
  {
   "cell_type": "markdown",
   "metadata": {},
   "source": [
    "## Oversampling with Smote and using KNN classifier"
   ]
  },
  {
   "cell_type": "code",
   "execution_count": null,
   "metadata": {},
   "outputs": [],
   "source": [
    "from imblearn.over_sampling import SMOTE\n",
    "from sklearn.neighbors import KNeighborsClassifier"
   ]
  },
  {
   "cell_type": "code",
   "execution_count": null,
   "metadata": {},
   "outputs": [],
   "source": [
    "sm = SMOTE(random_state=23)\n",
    "X_train_s, y_train_s = sm.fit_sample(X_train, y_train)"
   ]
  },
  {
   "cell_type": "code",
   "execution_count": null,
   "metadata": {},
   "outputs": [],
   "source": [
    "def fit_predict(model, x_train, y_train, test):\n",
    "    model.fit(x_train, y_train)\n",
    "    predictions = model.predict(test)\n",
    "    # checking accuracy\n",
    "    print('Test Accuracy score: ', accuracy_score(test, prediction))\n",
    "\n",
    "    # checking accuracy\n",
    "    print('Test F1 score: ', f1_score(test, predictions))"
   ]
  },
  {
   "cell_type": "code",
   "execution_count": null,
   "metadata": {},
   "outputs": [],
   "source": [
    "knn_smote = KNeighborsClassifier(n_neighbors=1)"
   ]
  },
  {
   "cell_type": "code",
   "execution_count": null,
   "metadata": {},
   "outputs": [],
   "source": [
    "knn_smote.fit(X_train_s, y_train_s)"
   ]
  },
  {
   "cell_type": "code",
   "execution_count": null,
   "metadata": {},
   "outputs": [],
   "source": [
    "y_pred_knn = knn_smote.predict(X_test)"
   ]
  },
  {
   "cell_type": "code",
   "execution_count": null,
   "metadata": {},
   "outputs": [],
   "source": [
    "# checking accuracy\n",
    "print('Test Accuracy score: ', accuracy_score(y_test, y_pred_knn))\n",
    "\n",
    "# checking precision\n",
    "print('Precision score: ', metrics.precision_score(y_test, y_pred_knn))\n",
    "\n",
    "# Checking recall\n",
    "print('Recall score: ', metrics.recall_score(y_test, y_pred_knn))\n",
    "\n",
    "# checking accuracy\n",
    "print('Test F1 score: ', f1_score(y_test, y_pred_knn))"
   ]
  },
  {
   "cell_type": "code",
   "execution_count": null,
   "metadata": {},
   "outputs": [],
   "source": [
    "# new confusion matrix (threshold of 0.3)\n",
    "plot_confusion_matrix(metrics.confusion_matrix(y_test, y_pred_knn), classes,\n",
    "                          normalize=False,\n",
    "                          title='Confusion matrix',\n",
    "                          cmap=plt.cm.Blues)"
   ]
  },
  {
   "cell_type": "code",
   "execution_count": null,
   "metadata": {},
   "outputs": [],
   "source": []
  },
  {
   "cell_type": "markdown",
   "metadata": {},
   "source": [
    "## Undersampling with Tomek Links and KNN Classifier"
   ]
  },
  {
   "cell_type": "code",
   "execution_count": null,
   "metadata": {},
   "outputs": [],
   "source": [
    "from collections import Counter\n",
    "from imblearn.under_sampling import TomekLinks"
   ]
  },
  {
   "cell_type": "code",
   "execution_count": null,
   "metadata": {},
   "outputs": [],
   "source": [
    "tl = TomekLinks()\n",
    "X_res, y_res = tl.fit_resample(X_train, y_train)\n",
    "print('Resampled dataset shape %s' % Counter(y_res))"
   ]
  },
  {
   "cell_type": "code",
   "execution_count": null,
   "metadata": {},
   "outputs": [],
   "source": [
    "knn_tomek = KNeighborsClassifier(n_neighbors=1)"
   ]
  },
  {
   "cell_type": "code",
   "execution_count": null,
   "metadata": {},
   "outputs": [],
   "source": [
    "knn_tomek.fit(X_res, y_res)"
   ]
  },
  {
   "cell_type": "code",
   "execution_count": null,
   "metadata": {},
   "outputs": [],
   "source": [
    "y_pred_knn_tomek = knn_smote.predict(X_test)"
   ]
  },
  {
   "cell_type": "code",
   "execution_count": null,
   "metadata": {},
   "outputs": [],
   "source": [
    "# checking accuracy\n",
    "print('Test Accuracy score: ', accuracy_score(y_test, y_pred_knn_tomek))\n",
    "\n",
    "# checking precision\n",
    "print('Precision score: ', metrics.precision_score(y_test, y_pred_knn_tomek))\n",
    "\n",
    "# Checking recall\n",
    "print('Recall score: ', metrics.recall_score(y_test, y_pred_knn_tomek))\n",
    "\n",
    "# checking accuracy\n",
    "print('Test F1 score: ', f1_score(y_test, y_pred_knn_tomek))"
   ]
  },
  {
   "cell_type": "code",
   "execution_count": null,
   "metadata": {},
   "outputs": [],
   "source": []
  },
  {
   "cell_type": "markdown",
   "metadata": {},
   "source": [
    "## Trying the same thing but finding the best hyper parameters"
   ]
  },
  {
   "cell_type": "code",
   "execution_count": null,
   "metadata": {},
   "outputs": [],
   "source": [
    "from sklearn.model_selection import GridSearchCV"
   ]
  },
  {
   "cell_type": "code",
   "execution_count": null,
   "metadata": {},
   "outputs": [],
   "source": [
    "n_values = [x for x in range(1, 21)]"
   ]
  },
  {
   "cell_type": "code",
   "execution_count": null,
   "metadata": {},
   "outputs": [],
   "source": [
    "param_grid = {'n_neighbors': n_values}"
   ]
  },
  {
   "cell_type": "code",
   "execution_count": null,
   "metadata": {},
   "outputs": [],
   "source": [
    "knn_smote_gscv = KNeighborsClassifier()"
   ]
  },
  {
   "cell_type": "code",
   "execution_count": null,
   "metadata": {},
   "outputs": [],
   "source": [
    "grid = GridSearchCV(knn_smote_gscv, param_grid, verbose = 1)"
   ]
  },
  {
   "cell_type": "code",
   "execution_count": null,
   "metadata": {},
   "outputs": [],
   "source": [
    "grid.fit(X_train_s, y_train_s)"
   ]
  },
  {
   "cell_type": "code",
   "execution_count": null,
   "metadata": {},
   "outputs": [],
   "source": [
    "# examine the first result\n",
    "print(grid.cv_results_['params'][0])\n",
    "print(grid.cv_results_['mean_test_score'][0])"
   ]
  },
  {
   "cell_type": "code",
   "execution_count": null,
   "metadata": {},
   "outputs": [],
   "source": []
  }
 ],
 "metadata": {
  "kernelspec": {
   "display_name": "Python 3",
   "language": "python",
   "name": "python3"
  },
  "language_info": {
   "codemirror_mode": {
    "name": "ipython",
    "version": 3
   },
   "file_extension": ".py",
   "mimetype": "text/x-python",
   "name": "python",
   "nbconvert_exporter": "python",
   "pygments_lexer": "ipython3",
   "version": "3.7.6"
  }
 },
 "nbformat": 4,
 "nbformat_minor": 4
}
