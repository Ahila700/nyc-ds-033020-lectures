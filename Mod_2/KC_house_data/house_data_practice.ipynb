{
 "cells": [
  {
   "cell_type": "code",
   "execution_count": 68,
   "metadata": {},
   "outputs": [],
   "source": [
    "import pandas as pd\n",
    "import numpy as np\n",
    "\n",
    "import statsmodels.api as sm\n",
    "from statsmodels.formula.api import ols\n",
    "\n",
    "from matplotlib import pyplot as plt\n",
    "\n",
    "from sklearn import linear_model\n",
    "from sklearn.linear_model import LinearRegression\n",
    "\n",
    "from sklearn.model_selection import train_test_split\n",
    "from sklearn import metrics\n",
    "from sklearn.preprocessing import PolynomialFeatures\n",
    "from sklearn.preprocessing import StandardScaler\n",
    "\n",
    "import seaborn as sns\n",
    "\n",
    "import pickle"
   ]
  },
  {
   "cell_type": "code",
   "execution_count": 2,
   "metadata": {},
   "outputs": [],
   "source": [
    "house = pd.read_csv('kc_house_data_train.csv', index_col = 0)"
   ]
  },
  {
   "cell_type": "code",
   "execution_count": 3,
   "metadata": {},
   "outputs": [],
   "source": [
    "house['bedrooms'] = np.where(house['bedrooms'] != 33, house['bedrooms'], 3)"
   ]
  },
  {
   "cell_type": "code",
   "execution_count": null,
   "metadata": {},
   "outputs": [],
   "source": []
  },
  {
   "cell_type": "markdown",
   "metadata": {},
   "source": [
    "# Adding distance to Water Column"
   ]
  },
  {
   "cell_type": "code",
   "execution_count": null,
   "metadata": {},
   "outputs": [],
   "source": [
    "waterfronts = house[house['waterfront'] == 1][['lat', 'long']]"
   ]
  },
  {
   "cell_type": "code",
   "execution_count": null,
   "metadata": {},
   "outputs": [],
   "source": [
    "water_lat = []\n",
    "\n",
    "for x in waterfronts['lat']:\n",
    "    water_lat.append(x)\n",
    "\n",
    "water_long = []\n",
    "\n",
    "for x in waterfronts['long']:\n",
    "    water_long.append(x)"
   ]
  },
  {
   "cell_type": "code",
   "execution_count": null,
   "metadata": {},
   "outputs": [],
   "source": [
    "with open('water_lat', 'wb') as handle:\n",
    "    pickle.dump(water_lat, handle, protocol=pickle.HIGHEST_PROTOCOL)"
   ]
  },
  {
   "cell_type": "code",
   "execution_count": null,
   "metadata": {},
   "outputs": [],
   "source": [
    "with open('water_long', 'wb') as handle:\n",
    "    pickle.dump(water_long, handle, protocol=pickle.HIGHEST_PROTOCOL)"
   ]
  },
  {
   "cell_type": "code",
   "execution_count": null,
   "metadata": {},
   "outputs": [],
   "source": [
    "water_dist = []"
   ]
  },
  {
   "cell_type": "code",
   "execution_count": null,
   "metadata": {},
   "outputs": [],
   "source": [
    "for i in range(len(house['lat'])):\n",
    "    cmin = 100\n",
    "    for j in range(len(water_lat)):\n",
    "        c2 = np.sqrt((house['lat'][i] - water_lat[j])**2 + (house['long'][i] - water_long[j])**2)\n",
    "        if c2 < cmin:\n",
    "            cmin = c2\n",
    "    water_dist.append(cmin)"
   ]
  },
  {
   "cell_type": "code",
   "execution_count": null,
   "metadata": {},
   "outputs": [],
   "source": []
  },
  {
   "cell_type": "code",
   "execution_count": null,
   "metadata": {},
   "outputs": [],
   "source": []
  },
  {
   "cell_type": "code",
   "execution_count": 5,
   "metadata": {},
   "outputs": [],
   "source": [
    "house['water_distance'] = water_distance"
   ]
  },
  {
   "cell_type": "code",
   "execution_count": null,
   "metadata": {},
   "outputs": [],
   "source": [
    "house[house['water_distance'] == 0][['lat', 'long']].head(50)"
   ]
  },
  {
   "cell_type": "code",
   "execution_count": null,
   "metadata": {},
   "outputs": [],
   "source": [
    "with open('water_distance', 'wb') as handle:\n",
    "    pickle.dump(water_dist, handle, protocol=pickle.HIGHEST_PROTOCOL)"
   ]
  },
  {
   "cell_type": "code",
   "execution_count": 4,
   "metadata": {},
   "outputs": [],
   "source": [
    "with open('water_distance', 'rb') as handle:\n",
    "    water_distance = pickle.load(handle)"
   ]
  },
  {
   "cell_type": "code",
   "execution_count": 10,
   "metadata": {},
   "outputs": [
    {
     "data": {
      "text/plain": [
       "<matplotlib.axes._subplots.AxesSubplot at 0x1a1e4c9d10>"
      ]
     },
     "execution_count": 10,
     "metadata": {},
     "output_type": "execute_result"
    },
    {
     "data": {
      "image/png": "[encoded data removed]",
      "text/plain": [
       "<Figure size 432x288 with 1 Axes>"
      ]
     },
     "metadata": {
      "needs_background": "light"
     },
     "output_type": "display_data"
    }
   ],
   "source": [
    "house.plot.scatter('zipcode', 'water_distance')"
   ]
  },
  {
   "cell_type": "markdown",
   "metadata": {},
   "source": [
    "# Creating log and sqrt to test the data"
   ]
  },
  {
   "cell_type": "code",
   "execution_count": 11,
   "metadata": {},
   "outputs": [],
   "source": [
    "house['price_log'] = np.log(house['price'])"
   ]
  },
  {
   "cell_type": "code",
   "execution_count": null,
   "metadata": {},
   "outputs": [],
   "source": [
    "house['price_sqrt'] = np.sqrt(house['price'])"
   ]
  },
  {
   "cell_type": "code",
   "execution_count": null,
   "metadata": {},
   "outputs": [],
   "source": []
  },
  {
   "cell_type": "markdown",
   "metadata": {},
   "source": [
    "# Analyzing the data by numbers"
   ]
  },
  {
   "cell_type": "code",
   "execution_count": null,
   "metadata": {},
   "outputs": [],
   "source": [
    "house.groupby('zipcode')['price'].describe().sort_values('mean', ascending = False)"
   ]
  },
  {
   "cell_type": "code",
   "execution_count": null,
   "metadata": {},
   "outputs": [],
   "source": [
    "house.groupby('view')['price'].describe()"
   ]
  },
  {
   "cell_type": "code",
   "execution_count": null,
   "metadata": {},
   "outputs": [],
   "source": [
    "house.groupby('grade')['price'].describe()"
   ]
  },
  {
   "cell_type": "code",
   "execution_count": null,
   "metadata": {},
   "outputs": [],
   "source": []
  },
  {
   "cell_type": "markdown",
   "metadata": {},
   "source": [
    "# EDA using graphs"
   ]
  },
  {
   "cell_type": "code",
   "execution_count": null,
   "metadata": {},
   "outputs": [],
   "source": [
    "practice.plot.scatter('water_distance', 'view')"
   ]
  },
  {
   "cell_type": "code",
   "execution_count": null,
   "metadata": {},
   "outputs": [],
   "source": []
  },
  {
   "cell_type": "code",
   "execution_count": null,
   "metadata": {},
   "outputs": [],
   "source": [
    "house.plot.scatter('sqft_living', 'price')\n",
    "\n",
    "# standard linear regression"
   ]
  },
  {
   "cell_type": "code",
   "execution_count": null,
   "metadata": {},
   "outputs": [],
   "source": [
    "house.plot.scatter('sqft_lot', 'price')\n",
    "\n",
    "# ??? weird curve"
   ]
  },
  {
   "cell_type": "code",
   "execution_count": null,
   "metadata": {},
   "outputs": [],
   "source": [
    "house.plot.scatter('floors', 'price')"
   ]
  },
  {
   "cell_type": "code",
   "execution_count": null,
   "metadata": {},
   "outputs": [],
   "source": [
    "house.plot.scatter('bedrooms', 'price')\n",
    "\n",
    "# ??? not sure what this could mean, possibly remove or group up "
   ]
  },
  {
   "cell_type": "code",
   "execution_count": null,
   "metadata": {},
   "outputs": [],
   "source": [
    "house.plot.scatter('bathrooms', 'price')\n",
    "\n",
    "# fairly linear but still not a great indicator"
   ]
  },
  {
   "cell_type": "code",
   "execution_count": null,
   "metadata": {},
   "outputs": [],
   "source": [
    "house.plot.scatter('view', 'price')\n",
    "\n",
    "# view doesnt seem to have a great relation"
   ]
  },
  {
   "cell_type": "code",
   "execution_count": null,
   "metadata": {},
   "outputs": [],
   "source": [
    "house.plot.scatter('grade', 'price')\n",
    "\n",
    "# some linear relation but possibly a logistic relation "
   ]
  },
  {
   "cell_type": "code",
   "execution_count": null,
   "metadata": {},
   "outputs": [],
   "source": [
    "house.plot.scatter('condition', 'price')\n",
    "\n",
    "# possibly groupy by 3 and higher or less than 3 since there is a big difference"
   ]
  },
  {
   "cell_type": "code",
   "execution_count": null,
   "metadata": {},
   "outputs": [],
   "source": [
    "house.plot.scatter('yr_built', 'price')"
   ]
  },
  {
   "cell_type": "code",
   "execution_count": null,
   "metadata": {},
   "outputs": [],
   "source": [
    "house.plot.scatter('yr_renovated', 'price')"
   ]
  },
  {
   "cell_type": "code",
   "execution_count": null,
   "metadata": {},
   "outputs": [],
   "source": [
    "# for the year columns, we could add them together and put it as a column of years since last reno"
   ]
  },
  {
   "cell_type": "code",
   "execution_count": null,
   "metadata": {},
   "outputs": [],
   "source": [
    "house.plot.scatter('sqft_above', 'price')\n",
    "\n",
    "# very similar to sqft_living so possibly "
   ]
  },
  {
   "cell_type": "code",
   "execution_count": null,
   "metadata": {},
   "outputs": [],
   "source": [
    "house.plot.scatter('sqft_basement', 'price')\n",
    "\n",
    "# some linearity but not very (possibly create a column of 0s and 1 to see \n",
    "# if they place has a basement and if there is any correlation)"
   ]
  },
  {
   "cell_type": "code",
   "execution_count": null,
   "metadata": {},
   "outputs": [],
   "source": []
  },
  {
   "cell_type": "markdown",
   "metadata": {},
   "source": [
    "# Creating a new columns for latest renovation"
   ]
  },
  {
   "cell_type": "code",
   "execution_count": 12,
   "metadata": {},
   "outputs": [],
   "source": [
    "years_since_renovation = []\n",
    "for i in range(len(house['yr_built'])):\n",
    "    if house['yr_renovated'][i] > house['yr_built'][i]:\n",
    "        years_since_renovation.append(int(house.date[i][0:4]) - house['yr_renovated'][i])\n",
    "    else:\n",
    "        years_since_renovation.append(int(house.date[i][0:4]) - house['yr_built'][i])"
   ]
  },
  {
   "cell_type": "code",
   "execution_count": 13,
   "metadata": {},
   "outputs": [],
   "source": [
    "house['last_change'] = years_since_renovation"
   ]
  },
  {
   "cell_type": "code",
   "execution_count": null,
   "metadata": {},
   "outputs": [],
   "source": []
  },
  {
   "cell_type": "markdown",
   "metadata": {},
   "source": [
    "# Creating a column to practice on so we still have the original house data"
   ]
  },
  {
   "cell_type": "code",
   "execution_count": 14,
   "metadata": {},
   "outputs": [],
   "source": [
    "practice = house"
   ]
  },
  {
   "cell_type": "code",
   "execution_count": null,
   "metadata": {},
   "outputs": [],
   "source": []
  },
  {
   "cell_type": "markdown",
   "metadata": {},
   "source": [
    "# Converting Basement sqft to a column of 1s and zeros for whether or not there is a basement"
   ]
  },
  {
   "cell_type": "code",
   "execution_count": 15,
   "metadata": {},
   "outputs": [],
   "source": [
    "practice['basement'] = np.where(practice['sqft_basement'] > 0, 1, 0)"
   ]
  },
  {
   "cell_type": "code",
   "execution_count": 17,
   "metadata": {
    "collapsed": true
   },
   "outputs": [
    {
     "data": {
      "text/plain": [
       "<matplotlib.axes._subplots.AxesSubplot at 0x1a1d026dd0>"
      ]
     },
     "execution_count": 17,
     "metadata": {},
     "output_type": "execute_result"
    },
    {
     "data": {
      "image/png": "[encoded data removed]",
      "text/plain": [
       "<Figure size 432x288 with 1 Axes>"
      ]
     },
     "metadata": {
      "needs_background": "light"
     },
     "output_type": "display_data"
    }
   ],
   "source": [
    "practice.groupby('basement')['sqft_living'].mean().plot.bar()"
   ]
  },
  {
   "cell_type": "markdown",
   "metadata": {},
   "source": []
  },
  {
   "cell_type": "markdown",
   "metadata": {},
   "source": [
    "# items to remove\n",
    "id\n",
    "\n",
    "date\n",
    "\n",
    "sqft_above\n",
    "\n",
    "sqft_basement\n",
    "\n",
    "sqft_living15\n",
    "\n",
    "sqft_lot15\n",
    "\n",
    "yr_built\n",
    "\n",
    "yr_renovated\n",
    "\n",
    "lat\n",
    "\n",
    "long\n"
   ]
  },
  {
   "cell_type": "markdown",
   "metadata": {},
   "source": [
    "# items to turn into dummies\n",
    "view\n",
    "\n",
    "condition\n",
    "\n",
    "grade\n",
    "\n",
    "zip code"
   ]
  },
  {
   "cell_type": "markdown",
   "metadata": {},
   "source": []
  },
  {
   "cell_type": "code",
   "execution_count": null,
   "metadata": {},
   "outputs": [],
   "source": []
  },
  {
   "cell_type": "markdown",
   "metadata": {},
   "source": [
    "# Dropping columns deemed unnecessary due to very low correlation"
   ]
  },
  {
   "cell_type": "code",
   "execution_count": 18,
   "metadata": {},
   "outputs": [],
   "source": [
    "practice.drop(columns = ['id', 'date', 'sqft_above', 'sqft_basement', 'sqft_living15', 'sqft_lot15',\n",
    "              'yr_built', 'yr_renovated', 'lat', 'long', 'waterfront'], axis = 1, inplace = True)"
   ]
  },
  {
   "cell_type": "code",
   "execution_count": null,
   "metadata": {},
   "outputs": [],
   "source": []
  },
  {
   "cell_type": "code",
   "execution_count": null,
   "metadata": {},
   "outputs": [],
   "source": []
  },
  {
   "cell_type": "markdown",
   "metadata": {},
   "source": [
    "# Creating dummy columns"
   ]
  },
  {
   "cell_type": "code",
   "execution_count": 104,
   "metadata": {},
   "outputs": [],
   "source": [
    "zip_dummy = pd.get_dummies(practice['zipcode'], prefix = 'zip', drop_first = True)\n",
    "# view_dummy = pd.get_dummies(practice['view'], prefix = 'view', drop_first = True)\n",
    "grade_dummy = pd.get_dummies(practice['grade'], prefix = 'grade', drop_first = True)\n",
    "# condition_dummy = pd.get_dummies(practice['condition'], prefix = 'condition', drop_first = True)"
   ]
  },
  {
   "cell_type": "code",
   "execution_count": 105,
   "metadata": {},
   "outputs": [],
   "source": [
    "grade_dummy.drop(columns = ['grade_3', 'grade_4', 'grade_5','grade_8'], axis=1, inplace = True)"
   ]
  },
  {
   "cell_type": "code",
   "execution_count": 106,
   "metadata": {},
   "outputs": [],
   "source": [
    "# view_dummy.drop(columns = ['view_1'], axis=1, inplace = True)"
   ]
  },
  {
   "cell_type": "code",
   "execution_count": 107,
   "metadata": {},
   "outputs": [],
   "source": [
    "zip_dummy = zip_dummy[['zip_98004', 'zip_98039', 'zip_98040', 'zip_98112']]"
   ]
  },
  {
   "cell_type": "markdown",
   "metadata": {},
   "source": [
    "# Creating new df to include all dummies"
   ]
  },
  {
   "cell_type": "code",
   "execution_count": 108,
   "metadata": {},
   "outputs": [],
   "source": [
    "full_practice = pd.concat([practice, zip_dummy, grade_dummy], axis = 1)\n"
   ]
  },
  {
   "cell_type": "code",
   "execution_count": null,
   "metadata": {},
   "outputs": [],
   "source": [
    "full_practice.head()"
   ]
  },
  {
   "cell_type": "markdown",
   "metadata": {},
   "source": [
    "# Dropping extra columns that were made into dummies"
   ]
  },
  {
   "cell_type": "code",
   "execution_count": 109,
   "metadata": {},
   "outputs": [],
   "source": [
    "full_practice.drop(columns = ['view', 'condition', 'grade', 'zipcode', \n",
    "                              'sqft_lot', 'floors', 'bedrooms', 'bathrooms'], axis = 1, inplace = True)"
   ]
  },
  {
   "cell_type": "code",
   "execution_count": 110,
   "metadata": {},
   "outputs": [],
   "source": [
    "# Dropped sqft_lot as it was not a good indicator according to the model and correlation"
   ]
  },
  {
   "cell_type": "code",
   "execution_count": 111,
   "metadata": {},
   "outputs": [
    {
     "data": {
      "text/html": [
       "<div>\n",
       "<style scoped>\n",
       "    .dataframe tbody tr th:only-of-type {\n",
       "        vertical-align: middle;\n",
       "    }\n",
       "\n",
       "    .dataframe tbody tr th {\n",
       "        vertical-align: top;\n",
       "    }\n",
       "\n",
       "    .dataframe thead th {\n",
       "        text-align: right;\n",
       "    }\n",
       "</style>\n",
       "<table border=\"1\" class=\"dataframe\">\n",
       "  <thead>\n",
       "    <tr style=\"text-align: right;\">\n",
       "      <th></th>\n",
       "      <th>price</th>\n",
       "      <th>sqft_living</th>\n",
       "      <th>water_distance</th>\n",
       "      <th>price_log</th>\n",
       "      <th>last_change</th>\n",
       "      <th>basement</th>\n",
       "      <th>zip_98004</th>\n",
       "      <th>zip_98039</th>\n",
       "      <th>zip_98040</th>\n",
       "      <th>zip_98112</th>\n",
       "      <th>grade_6</th>\n",
       "      <th>grade_7</th>\n",
       "      <th>grade_9</th>\n",
       "      <th>grade_10</th>\n",
       "      <th>grade_11</th>\n",
       "      <th>grade_12</th>\n",
       "      <th>grade_13</th>\n",
       "    </tr>\n",
       "  </thead>\n",
       "  <tbody>\n",
       "    <tr>\n",
       "      <th>price</th>\n",
       "      <td>1.000000</td>\n",
       "      <td>0.703540</td>\n",
       "      <td>-0.205132</td>\n",
       "      <td>0.886244</td>\n",
       "      <td>-0.104828</td>\n",
       "      <td>0.176970</td>\n",
       "      <td>0.270366</td>\n",
       "      <td>0.219701</td>\n",
       "      <td>0.199329</td>\n",
       "      <td>0.174365</td>\n",
       "      <td>-0.206989</td>\n",
       "      <td>-0.312121</td>\n",
       "      <td>0.232428</td>\n",
       "      <td>0.332676</td>\n",
       "      <td>0.355224</td>\n",
       "      <td>0.307231</td>\n",
       "      <td>0.233989</td>\n",
       "    </tr>\n",
       "    <tr>\n",
       "      <th>sqft_living</th>\n",
       "      <td>0.703540</td>\n",
       "      <td>1.000000</td>\n",
       "      <td>-0.003750</td>\n",
       "      <td>0.696895</td>\n",
       "      <td>-0.343313</td>\n",
       "      <td>0.203606</td>\n",
       "      <td>0.113783</td>\n",
       "      <td>0.096565</td>\n",
       "      <td>0.125568</td>\n",
       "      <td>0.055769</td>\n",
       "      <td>-0.311957</td>\n",
       "      <td>-0.354918</td>\n",
       "      <td>0.318358</td>\n",
       "      <td>0.362762</td>\n",
       "      <td>0.346887</td>\n",
       "      <td>0.248618</td>\n",
       "      <td>0.153617</td>\n",
       "    </tr>\n",
       "    <tr>\n",
       "      <th>water_distance</th>\n",
       "      <td>-0.205132</td>\n",
       "      <td>-0.003750</td>\n",
       "      <td>1.000000</td>\n",
       "      <td>-0.242848</td>\n",
       "      <td>-0.221472</td>\n",
       "      <td>-0.215618</td>\n",
       "      <td>-0.071224</td>\n",
       "      <td>-0.033350</td>\n",
       "      <td>-0.092146</td>\n",
       "      <td>-0.055904</td>\n",
       "      <td>-0.016349</td>\n",
       "      <td>0.032942</td>\n",
       "      <td>0.006611</td>\n",
       "      <td>-0.044520</td>\n",
       "      <td>-0.028789</td>\n",
       "      <td>-0.016587</td>\n",
       "      <td>-0.011380</td>\n",
       "    </tr>\n",
       "    <tr>\n",
       "      <th>price_log</th>\n",
       "      <td>0.886244</td>\n",
       "      <td>0.696895</td>\n",
       "      <td>-0.242848</td>\n",
       "      <td>1.000000</td>\n",
       "      <td>-0.131341</td>\n",
       "      <td>0.209185</td>\n",
       "      <td>0.220310</td>\n",
       "      <td>0.133954</td>\n",
       "      <td>0.185179</td>\n",
       "      <td>0.158702</td>\n",
       "      <td>-0.309503</td>\n",
       "      <td>-0.337850</td>\n",
       "      <td>0.311199</td>\n",
       "      <td>0.334351</td>\n",
       "      <td>0.283155</td>\n",
       "      <td>0.184918</td>\n",
       "      <td>0.099017</td>\n",
       "    </tr>\n",
       "    <tr>\n",
       "      <th>last_change</th>\n",
       "      <td>-0.104828</td>\n",
       "      <td>-0.343313</td>\n",
       "      <td>-0.221472</td>\n",
       "      <td>-0.131341</td>\n",
       "      <td>1.000000</td>\n",
       "      <td>0.144874</td>\n",
       "      <td>-0.014971</td>\n",
       "      <td>-0.014760</td>\n",
       "      <td>-0.011797</td>\n",
       "      <td>0.077343</td>\n",
       "      <td>0.320528</td>\n",
       "      <td>0.221480</td>\n",
       "      <td>-0.235679</td>\n",
       "      <td>-0.148742</td>\n",
       "      <td>-0.093258</td>\n",
       "      <td>-0.044979</td>\n",
       "      <td>-0.014077</td>\n",
       "    </tr>\n",
       "    <tr>\n",
       "      <th>basement</th>\n",
       "      <td>0.176970</td>\n",
       "      <td>0.203606</td>\n",
       "      <td>-0.215618</td>\n",
       "      <td>0.209185</td>\n",
       "      <td>0.144874</td>\n",
       "      <td>1.000000</td>\n",
       "      <td>0.015993</td>\n",
       "      <td>0.008338</td>\n",
       "      <td>0.038167</td>\n",
       "      <td>0.060725</td>\n",
       "      <td>-0.109137</td>\n",
       "      <td>0.060897</td>\n",
       "      <td>-0.042500</td>\n",
       "      <td>-0.003487</td>\n",
       "      <td>0.010055</td>\n",
       "      <td>0.017755</td>\n",
       "      <td>0.026620</td>\n",
       "    </tr>\n",
       "    <tr>\n",
       "      <th>zip_98004</th>\n",
       "      <td>0.270366</td>\n",
       "      <td>0.113783</td>\n",
       "      <td>-0.071224</td>\n",
       "      <td>0.220310</td>\n",
       "      <td>-0.014971</td>\n",
       "      <td>0.015993</td>\n",
       "      <td>1.000000</td>\n",
       "      <td>-0.005817</td>\n",
       "      <td>-0.013658</td>\n",
       "      <td>-0.013260</td>\n",
       "      <td>-0.029796</td>\n",
       "      <td>-0.051943</td>\n",
       "      <td>0.033855</td>\n",
       "      <td>0.066886</td>\n",
       "      <td>0.068853</td>\n",
       "      <td>0.054172</td>\n",
       "      <td>0.016753</td>\n",
       "    </tr>\n",
       "    <tr>\n",
       "      <th>zip_98039</th>\n",
       "      <td>0.219701</td>\n",
       "      <td>0.096565</td>\n",
       "      <td>-0.033350</td>\n",
       "      <td>0.133954</td>\n",
       "      <td>-0.014760</td>\n",
       "      <td>0.008338</td>\n",
       "      <td>-0.005817</td>\n",
       "      <td>1.000000</td>\n",
       "      <td>-0.005717</td>\n",
       "      <td>-0.005550</td>\n",
       "      <td>-0.016017</td>\n",
       "      <td>-0.027295</td>\n",
       "      <td>0.021230</td>\n",
       "      <td>0.009719</td>\n",
       "      <td>0.080542</td>\n",
       "      <td>0.069789</td>\n",
       "      <td>0.091946</td>\n",
       "    </tr>\n",
       "    <tr>\n",
       "      <th>zip_98040</th>\n",
       "      <td>0.199329</td>\n",
       "      <td>0.125568</td>\n",
       "      <td>-0.092146</td>\n",
       "      <td>0.185179</td>\n",
       "      <td>-0.011797</td>\n",
       "      <td>0.038167</td>\n",
       "      <td>-0.013658</td>\n",
       "      <td>-0.005717</td>\n",
       "      <td>1.000000</td>\n",
       "      <td>-0.013031</td>\n",
       "      <td>-0.028991</td>\n",
       "      <td>-0.068924</td>\n",
       "      <td>0.042134</td>\n",
       "      <td>0.089547</td>\n",
       "      <td>0.085622</td>\n",
       "      <td>0.031790</td>\n",
       "      <td>-0.002923</td>\n",
       "    </tr>\n",
       "    <tr>\n",
       "      <th>zip_98112</th>\n",
       "      <td>0.174365</td>\n",
       "      <td>0.055769</td>\n",
       "      <td>-0.055904</td>\n",
       "      <td>0.158702</td>\n",
       "      <td>0.077343</td>\n",
       "      <td>0.060725</td>\n",
       "      <td>-0.013260</td>\n",
       "      <td>-0.005550</td>\n",
       "      <td>-0.013031</td>\n",
       "      <td>1.000000</td>\n",
       "      <td>-0.025869</td>\n",
       "      <td>-0.047270</td>\n",
       "      <td>0.055450</td>\n",
       "      <td>0.044337</td>\n",
       "      <td>0.027144</td>\n",
       "      <td>0.008899</td>\n",
       "      <td>-0.002838</td>\n",
       "    </tr>\n",
       "    <tr>\n",
       "      <th>grade_6</th>\n",
       "      <td>-0.206989</td>\n",
       "      <td>-0.311957</td>\n",
       "      <td>-0.016349</td>\n",
       "      <td>-0.309503</td>\n",
       "      <td>0.320528</td>\n",
       "      <td>-0.109137</td>\n",
       "      <td>-0.029796</td>\n",
       "      <td>-0.016017</td>\n",
       "      <td>-0.028991</td>\n",
       "      <td>-0.025869</td>\n",
       "      <td>1.000000</td>\n",
       "      <td>-0.273637</td>\n",
       "      <td>-0.120655</td>\n",
       "      <td>-0.075749</td>\n",
       "      <td>-0.044501</td>\n",
       "      <td>-0.020990</td>\n",
       "      <td>-0.008190</td>\n",
       "    </tr>\n",
       "    <tr>\n",
       "      <th>grade_7</th>\n",
       "      <td>-0.312121</td>\n",
       "      <td>-0.354918</td>\n",
       "      <td>0.032942</td>\n",
       "      <td>-0.337850</td>\n",
       "      <td>0.221480</td>\n",
       "      <td>0.060897</td>\n",
       "      <td>-0.051943</td>\n",
       "      <td>-0.027295</td>\n",
       "      <td>-0.068924</td>\n",
       "      <td>-0.047270</td>\n",
       "      <td>-0.273637</td>\n",
       "      <td>1.000000</td>\n",
       "      <td>-0.313368</td>\n",
       "      <td>-0.196737</td>\n",
       "      <td>-0.115580</td>\n",
       "      <td>-0.054515</td>\n",
       "      <td>-0.021271</td>\n",
       "    </tr>\n",
       "    <tr>\n",
       "      <th>grade_9</th>\n",
       "      <td>0.232428</td>\n",
       "      <td>0.318358</td>\n",
       "      <td>0.006611</td>\n",
       "      <td>0.311199</td>\n",
       "      <td>-0.235679</td>\n",
       "      <td>-0.042500</td>\n",
       "      <td>0.033855</td>\n",
       "      <td>0.021230</td>\n",
       "      <td>0.042134</td>\n",
       "      <td>0.055450</td>\n",
       "      <td>-0.120655</td>\n",
       "      <td>-0.313368</td>\n",
       "      <td>1.000000</td>\n",
       "      <td>-0.086747</td>\n",
       "      <td>-0.050963</td>\n",
       "      <td>-0.024037</td>\n",
       "      <td>-0.009379</td>\n",
       "    </tr>\n",
       "    <tr>\n",
       "      <th>grade_10</th>\n",
       "      <td>0.332676</td>\n",
       "      <td>0.362762</td>\n",
       "      <td>-0.044520</td>\n",
       "      <td>0.334351</td>\n",
       "      <td>-0.148742</td>\n",
       "      <td>-0.003487</td>\n",
       "      <td>0.066886</td>\n",
       "      <td>0.009719</td>\n",
       "      <td>0.089547</td>\n",
       "      <td>0.044337</td>\n",
       "      <td>-0.075749</td>\n",
       "      <td>-0.196737</td>\n",
       "      <td>-0.086747</td>\n",
       "      <td>1.000000</td>\n",
       "      <td>-0.031995</td>\n",
       "      <td>-0.015091</td>\n",
       "      <td>-0.005888</td>\n",
       "    </tr>\n",
       "    <tr>\n",
       "      <th>grade_11</th>\n",
       "      <td>0.355224</td>\n",
       "      <td>0.346887</td>\n",
       "      <td>-0.028789</td>\n",
       "      <td>0.283155</td>\n",
       "      <td>-0.093258</td>\n",
       "      <td>0.010055</td>\n",
       "      <td>0.068853</td>\n",
       "      <td>0.080542</td>\n",
       "      <td>0.085622</td>\n",
       "      <td>0.027144</td>\n",
       "      <td>-0.044501</td>\n",
       "      <td>-0.115580</td>\n",
       "      <td>-0.050963</td>\n",
       "      <td>-0.031995</td>\n",
       "      <td>1.000000</td>\n",
       "      <td>-0.008866</td>\n",
       "      <td>-0.003459</td>\n",
       "    </tr>\n",
       "    <tr>\n",
       "      <th>grade_12</th>\n",
       "      <td>0.307231</td>\n",
       "      <td>0.248618</td>\n",
       "      <td>-0.016587</td>\n",
       "      <td>0.184918</td>\n",
       "      <td>-0.044979</td>\n",
       "      <td>0.017755</td>\n",
       "      <td>0.054172</td>\n",
       "      <td>0.069789</td>\n",
       "      <td>0.031790</td>\n",
       "      <td>0.008899</td>\n",
       "      <td>-0.020990</td>\n",
       "      <td>-0.054515</td>\n",
       "      <td>-0.024037</td>\n",
       "      <td>-0.015091</td>\n",
       "      <td>-0.008866</td>\n",
       "      <td>1.000000</td>\n",
       "      <td>-0.001632</td>\n",
       "    </tr>\n",
       "    <tr>\n",
       "      <th>grade_13</th>\n",
       "      <td>0.233989</td>\n",
       "      <td>0.153617</td>\n",
       "      <td>-0.011380</td>\n",
       "      <td>0.099017</td>\n",
       "      <td>-0.014077</td>\n",
       "      <td>0.026620</td>\n",
       "      <td>0.016753</td>\n",
       "      <td>0.091946</td>\n",
       "      <td>-0.002923</td>\n",
       "      <td>-0.002838</td>\n",
       "      <td>-0.008190</td>\n",
       "      <td>-0.021271</td>\n",
       "      <td>-0.009379</td>\n",
       "      <td>-0.005888</td>\n",
       "      <td>-0.003459</td>\n",
       "      <td>-0.001632</td>\n",
       "      <td>1.000000</td>\n",
       "    </tr>\n",
       "  </tbody>\n",
       "</table>\n",
       "</div>"
      ],
      "text/plain": [
       "                   price  sqft_living  water_distance  price_log  last_change  \\\n",
       "price           1.000000     0.703540       -0.205132   0.886244    -0.104828   \n",
       "sqft_living     0.703540     1.000000       -0.003750   0.696895    -0.343313   \n",
       "water_distance -0.205132    -0.003750        1.000000  -0.242848    -0.221472   \n",
       "price_log       0.886244     0.696895       -0.242848   1.000000    -0.131341   \n",
       "last_change    -0.104828    -0.343313       -0.221472  -0.131341     1.000000   \n",
       "basement        0.176970     0.203606       -0.215618   0.209185     0.144874   \n",
       "zip_98004       0.270366     0.113783       -0.071224   0.220310    -0.014971   \n",
       "zip_98039       0.219701     0.096565       -0.033350   0.133954    -0.014760   \n",
       "zip_98040       0.199329     0.125568       -0.092146   0.185179    -0.011797   \n",
       "zip_98112       0.174365     0.055769       -0.055904   0.158702     0.077343   \n",
       "grade_6        -0.206989    -0.311957       -0.016349  -0.309503     0.320528   \n",
       "grade_7        -0.312121    -0.354918        0.032942  -0.337850     0.221480   \n",
       "grade_9         0.232428     0.318358        0.006611   0.311199    -0.235679   \n",
       "grade_10        0.332676     0.362762       -0.044520   0.334351    -0.148742   \n",
       "grade_11        0.355224     0.346887       -0.028789   0.283155    -0.093258   \n",
       "grade_12        0.307231     0.248618       -0.016587   0.184918    -0.044979   \n",
       "grade_13        0.233989     0.153617       -0.011380   0.099017    -0.014077   \n",
       "\n",
       "                basement  zip_98004  zip_98039  zip_98040  zip_98112  \\\n",
       "price           0.176970   0.270366   0.219701   0.199329   0.174365   \n",
       "sqft_living     0.203606   0.113783   0.096565   0.125568   0.055769   \n",
       "water_distance -0.215618  -0.071224  -0.033350  -0.092146  -0.055904   \n",
       "price_log       0.209185   0.220310   0.133954   0.185179   0.158702   \n",
       "last_change     0.144874  -0.014971  -0.014760  -0.011797   0.077343   \n",
       "basement        1.000000   0.015993   0.008338   0.038167   0.060725   \n",
       "zip_98004       0.015993   1.000000  -0.005817  -0.013658  -0.013260   \n",
       "zip_98039       0.008338  -0.005817   1.000000  -0.005717  -0.005550   \n",
       "zip_98040       0.038167  -0.013658  -0.005717   1.000000  -0.013031   \n",
       "zip_98112       0.060725  -0.013260  -0.005550  -0.013031   1.000000   \n",
       "grade_6        -0.109137  -0.029796  -0.016017  -0.028991  -0.025869   \n",
       "grade_7         0.060897  -0.051943  -0.027295  -0.068924  -0.047270   \n",
       "grade_9        -0.042500   0.033855   0.021230   0.042134   0.055450   \n",
       "grade_10       -0.003487   0.066886   0.009719   0.089547   0.044337   \n",
       "grade_11        0.010055   0.068853   0.080542   0.085622   0.027144   \n",
       "grade_12        0.017755   0.054172   0.069789   0.031790   0.008899   \n",
       "grade_13        0.026620   0.016753   0.091946  -0.002923  -0.002838   \n",
       "\n",
       "                 grade_6   grade_7   grade_9  grade_10  grade_11  grade_12  \\\n",
       "price          -0.206989 -0.312121  0.232428  0.332676  0.355224  0.307231   \n",
       "sqft_living    -0.311957 -0.354918  0.318358  0.362762  0.346887  0.248618   \n",
       "water_distance -0.016349  0.032942  0.006611 -0.044520 -0.028789 -0.016587   \n",
       "price_log      -0.309503 -0.337850  0.311199  0.334351  0.283155  0.184918   \n",
       "last_change     0.320528  0.221480 -0.235679 -0.148742 -0.093258 -0.044979   \n",
       "basement       -0.109137  0.060897 -0.042500 -0.003487  0.010055  0.017755   \n",
       "zip_98004      -0.029796 -0.051943  0.033855  0.066886  0.068853  0.054172   \n",
       "zip_98039      -0.016017 -0.027295  0.021230  0.009719  0.080542  0.069789   \n",
       "zip_98040      -0.028991 -0.068924  0.042134  0.089547  0.085622  0.031790   \n",
       "zip_98112      -0.025869 -0.047270  0.055450  0.044337  0.027144  0.008899   \n",
       "grade_6         1.000000 -0.273637 -0.120655 -0.075749 -0.044501 -0.020990   \n",
       "grade_7        -0.273637  1.000000 -0.313368 -0.196737 -0.115580 -0.054515   \n",
       "grade_9        -0.120655 -0.313368  1.000000 -0.086747 -0.050963 -0.024037   \n",
       "grade_10       -0.075749 -0.196737 -0.086747  1.000000 -0.031995 -0.015091   \n",
       "grade_11       -0.044501 -0.115580 -0.050963 -0.031995  1.000000 -0.008866   \n",
       "grade_12       -0.020990 -0.054515 -0.024037 -0.015091 -0.008866  1.000000   \n",
       "grade_13       -0.008190 -0.021271 -0.009379 -0.005888 -0.003459 -0.001632   \n",
       "\n",
       "                grade_13  \n",
       "price           0.233989  \n",
       "sqft_living     0.153617  \n",
       "water_distance -0.011380  \n",
       "price_log       0.099017  \n",
       "last_change    -0.014077  \n",
       "basement        0.026620  \n",
       "zip_98004       0.016753  \n",
       "zip_98039       0.091946  \n",
       "zip_98040      -0.002923  \n",
       "zip_98112      -0.002838  \n",
       "grade_6        -0.008190  \n",
       "grade_7        -0.021271  \n",
       "grade_9        -0.009379  \n",
       "grade_10       -0.005888  \n",
       "grade_11       -0.003459  \n",
       "grade_12       -0.001632  \n",
       "grade_13        1.000000  "
      ]
     },
     "execution_count": 111,
     "metadata": {},
     "output_type": "execute_result"
    }
   ],
   "source": [
    "full_practice.corr()"
   ]
  },
  {
   "cell_type": "markdown",
   "metadata": {},
   "source": [
    "# Making the features column"
   ]
  },
  {
   "cell_type": "code",
   "execution_count": 112,
   "metadata": {},
   "outputs": [],
   "source": [
    "features_columns = []\n",
    "for x in full_practice.columns:\n",
    "    if 'price' not in x:\n",
    "        features_columns.append(x)\n",
    "    else:\n",
    "        pass"
   ]
  },
  {
   "cell_type": "code",
   "execution_count": null,
   "metadata": {},
   "outputs": [],
   "source": []
  },
  {
   "cell_type": "markdown",
   "metadata": {},
   "source": [
    "# Removing all extreme values from the data set"
   ]
  },
  {
   "cell_type": "code",
   "execution_count": 113,
   "metadata": {},
   "outputs": [],
   "source": [
    "def ext_values(df, extreme_cols):\n",
    "    new_df = df.copy()\n",
    "    for col in extreme_cols:\n",
    "        std = new_df[col].std()\n",
    "        mean = new_df[col].mean()\n",
    "        value = mean+(6*std)\n",
    "        new_df[col] = new_df[col].apply(lambda x: value if (x-mean > 6*std) else x)\n",
    "    return new_df"
   ]
  },
  {
   "cell_type": "code",
   "execution_count": 114,
   "metadata": {},
   "outputs": [],
   "source": [
    "full_practice = ext_values(full_practice, features_columns)"
   ]
  },
  {
   "cell_type": "code",
   "execution_count": null,
   "metadata": {},
   "outputs": [],
   "source": []
  },
  {
   "cell_type": "code",
   "execution_count": null,
   "metadata": {},
   "outputs": [],
   "source": []
  },
  {
   "cell_type": "code",
   "execution_count": 115,
   "metadata": {},
   "outputs": [],
   "source": [
    "lr_model = ols(formula = 'price_log~sqft_living+water_distance+last_change+basement+grade_6+grade_7+grade_9+grade_10+grade_11+grade_12+grade_13+zip_98004+zip_98039+zip_98040+zip_98112', data = full_practice).fit()"
   ]
  },
  {
   "cell_type": "code",
   "execution_count": 116,
   "metadata": {
    "collapsed": true
   },
   "outputs": [
    {
     "data": {
      "text/html": [
       "<table class=\"simpletable\">\n",
       "<caption>OLS Regression Results</caption>\n",
       "<tr>\n",
       "  <th>Dep. Variable:</th>        <td>price_log</td>    <th>  R-squared:         </th> <td>   0.650</td>\n",
       "</tr>\n",
       "<tr>\n",
       "  <th>Model:</th>                   <td>OLS</td>       <th>  Adj. R-squared:    </th> <td>   0.650</td>\n",
       "</tr>\n",
       "<tr>\n",
       "  <th>Method:</th>             <td>Least Squares</td>  <th>  F-statistic:       </th> <td>   2139.</td>\n",
       "</tr>\n",
       "<tr>\n",
       "  <th>Date:</th>             <td>Sun, 03 May 2020</td> <th>  Prob (F-statistic):</th>  <td>  0.00</td> \n",
       "</tr>\n",
       "<tr>\n",
       "  <th>Time:</th>                 <td>16:21:40</td>     <th>  Log-Likelihood:    </th> <td> -4375.7</td>\n",
       "</tr>\n",
       "<tr>\n",
       "  <th>No. Observations:</th>      <td> 17290</td>      <th>  AIC:               </th> <td>   8783.</td>\n",
       "</tr>\n",
       "<tr>\n",
       "  <th>Df Residuals:</th>          <td> 17274</td>      <th>  BIC:               </th> <td>   8907.</td>\n",
       "</tr>\n",
       "<tr>\n",
       "  <th>Df Model:</th>              <td>    15</td>      <th>                     </th>     <td> </td>   \n",
       "</tr>\n",
       "<tr>\n",
       "  <th>Covariance Type:</th>      <td>nonrobust</td>    <th>                     </th>     <td> </td>   \n",
       "</tr>\n",
       "</table>\n",
       "<table class=\"simpletable\">\n",
       "<tr>\n",
       "         <td></td>           <th>coef</th>     <th>std err</th>      <th>t</th>      <th>P>|t|</th>  <th>[0.025</th>    <th>0.975]</th>  \n",
       "</tr>\n",
       "<tr>\n",
       "  <th>Intercept</th>      <td>   12.5421</td> <td>    0.011</td> <td> 1165.043</td> <td> 0.000</td> <td>   12.521</td> <td>   12.563</td>\n",
       "</tr>\n",
       "<tr>\n",
       "  <th>sqft_living</th>    <td>    0.0002</td> <td> 4.27e-06</td> <td>   56.842</td> <td> 0.000</td> <td>    0.000</td> <td>    0.000</td>\n",
       "</tr>\n",
       "<tr>\n",
       "  <th>water_distance</th> <td>   -1.3098</td> <td>    0.038</td> <td>  -34.657</td> <td> 0.000</td> <td>   -1.384</td> <td>   -1.236</td>\n",
       "</tr>\n",
       "<tr>\n",
       "  <th>last_change</th>    <td>    0.0026</td> <td>  9.9e-05</td> <td>   26.713</td> <td> 0.000</td> <td>    0.002</td> <td>    0.003</td>\n",
       "</tr>\n",
       "<tr>\n",
       "  <th>basement</th>       <td>    0.0485</td> <td>    0.005</td> <td>    9.045</td> <td> 0.000</td> <td>    0.038</td> <td>    0.059</td>\n",
       "</tr>\n",
       "<tr>\n",
       "  <th>grade_6</th>        <td>   -0.4083</td> <td>    0.010</td> <td>  -40.200</td> <td> 0.000</td> <td>   -0.428</td> <td>   -0.388</td>\n",
       "</tr>\n",
       "<tr>\n",
       "  <th>grade_7</th>        <td>   -0.1877</td> <td>    0.006</td> <td>  -30.422</td> <td> 0.000</td> <td>   -0.200</td> <td>   -0.176</td>\n",
       "</tr>\n",
       "<tr>\n",
       "  <th>grade_9</th>        <td>    0.2210</td> <td>    0.009</td> <td>   25.191</td> <td> 0.000</td> <td>    0.204</td> <td>    0.238</td>\n",
       "</tr>\n",
       "<tr>\n",
       "  <th>grade_10</th>       <td>    0.3340</td> <td>    0.013</td> <td>   25.987</td> <td> 0.000</td> <td>    0.309</td> <td>    0.359</td>\n",
       "</tr>\n",
       "<tr>\n",
       "  <th>grade_11</th>       <td>    0.4954</td> <td>    0.025</td> <td>   19.930</td> <td> 0.000</td> <td>    0.447</td> <td>    0.544</td>\n",
       "</tr>\n",
       "<tr>\n",
       "  <th>grade_12</th>       <td>    1.3436</td> <td>    0.102</td> <td>   13.213</td> <td> 0.000</td> <td>    1.144</td> <td>    1.543</td>\n",
       "</tr>\n",
       "<tr>\n",
       "  <th>grade_13</th>       <td>    4.4303</td> <td>    0.635</td> <td>    6.979</td> <td> 0.000</td> <td>    3.186</td> <td>    5.675</td>\n",
       "</tr>\n",
       "<tr>\n",
       "  <th>zip_98004</th>      <td>    0.7858</td> <td>    0.029</td> <td>   27.068</td> <td> 0.000</td> <td>    0.729</td> <td>    0.843</td>\n",
       "</tr>\n",
       "<tr>\n",
       "  <th>zip_98039</th>      <td>    2.3086</td> <td>    0.164</td> <td>   14.100</td> <td> 0.000</td> <td>    1.988</td> <td>    2.630</td>\n",
       "</tr>\n",
       "<tr>\n",
       "  <th>zip_98040</th>      <td>    0.4741</td> <td>    0.030</td> <td>   15.709</td> <td> 0.000</td> <td>    0.415</td> <td>    0.533</td>\n",
       "</tr>\n",
       "<tr>\n",
       "  <th>zip_98112</th>      <td>    0.5816</td> <td>    0.032</td> <td>   18.245</td> <td> 0.000</td> <td>    0.519</td> <td>    0.644</td>\n",
       "</tr>\n",
       "</table>\n",
       "<table class=\"simpletable\">\n",
       "<tr>\n",
       "  <th>Omnibus:</th>       <td>476.613</td> <th>  Durbin-Watson:     </th> <td>   1.998</td> \n",
       "</tr>\n",
       "<tr>\n",
       "  <th>Prob(Omnibus):</th> <td> 0.000</td>  <th>  Jarque-Bera (JB):  </th> <td> 644.753</td> \n",
       "</tr>\n",
       "<tr>\n",
       "  <th>Skew:</th>          <td>-0.317</td>  <th>  Prob(JB):          </th> <td>9.86e-141</td>\n",
       "</tr>\n",
       "<tr>\n",
       "  <th>Kurtosis:</th>      <td> 3.703</td>  <th>  Cond. No.          </th> <td>6.08e+05</td> \n",
       "</tr>\n",
       "</table><br/><br/>Warnings:<br/>[1] Standard Errors assume that the covariance matrix of the errors is correctly specified.<br/>[2] The condition number is large, 6.08e+05. This might indicate that there are<br/>strong multicollinearity or other numerical problems."
      ],
      "text/plain": [
       "<class 'statsmodels.iolib.summary.Summary'>\n",
       "\"\"\"\n",
       "                            OLS Regression Results                            \n",
       "==============================================================================\n",
       "Dep. Variable:              price_log   R-squared:                       0.650\n",
       "Model:                            OLS   Adj. R-squared:                  0.650\n",
       "Method:                 Least Squares   F-statistic:                     2139.\n",
       "Date:                Sun, 03 May 2020   Prob (F-statistic):               0.00\n",
       "Time:                        16:21:40   Log-Likelihood:                -4375.7\n",
       "No. Observations:               17290   AIC:                             8783.\n",
       "Df Residuals:                   17274   BIC:                             8907.\n",
       "Df Model:                          15                                         \n",
       "Covariance Type:            nonrobust                                         \n",
       "==================================================================================\n",
       "                     coef    std err          t      P>|t|      [0.025      0.975]\n",
       "----------------------------------------------------------------------------------\n",
       "Intercept         12.5421      0.011   1165.043      0.000      12.521      12.563\n",
       "sqft_living        0.0002   4.27e-06     56.842      0.000       0.000       0.000\n",
       "water_distance    -1.3098      0.038    -34.657      0.000      -1.384      -1.236\n",
       "last_change        0.0026    9.9e-05     26.713      0.000       0.002       0.003\n",
       "basement           0.0485      0.005      9.045      0.000       0.038       0.059\n",
       "grade_6           -0.4083      0.010    -40.200      0.000      -0.428      -0.388\n",
       "grade_7           -0.1877      0.006    -30.422      0.000      -0.200      -0.176\n",
       "grade_9            0.2210      0.009     25.191      0.000       0.204       0.238\n",
       "grade_10           0.3340      0.013     25.987      0.000       0.309       0.359\n",
       "grade_11           0.4954      0.025     19.930      0.000       0.447       0.544\n",
       "grade_12           1.3436      0.102     13.213      0.000       1.144       1.543\n",
       "grade_13           4.4303      0.635      6.979      0.000       3.186       5.675\n",
       "zip_98004          0.7858      0.029     27.068      0.000       0.729       0.843\n",
       "zip_98039          2.3086      0.164     14.100      0.000       1.988       2.630\n",
       "zip_98040          0.4741      0.030     15.709      0.000       0.415       0.533\n",
       "zip_98112          0.5816      0.032     18.245      0.000       0.519       0.644\n",
       "==============================================================================\n",
       "Omnibus:                      476.613   Durbin-Watson:                   1.998\n",
       "Prob(Omnibus):                  0.000   Jarque-Bera (JB):              644.753\n",
       "Skew:                          -0.317   Prob(JB):                    9.86e-141\n",
       "Kurtosis:                       3.703   Cond. No.                     6.08e+05\n",
       "==============================================================================\n",
       "\n",
       "Warnings:\n",
       "[1] Standard Errors assume that the covariance matrix of the errors is correctly specified.\n",
       "[2] The condition number is large, 6.08e+05. This might indicate that there are\n",
       "strong multicollinearity or other numerical problems.\n",
       "\"\"\""
      ]
     },
     "execution_count": 116,
     "metadata": {},
     "output_type": "execute_result"
    }
   ],
   "source": [
    "lr_model.summary()"
   ]
  },
  {
   "cell_type": "markdown",
   "metadata": {},
   "source": [
    "# Creating target variable and features"
   ]
  },
  {
   "cell_type": "code",
   "execution_count": 117,
   "metadata": {},
   "outputs": [],
   "source": [
    "target = np.log(full_practice['price'])\n",
    "features = full_practice[features_columns]"
   ]
  },
  {
   "cell_type": "code",
   "execution_count": null,
   "metadata": {},
   "outputs": [],
   "source": []
  },
  {
   "cell_type": "markdown",
   "metadata": {},
   "source": [
    "# Train, test split on the target and features"
   ]
  },
  {
   "cell_type": "code",
   "execution_count": 118,
   "metadata": {},
   "outputs": [],
   "source": [
    "X_train, X_test, y_train, y_test = train_test_split(features, target, random_state=23,test_size=0.2)  "
   ]
  },
  {
   "cell_type": "code",
   "execution_count": null,
   "metadata": {},
   "outputs": [],
   "source": [
    "X_scale = X_train"
   ]
  },
  {
   "cell_type": "code",
   "execution_count": null,
   "metadata": {},
   "outputs": [],
   "source": []
  },
  {
   "cell_type": "markdown",
   "metadata": {},
   "source": [
    "# Scaling all the data using a standard scalar"
   ]
  },
  {
   "cell_type": "code",
   "execution_count": null,
   "metadata": {},
   "outputs": [],
   "source": [
    "scaler = StandardScaler()\n",
    "final_scaler = scaler.fit(X_train)\n",
    "X_train =pd.DataFrame(data=scaler.transform(X_train), columns=features_columns)\n",
    "X_test =pd.DataFrame(data=scaler.transform(X_test), columns=features_columns)"
   ]
  },
  {
   "cell_type": "markdown",
   "metadata": {},
   "source": [
    "# Standard linear regression using scikit"
   ]
  },
  {
   "cell_type": "code",
   "execution_count": 127,
   "metadata": {},
   "outputs": [
    {
     "name": "stdout",
     "output_type": "stream",
     "text": [
      "Training Root Mean Squared Error: 620713.6362109312\n",
      "Testing Root Mean Squared Error: 594164.5838687308\n",
      "Training:  620713.6362109312 vs. Testing:  594164.5838687308\n"
     ]
    }
   ],
   "source": [
    "#instantiate a linear regression object\n",
    "lm = LinearRegression()\n",
    "\n",
    "#fit the linear regression to the data\n",
    "lm = lm.fit(X_train, y_train)\n",
    "\n",
    "y_train_pred = np.exp(lm.predict(X_train))\n",
    "\n",
    "train_rmse = np.sqrt(metrics.mean_squared_error((y_train), y_train_pred))\n",
    "\n",
    "\n",
    "print('Training Root Mean Squared Error:' , train_rmse)\n",
    "\n",
    "y_pred = np.exp(lm.predict(X_test))\n",
    "\n",
    "test_rmse = np.sqrt(metrics.mean_squared_error((y_test), y_pred))\n",
    "\n",
    "print('Testing Root Mean Squared Error:' , test_rmse)\n",
    "\n",
    "\n",
    "print('Training: ', float(train_rmse), \"vs. Testing: \", float(test_rmse))"
   ]
  },
  {
   "cell_type": "code",
   "execution_count": null,
   "metadata": {},
   "outputs": [],
   "source": []
  },
  {
   "cell_type": "markdown",
   "metadata": {},
   "source": [
    "# Plotting Residuals to test"
   ]
  },
  {
   "cell_type": "code",
   "execution_count": 128,
   "metadata": {
    "scrolled": true
   },
   "outputs": [
    {
     "data": {
      "text/plain": [
       "<matplotlib.axes._subplots.AxesSubplot at 0x1a1d36cf10>"
      ]
     },
     "execution_count": 128,
     "metadata": {},
     "output_type": "execute_result"
    },
    {
     "data": {
      "image/png": "[encoded data removed]",
      "text/plain": [
       "<Figure size 432x288 with 1 Axes>"
      ]
     },
     "metadata": {
      "needs_background": "light"
     },
     "output_type": "display_data"
    }
   ],
   "source": [
    "sns.residplot(y_train, y_train_pred,lowess=True, color=\"g\")"
   ]
  },
  {
   "cell_type": "code",
   "execution_count": null,
   "metadata": {},
   "outputs": [],
   "source": []
  },
  {
   "cell_type": "markdown",
   "metadata": {},
   "source": [
    "# Applying recursive feature elimination"
   ]
  },
  {
   "cell_type": "code",
   "execution_count": 129,
   "metadata": {},
   "outputs": [],
   "source": [
    "from sklearn.feature_selection import RFECV"
   ]
  },
  {
   "cell_type": "code",
   "execution_count": 130,
   "metadata": {},
   "outputs": [],
   "source": [
    "ols = linear_model.LinearRegression()"
   ]
  },
  {
   "cell_type": "code",
   "execution_count": 131,
   "metadata": {},
   "outputs": [
    {
     "data": {
      "text/plain": [
       "RFECV(cv=10,\n",
       "      estimator=LinearRegression(copy_X=True, fit_intercept=True, n_jobs=None,\n",
       "                                 normalize=False),\n",
       "      min_features_to_select=1, n_jobs=None, scoring='neg_mean_squared_error',\n",
       "      step=1, verbose=0)"
      ]
     },
     "execution_count": 131,
     "metadata": {},
     "output_type": "execute_result"
    }
   ],
   "source": [
    "# Create recursive feature eliminator that scores features by mean squared errors\n",
    "selector = RFECV(estimator=ols, step=1, cv=10, scoring='neg_mean_squared_error')\n",
    "\n",
    "# Fit recursive feature eliminator \n",
    "selector.fit(X_train, y_train)"
   ]
  },
  {
   "cell_type": "code",
   "execution_count": 132,
   "metadata": {},
   "outputs": [],
   "source": [
    "selected_rfe = X_train.columns[selector.support_]\n",
    "removed_rfe = X_train.columns[~selector.support_]"
   ]
  },
  {
   "cell_type": "code",
   "execution_count": 133,
   "metadata": {},
   "outputs": [
    {
     "data": {
      "text/plain": [
       "[]"
      ]
     },
     "execution_count": 133,
     "metadata": {},
     "output_type": "execute_result"
    }
   ],
   "source": [
    "list(removed_rfe)"
   ]
  },
  {
   "cell_type": "code",
   "execution_count": 134,
   "metadata": {},
   "outputs": [
    {
     "data": {
      "text/plain": [
       "15"
      ]
     },
     "execution_count": 134,
     "metadata": {},
     "output_type": "execute_result"
    }
   ],
   "source": [
    "len(selected_rfe)"
   ]
  },
  {
   "cell_type": "code",
   "execution_count": 135,
   "metadata": {},
   "outputs": [
    {
     "name": "stdout",
     "output_type": "stream",
     "text": [
      "Training Root Mean Squared Error: 620713.6362109312\n",
      "Testing Root Mean Squared Error: 594164.5838687308\n",
      "vs. Testing:  594164.5838687308 vs. Testing rfe:  594164.5838687308\n"
     ]
    }
   ],
   "source": [
    "#instantiate a linear regression object\n",
    "lm_rfe = LinearRegression()\n",
    "\n",
    "#fit the linear regression to the data\n",
    "lm_rfe = lm_rfe.fit(X_train[selected_rfe], y_train)\n",
    "\n",
    "y_train_pred_rfe = np.exp(lm_rfe.predict(X_train[selected_rfe]))\n",
    "\n",
    "train_rmse_rfe = np.sqrt(metrics.mean_squared_error((y_train), y_train_pred_rfe))\n",
    "\n",
    "\n",
    "print('Training Root Mean Squared Error:' , train_rmse_rfe)\n",
    "\n",
    "y_pred_rfe = np.exp(lm_rfe.predict(X_test[selected_rfe]))\n",
    "\n",
    "test_rmse_rfe = np.sqrt(metrics.mean_squared_error((y_test), y_pred_rfe))\n",
    "\n",
    "print('Testing Root Mean Squared Error:' , test_rmse_rfe)\n",
    "\n",
    "\n",
    "print(\"vs. Testing: \", float(test_rmse), \n",
    "      \"vs. Testing rfe: \", float(test_rmse_rfe))"
   ]
  },
  {
   "cell_type": "code",
   "execution_count": null,
   "metadata": {},
   "outputs": [],
   "source": []
  },
  {
   "cell_type": "markdown",
   "metadata": {},
   "source": [
    "# Applying Ftest selection"
   ]
  },
  {
   "cell_type": "code",
   "execution_count": 122,
   "metadata": {},
   "outputs": [
    {
     "data": {
      "text/plain": [
       "SelectKBest(k=15, score_func=<function f_regression at 0x1a1d1be950>)"
      ]
     },
     "execution_count": 122,
     "metadata": {},
     "output_type": "execute_result"
    }
   ],
   "source": [
    "from sklearn.feature_selection import SelectKBest, f_regression,mutual_info_regression\n",
    "\n",
    "selector = SelectKBest(f_regression, k=15)\n",
    "\n",
    "selector.fit(X_train, y_train)"
   ]
  },
  {
   "cell_type": "code",
   "execution_count": 123,
   "metadata": {},
   "outputs": [],
   "source": [
    "selected_ftest = X_train.columns[selector.get_support()]\n",
    "removed_ftest = X_train.columns[~selector.get_support()]"
   ]
  },
  {
   "cell_type": "code",
   "execution_count": 124,
   "metadata": {},
   "outputs": [
    {
     "data": {
      "text/plain": [
       "[]"
      ]
     },
     "execution_count": 124,
     "metadata": {},
     "output_type": "execute_result"
    }
   ],
   "source": [
    "list(removed_ftest)"
   ]
  },
  {
   "cell_type": "code",
   "execution_count": 125,
   "metadata": {},
   "outputs": [
    {
     "data": {
      "text/plain": [
       "['sqft_living',\n",
       " 'water_distance',\n",
       " 'last_change',\n",
       " 'basement',\n",
       " 'zip_98004',\n",
       " 'zip_98039',\n",
       " 'zip_98040',\n",
       " 'zip_98112',\n",
       " 'grade_6',\n",
       " 'grade_7',\n",
       " 'grade_9',\n",
       " 'grade_10',\n",
       " 'grade_11',\n",
       " 'grade_12',\n",
       " 'grade_13']"
      ]
     },
     "execution_count": 125,
     "metadata": {},
     "output_type": "execute_result"
    }
   ],
   "source": [
    "list(selected_ftest)"
   ]
  },
  {
   "cell_type": "code",
   "execution_count": 126,
   "metadata": {},
   "outputs": [
    {
     "name": "stdout",
     "output_type": "stream",
     "text": [
      "Training Root Mean Squared Error: 0.31185527947201874\n",
      "Testing Root Mean Squared Error: 594164.5838687308\n",
      "vs. Testing:  566584.0568528462 vs. Testing rfe:  584208.521750679 vs. Testing ftest:  594164.5838687308\n"
     ]
    }
   ],
   "source": [
    "#instantiate a linear regression object\n",
    "lm_ftest = LinearRegression()\n",
    "\n",
    "#fit the linear regression to the data\n",
    "lm_ftest = lm_ftest.fit(X_train[selected_ftest], y_train)\n",
    "\n",
    "y_train_pred_ftest = lm_ftest.predict((X_train[selected_ftest]))\n",
    "\n",
    "train_rmse_ftest = np.sqrt(metrics.mean_squared_error((y_train), y_train_pred_ftest))\n",
    "\n",
    "\n",
    "print('Training Root Mean Squared Error:' , train_rmse_ftest)\n",
    "\n",
    "y_pred_ftest = np.exp(lm_ftest.predict((X_test[selected_ftest])))\n",
    "\n",
    "test_rmse_ftest = np.sqrt(metrics.mean_squared_error((y_test), y_pred_ftest))\n",
    "\n",
    "print('Testing Root Mean Squared Error:' , test_rmse_ftest)\n",
    "\n",
    "\n",
    "print(\"vs. Testing: \", float(test_rmse), \n",
    "      \"vs. Testing rfe: \", float(test_rmse_rfe),\n",
    "      \"vs. Testing ftest: \", float(test_rmse_ftest))"
   ]
  },
  {
   "cell_type": "code",
   "execution_count": null,
   "metadata": {},
   "outputs": [],
   "source": []
  },
  {
   "cell_type": "code",
   "execution_count": 136,
   "metadata": {},
   "outputs": [
    {
     "data": {
      "text/plain": [
       "<matplotlib.axes._subplots.AxesSubplot at 0x1a1ef9fd50>"
      ]
     },
     "execution_count": 136,
     "metadata": {},
     "output_type": "execute_result"
    },
    {
     "data": {
      "image/png": "[encoded data removed]",
      "text/plain": [
       "<Figure size 432x288 with 1 Axes>"
      ]
     },
     "metadata": {
      "needs_background": "light"
     },
     "output_type": "display_data"
    }
   ],
   "source": [
    "sns.residplot( y_train, y_train_pred_lasso,lowess=True, color=\"g\")"
   ]
  },
  {
   "cell_type": "code",
   "execution_count": null,
   "metadata": {},
   "outputs": [],
   "source": []
  },
  {
   "cell_type": "markdown",
   "metadata": {},
   "source": [
    "# Applying lasso method"
   ]
  },
  {
   "cell_type": "code",
   "execution_count": 120,
   "metadata": {},
   "outputs": [],
   "source": [
    "from sklearn.linear_model import Lasso"
   ]
  },
  {
   "cell_type": "code",
   "execution_count": 137,
   "metadata": {},
   "outputs": [
    {
     "name": "stdout",
     "output_type": "stream",
     "text": [
      "Training Error: 506791.88545134297\n",
      "Testing Error: 566584.0568528462\n"
     ]
    }
   ],
   "source": [
    "lasso = Lasso(alpha=0.01, max_iter = 5000, normalize=False)\n",
    "\n",
    "final_lasso = lasso.fit(X_train,y_train)\n",
    "\n",
    "y_train_pred_lasso = np.exp(lasso.predict(X_train))\n",
    "y_pred_lasso = np.exp(lasso.predict(X_test))\n",
    "\n",
    "train_rmse = metrics.mean_absolute_error(y_train, y_train_pred_lasso)\n",
    "test_rmse = np.sqrt(metrics.mean_squared_error(y_test, y_pred_lasso))\n",
    "print('Training Error: '+ str(train_rmse))\n",
    "print('Testing Error: '+ str(test_rmse))"
   ]
  },
  {
   "cell_type": "code",
   "execution_count": null,
   "metadata": {},
   "outputs": [],
   "source": []
  },
  {
   "cell_type": "code",
   "execution_count": 138,
   "metadata": {},
   "outputs": [],
   "source": [
    "with open('final_lasso', 'wb') as handle:\n",
    "    pickle.dump(final_lasso, handle, protocol=pickle.HIGHEST_PROTOCOL)"
   ]
  },
  {
   "cell_type": "code",
   "execution_count": null,
   "metadata": {},
   "outputs": [],
   "source": [
    "with open('final_scaler', 'wb') as handle:\n",
    "    pickle.dump(X_scale, handle, protocol=pickle.HIGHEST_PROTOCOL)"
   ]
  },
  {
   "cell_type": "code",
   "execution_count": null,
   "metadata": {},
   "outputs": [],
   "source": [
    "with open('final_rfe', 'wb') as handle:\n",
    "    pickle.dump(lm_rfe, handle, protocol=pickle.HIGHEST_PROTOCOL)\n"
   ]
  },
  {
   "cell_type": "code",
   "execution_count": null,
   "metadata": {},
   "outputs": [],
   "source": []
  },
  {
   "cell_type": "code",
   "execution_count": null,
   "metadata": {},
   "outputs": [],
   "source": [
    "sns.residplot(y_train, y_train_pred_lasso,lowess=True, color=\"g\")"
   ]
  },
  {
   "cell_type": "code",
   "execution_count": null,
   "metadata": {},
   "outputs": [],
   "source": []
  },
  {
   "cell_type": "code",
   "execution_count": null,
   "metadata": {},
   "outputs": [],
   "source": []
  },
  {
   "cell_type": "code",
   "execution_count": null,
   "metadata": {},
   "outputs": [],
   "source": []
  },
  {
   "cell_type": "markdown",
   "metadata": {},
   "source": [
    "# Attempting Variance Inflation Method"
   ]
  },
  {
   "cell_type": "code",
   "execution_count": 28,
   "metadata": {},
   "outputs": [],
   "source": [
    "from statsmodels.stats.outliers_influence import variance_inflation_factor"
   ]
  },
  {
   "cell_type": "code",
   "execution_count": 119,
   "metadata": {},
   "outputs": [
    {
     "data": {
      "text/html": [
       "<div>\n",
       "<style scoped>\n",
       "    .dataframe tbody tr th:only-of-type {\n",
       "        vertical-align: middle;\n",
       "    }\n",
       "\n",
       "    .dataframe tbody tr th {\n",
       "        vertical-align: top;\n",
       "    }\n",
       "\n",
       "    .dataframe thead th {\n",
       "        text-align: right;\n",
       "    }\n",
       "</style>\n",
       "<table border=\"1\" class=\"dataframe\">\n",
       "  <thead>\n",
       "    <tr style=\"text-align: right;\">\n",
       "      <th></th>\n",
       "      <th>VIF Factor</th>\n",
       "      <th>features</th>\n",
       "    </tr>\n",
       "  </thead>\n",
       "  <tbody>\n",
       "    <tr>\n",
       "      <th>0</th>\n",
       "      <td>6.27379</td>\n",
       "      <td>sqft_living</td>\n",
       "    </tr>\n",
       "    <tr>\n",
       "      <th>1</th>\n",
       "      <td>2.00323</td>\n",
       "      <td>water_distance</td>\n",
       "    </tr>\n",
       "    <tr>\n",
       "      <th>2</th>\n",
       "      <td>3.63912</td>\n",
       "      <td>last_change</td>\n",
       "    </tr>\n",
       "    <tr>\n",
       "      <th>3</th>\n",
       "      <td>2.00565</td>\n",
       "      <td>basement</td>\n",
       "    </tr>\n",
       "    <tr>\n",
       "      <th>4</th>\n",
       "      <td>1.04183</td>\n",
       "      <td>zip_98004</td>\n",
       "    </tr>\n",
       "    <tr>\n",
       "      <th>5</th>\n",
       "      <td>1.02760</td>\n",
       "      <td>zip_98039</td>\n",
       "    </tr>\n",
       "    <tr>\n",
       "      <th>6</th>\n",
       "      <td>1.05026</td>\n",
       "      <td>zip_98040</td>\n",
       "    </tr>\n",
       "    <tr>\n",
       "      <th>7</th>\n",
       "      <td>1.03963</td>\n",
       "      <td>zip_98112</td>\n",
       "    </tr>\n",
       "    <tr>\n",
       "      <th>8</th>\n",
       "      <td>1.55508</td>\n",
       "      <td>grade_6</td>\n",
       "    </tr>\n",
       "    <tr>\n",
       "      <th>9</th>\n",
       "      <td>2.31290</td>\n",
       "      <td>grade_7</td>\n",
       "    </tr>\n",
       "    <tr>\n",
       "      <th>10</th>\n",
       "      <td>1.65843</td>\n",
       "      <td>grade_9</td>\n",
       "    </tr>\n",
       "    <tr>\n",
       "      <th>11</th>\n",
       "      <td>1.46301</td>\n",
       "      <td>grade_10</td>\n",
       "    </tr>\n",
       "    <tr>\n",
       "      <th>12</th>\n",
       "      <td>1.28673</td>\n",
       "      <td>grade_11</td>\n",
       "    </tr>\n",
       "    <tr>\n",
       "      <th>13</th>\n",
       "      <td>1.11707</td>\n",
       "      <td>grade_12</td>\n",
       "    </tr>\n",
       "    <tr>\n",
       "      <th>14</th>\n",
       "      <td>1.04004</td>\n",
       "      <td>grade_13</td>\n",
       "    </tr>\n",
       "  </tbody>\n",
       "</table>\n",
       "</div>"
      ],
      "text/plain": [
       "    VIF Factor        features\n",
       "0      6.27379     sqft_living\n",
       "1      2.00323  water_distance\n",
       "2      3.63912     last_change\n",
       "3      2.00565        basement\n",
       "4      1.04183       zip_98004\n",
       "5      1.02760       zip_98039\n",
       "6      1.05026       zip_98040\n",
       "7      1.03963       zip_98112\n",
       "8      1.55508         grade_6\n",
       "9      2.31290         grade_7\n",
       "10     1.65843         grade_9\n",
       "11     1.46301        grade_10\n",
       "12     1.28673        grade_11\n",
       "13     1.11707        grade_12\n",
       "14     1.04004        grade_13"
      ]
     },
     "execution_count": 119,
     "metadata": {},
     "output_type": "execute_result"
    }
   ],
   "source": [
    "vif = pd.DataFrame()\n",
    "vif[\"VIF Factor\"] = [variance_inflation_factor(X_train.values, i) for i in range(X_train.shape[1])]\n",
    "vif[\"features\"] = X_train.columns\n",
    "vif.round(5).head(21)"
   ]
  },
  {
   "cell_type": "code",
   "execution_count": null,
   "metadata": {},
   "outputs": [],
   "source": []
  },
  {
   "cell_type": "code",
   "execution_count": null,
   "metadata": {},
   "outputs": [],
   "source": []
  }
 ],
 "metadata": {
  "kernelspec": {
   "display_name": "Python 3",
   "language": "python",
   "name": "python3"
  },
  "language_info": {
   "codemirror_mode": {
    "name": "ipython",
    "version": 3
   },
   "file_extension": ".py",
   "mimetype": "text/x-python",
   "name": "python",
   "nbconvert_exporter": "python",
   "pygments_lexer": "ipython3",
   "version": "3.7.6"
  }
 },
 "nbformat": 4,
 "nbformat_minor": 4
}
