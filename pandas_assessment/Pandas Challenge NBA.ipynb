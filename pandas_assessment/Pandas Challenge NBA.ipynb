{
 "cells": [
  {
   "cell_type": "code",
   "execution_count": 63,
   "metadata": {},
   "outputs": [],
   "source": [
    "import json\n",
    "import pandas as pd"
   ]
  },
  {
   "cell_type": "markdown",
   "metadata": {},
   "source": [
    "# Part 1: Reading and investigating data\n",
    "\n",
    "Open up the `player_data.json` and investigate the data structure."
   ]
  },
  {
   "cell_type": "code",
   "execution_count": 64,
   "metadata": {},
   "outputs": [],
   "source": [
    "nba = pd.read_json('player_data.json')\n",
    "\n",
    "column_names = ['DISPLAY_FIRST_LAST', 'PERSON_ID', 'TEAM_ID', 'Game_ID', 'MIN', 'PTS', 'AST', \n",
    "                'REB', 'DREB', 'BLK', 'TEAM_ABBREVIATION']\n",
    "\n",
    "nba_data = pd.DataFrame(columns = column_names)\n",
    "\n",
    "\n",
    "# nba['MIN'] = 0\n",
    "# for index, row in nba.iterrows():\n",
    "#     minutes = 0\n",
    "#     for game in row['GAMELOG']:\n",
    "#         minutes += game['MIN']\n",
    "#     if minutes == 0:\n",
    "#         nba.loc[nba_check['PERSON_ID'] == row['PERSON_ID'], 'MIN'] = 0\n",
    "#     else:\n",
    "#         nba.loc[nba_check['PERSON_ID'] == row['PERSON_ID'], 'MIN'] = round((minutes / len(nba_check['GAMELOG'][index])),3)\n",
    "nba_game_list = []\n",
    "for index, row in nba.iterrows():\n",
    "    for game in row['GAMELOG']:\n",
    "        nba_game = [row['DISPLAY_FIRST_LAST'], row['PERSON_ID'], game['TEAM_ID'], \n",
    "                        game['Game_ID'], game['MIN'], game['PTS'], game['AST'], game['REB'],\n",
    "                        game['DREB'], game['BLK'], game['TEAM_ABBREVIATION']]\n",
    "        zipped = zip(column_names, nba_game)\n",
    "        a_dictionary = dict(zipped)\n",
    "        nba_game_list.append(a_dictionary)\n",
    "        \n",
    "nba_data = nba_data.append(nba_game_list)\n"
   ]
  },
  {
   "cell_type": "markdown",
   "metadata": {},
   "source": [
    "# Part 2:  Creating the Dataframe\n",
    "\n",
    "Create a data frame where each row corresponds to a game for each player. You must have atleast the following columns in your final dataframe:\n",
    "\n",
    "'DISPLAY_FIRST_LAST', 'PERSON_ID', 'TEAM_ID', 'AST', 'BLK', 'DREB','Game_ID',  'MIN', 'PTS', 'REB', 'TEAM_ABBREVIATION'\n",
    "\n",
    "*You can include additional columns in your dataframe, so you don't have to do additional work to remove other columns.*  "
   ]
  },
  {
   "cell_type": "code",
   "execution_count": null,
   "metadata": {},
   "outputs": [],
   "source": []
  },
  {
   "cell_type": "markdown",
   "metadata": {},
   "source": [
    "# Part 3: Pandas Questions\n",
    "\n",
    "Answer the following questions"
   ]
  },
  {
   "cell_type": "markdown",
   "metadata": {},
   "source": [
    "## 1 \n",
    "- Find the player who scored the most points in an individual game last season.\n",
    "\n",
    "-  Now do the same for rebounds, blocks, and assists."
   ]
  },
  {
   "cell_type": "code",
   "execution_count": 65,
   "metadata": {},
   "outputs": [
    {
     "name": "stdout",
     "output_type": "stream",
     "text": [
      "      DISPLAY_FIRST_LAST PERSON_ID     TEAM_ID     Game_ID MIN PTS AST REB  \\\n",
      "10323       James Harden    201935  1610612745  0021801084  37  61   1   7   \n",
      "10348       James Harden    201935  1610612745  0021800710  40  61   4  15   \n",
      "\n",
      "      DREB BLK TEAM_ABBREVIATION  \n",
      "10323    5   0               HOU  \n",
      "10348    9   0               HOU  \n",
      "       DISPLAY_FIRST_LAST PERSON_ID     TEAM_ID     Game_ID MIN PTS AST REB  \\\n",
      "23773  Karl-Anthony Towns   1626157  1610612750  0021800633  37  27   3  27   \n",
      "\n",
      "      DREB BLK TEAM_ABBREVIATION  \n",
      "23773   18   4               MIN  \n",
      "      DISPLAY_FIRST_LAST PERSON_ID     TEAM_ID     Game_ID MIN PTS AST REB  \\\n",
      "21109  Mitchell Robinson   1629011  1610612752  0021800186  22   4   0   4   \n",
      "25135   Hassan Whiteside    202355  1610612748  0021800156  32  29   2  20   \n",
      "\n",
      "      DREB BLK TEAM_ABBREVIATION  \n",
      "21109    4   9               NYK  \n",
      "25135   14   9               MIA  \n",
      "      DISPLAY_FIRST_LAST PERSON_ID     TEAM_ID     Game_ID MIN PTS AST REB  \\\n",
      "24969  Russell Westbrook    201566  1610612760  0021800619  50  24  24  13   \n",
      "\n",
      "      DREB BLK TEAM_ABBREVIATION  \n",
      "24969   11   0               OKC  \n"
     ]
    }
   ],
   "source": [
    "# nba_data.loc(nba_data['PTS'].max())\n",
    "\n",
    "print(nba_data.loc[nba_data['PTS'] == nba_data['PTS'].max()])\n",
    "print(nba_data.loc[nba_data['REB'] == nba_data['REB'].max()])\n",
    "print(nba_data.loc[nba_data['BLK'] == nba_data['BLK'].max()])\n",
    "print(nba_data.loc[nba_data['AST'] == nba_data['AST'].max()])"
   ]
  },
  {
   "cell_type": "markdown",
   "metadata": {},
   "source": [
    "## 2: \n",
    "\n",
    "- Find the player who scored the most points for the entire season.\n",
    "\n",
    "- Now do the same for rebounds, blocks, and assists."
   ]
  },
  {
   "cell_type": "code",
   "execution_count": 66,
   "metadata": {},
   "outputs": [
    {
     "name": "stdout",
     "output_type": "stream",
     "text": [
      "                    PERSON_ID       TEAM_ID  \\\n",
      "DISPLAY_FIRST_LAST                            \n",
      "James Harden         15750930  125627794110   \n",
      "\n",
      "                                                              Game_ID   MIN  \\\n",
      "DISPLAY_FIRST_LAST                                                            \n",
      "James Harden        0021801218002180120000218011840021801176002180...  2870   \n",
      "\n",
      "                     PTS  AST  REB  DREB  BLK  \\\n",
      "DISPLAY_FIRST_LAST                              \n",
      "James Harden        2818  586  518   452   58   \n",
      "\n",
      "                                                    TEAM_ABBREVIATION  \n",
      "DISPLAY_FIRST_LAST                                                     \n",
      "James Harden        HOUHOUHOUHOUHOUHOUHOUHOUHOUHOUHOUHOUHOUHOUHOUH...  \n",
      "                    PERSON_ID       TEAM_ID  \\\n",
      "DISPLAY_FIRST_LAST                            \n",
      "Andre Drummond       16043557  127238408435   \n",
      "\n",
      "                                                              Game_ID   MIN  \\\n",
      "DISPLAY_FIRST_LAST                                                            \n",
      "Andre Drummond      0021801223002180121000218011980021801186002180...  2646   \n",
      "\n",
      "                     PTS  AST   REB  DREB  BLK  \\\n",
      "DISPLAY_FIRST_LAST                               \n",
      "Andre Drummond      1370  112  1232   809  138   \n",
      "\n",
      "                                                    TEAM_ABBREVIATION  \n",
      "DISPLAY_FIRST_LAST                                                     \n",
      "Andre Drummond      DETDETDETDETDETDETDETDETDETDETDETDETDETDETDETD...  \n",
      "                    PERSON_ID       TEAM_ID  \\\n",
      "DISPLAY_FIRST_LAST                            \n",
      "Myles Turner        120336358  119185343796   \n",
      "\n",
      "                                                              Game_ID   MIN  \\\n",
      "DISPLAY_FIRST_LAST                                                            \n",
      "Myles Turner        0021801199002180118300218011650021801152002180...  2119   \n",
      "\n",
      "                    PTS  AST  REB  DREB  BLK  \\\n",
      "DISPLAY_FIRST_LAST                             \n",
      "Myles Turner        984  115  531   430  199   \n",
      "\n",
      "                                                    TEAM_ABBREVIATION  \n",
      "DISPLAY_FIRST_LAST                                                     \n",
      "Myles Turner        INDINDINDINDINDINDINDINDINDINDINDINDINDINDINDI...  \n",
      "                    PERSON_ID       TEAM_ID  \\\n",
      "DISPLAY_FIRST_LAST                            \n",
      "Russell Westbrook    14714318  117574731480   \n",
      "\n",
      "                                                              Game_ID   MIN  \\\n",
      "DISPLAY_FIRST_LAST                                                            \n",
      "Russell Westbrook   0021801226002180121800218011970021801186002180...  2634   \n",
      "\n",
      "                     PTS  AST  REB  DREB  BLK  \\\n",
      "DISPLAY_FIRST_LAST                              \n",
      "Russell Westbrook   1675  784  807   698   33   \n",
      "\n",
      "                                                    TEAM_ABBREVIATION  \n",
      "DISPLAY_FIRST_LAST                                                     \n",
      "Russell Westbrook   OKCOKCOKCOKCOKCOKCOKCOKCOKCOKCOKCOKCOKCOKCOKCO...  \n"
     ]
    }
   ],
   "source": [
    "nba_sums = nba_data.groupby(['DISPLAY_FIRST_LAST']).sum()\n",
    "print(nba_sums.loc[nba_sums['PTS'] == nba_sums['PTS'].max()])\n",
    "print(nba_sums.loc[nba_sums['REB'] == nba_sums['REB'].max()])\n",
    "print(nba_sums.loc[nba_sums['BLK'] == nba_sums['BLK'].max()])\n",
    "print(nba_sums.loc[nba_sums['AST'] == nba_sums['AST'].max()])"
   ]
  },
  {
   "cell_type": "markdown",
   "metadata": {},
   "source": [
    "## 3:\n",
    "How many players played in at least 82 games last season?"
   ]
  },
  {
   "cell_type": "code",
   "execution_count": 67,
   "metadata": {},
   "outputs": [
    {
     "data": {
      "text/plain": [
       "21"
      ]
     },
     "execution_count": 67,
     "metadata": {},
     "output_type": "execute_result"
    }
   ],
   "source": [
    "num_games = nba_data.groupby(['DISPLAY_FIRST_LAST']).count()\n",
    "(num_games['PERSON_ID'].loc[num_games['PERSON_ID'] == 82]).count()"
   ]
  },
  {
   "cell_type": "markdown",
   "metadata": {},
   "source": [
    "## 4: \n",
    "- Find which team scored the most points for the entire season.\n",
    "\n",
    "- Now do the same for rebounds, blocks, and assists."
   ]
  },
  {
   "cell_type": "code",
   "execution_count": 68,
   "metadata": {},
   "outputs": [
    {
     "name": "stdout",
     "output_type": "stream",
     "text": [
      "MIL\n",
      "MIL\n",
      "GSW\n",
      "GSW\n"
     ]
    }
   ],
   "source": [
    "team_total = nba_data.groupby(['TEAM_ABBREVIATION']).sum()\n",
    "print(team_total.loc[team_total['PTS'] == team_total['PTS'].max()].reset_index()['TEAM_ABBREVIATION'][0])\n",
    "print(team_total.loc[team_total['REB'] == team_total['REB'].max()].reset_index()['TEAM_ABBREVIATION'][0])\n",
    "print(team_total.loc[team_total['BLK'] == team_total['BLK'].max()].reset_index()['TEAM_ABBREVIATION'][0])\n",
    "print(team_total.loc[team_total['AST'] == team_total['AST'].max()].reset_index()['TEAM_ABBREVIATION'][0])"
   ]
  },
  {
   "cell_type": "markdown",
   "metadata": {},
   "source": [
    "## 5:\n",
    "Which team had the most players play for them last season?"
   ]
  },
  {
   "cell_type": "code",
   "execution_count": 69,
   "metadata": {},
   "outputs": [
    {
     "data": {
      "text/plain": [
       "'LAC'"
      ]
     },
     "execution_count": 69,
     "metadata": {},
     "output_type": "execute_result"
    }
   ],
   "source": [
    "total_players = nba_data.groupby(['TEAM_ABBREVIATION'])\n",
    "\n",
    "count_players = total_players['DISPLAY_FIRST_LAST'].count()\n",
    "\n",
    "count_players[count_players == count_players.max()].reset_index()['TEAM_ABBREVIATION'][0]"
   ]
  },
  {
   "cell_type": "markdown",
   "metadata": {},
   "source": [
    "## 6:\n",
    "- Did any players play for more than one team last year?\n",
    "\n",
    "- What is the most number of teams a player played for last season?"
   ]
  },
  {
   "cell_type": "markdown",
   "metadata": {},
   "source": [
    "## 7:\n",
    "\n",
    "Find the player who scored the least amount of points while playing in at least 40 games last season."
   ]
  },
  {
   "cell_type": "code",
   "execution_count": 77,
   "metadata": {},
   "outputs": [],
   "source": [
    "games_played = nba_data.groupby('DISPLAY_FIRST_LAST').sum()\n",
    "\n",
    "# games_played.loc[games_played['Game_ID'] >= 40].reset_index()\n"
   ]
  },
  {
   "cell_type": "markdown",
   "metadata": {},
   "source": [
    "# Part 4: Pandas and Probability"
   ]
  },
  {
   "cell_type": "markdown",
   "metadata": {},
   "source": [
    "## 8: \n",
    "\n",
    "What is the probability that a random player had a game where they scored more than 40 points?"
   ]
  },
  {
   "cell_type": "code",
   "execution_count": 31,
   "metadata": {},
   "outputs": [
    {
     "data": {
      "text/plain": [
       "0.4214397915788667"
      ]
     },
     "execution_count": 31,
     "metadata": {},
     "output_type": "execute_result"
    }
   ],
   "source": [
    "probability = (nba_data.loc[nba_data['PTS'] > 40].count()[0] / nba_data.count()[0]) * 100\n",
    "probability"
   ]
  },
  {
   "cell_type": "markdown",
   "metadata": {},
   "source": [
    "## 9:\n",
    "\n",
    "What is the probability that a randomly selected player from last season would average more than 20 points per game?"
   ]
  },
  {
   "cell_type": "code",
   "execution_count": null,
   "metadata": {},
   "outputs": [],
   "source": []
  },
  {
   "cell_type": "markdown",
   "metadata": {},
   "source": [
    "# Advanced Questions"
   ]
  },
  {
   "cell_type": "markdown",
   "metadata": {},
   "source": [
    "## 10: \n",
    "Find the player who scored the least amount of points while playing in at least 40 games and averageing at least 15 minutes per game last season."
   ]
  },
  {
   "cell_type": "code",
   "execution_count": null,
   "metadata": {},
   "outputs": [],
   "source": [
    "#your code here"
   ]
  },
  {
   "cell_type": "markdown",
   "metadata": {},
   "source": [
    "## 11: \n",
    "Which player scored the largest share of points for their team throughout the season."
   ]
  },
  {
   "cell_type": "code",
   "execution_count": null,
   "metadata": {},
   "outputs": [],
   "source": [
    "#your code here"
   ]
  },
  {
   "cell_type": "markdown",
   "metadata": {},
   "source": [
    "## 12:\n",
    "\n",
    "What is the probability that a randomly selected player had at least one game in which they scored 40 points last season. "
   ]
  },
  {
   "cell_type": "code",
   "execution_count": null,
   "metadata": {},
   "outputs": [],
   "source": [
    "# your code here"
   ]
  },
  {
   "cell_type": "markdown",
   "metadata": {},
   "source": [
    "## 13: \n",
    "\n",
    "A double-double is when a player records for any of the two follow categories: points, rebounds, assists, steals, or blocks. \n",
    "What is the probability that a randomly selected player had a double-double in a game last season?\n"
   ]
  },
  {
   "cell_type": "code",
   "execution_count": null,
   "metadata": {},
   "outputs": [],
   "source": [
    "#your code here"
   ]
  },
  {
   "cell_type": "markdown",
   "metadata": {},
   "source": [
    "## 14:\n",
    "\n",
    "What is the probability that a randomnly selected game had a player record a triple-double in that game?"
   ]
  },
  {
   "cell_type": "code",
   "execution_count": null,
   "metadata": {},
   "outputs": [],
   "source": [
    "#your code here"
   ]
  }
 ],
 "metadata": {
  "kernelspec": {
   "display_name": "Python 3",
   "language": "python",
   "name": "python3"
  },
  "language_info": {
   "codemirror_mode": {
    "name": "ipython",
    "version": 3
   },
   "file_extension": ".py",
   "mimetype": "text/x-python",
   "name": "python",
   "nbconvert_exporter": "python",
   "pygments_lexer": "ipython3",
   "version": "3.7.6"
  }
 },
 "nbformat": 4,
 "nbformat_minor": 2
}
