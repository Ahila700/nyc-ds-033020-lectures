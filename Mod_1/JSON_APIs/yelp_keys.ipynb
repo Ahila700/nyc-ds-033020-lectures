{
 "cells": [
  {
   "cell_type": "code",
   "execution_count": 1,
   "metadata": {},
   "outputs": [],
   "source": [
    "client_id = '-uqWDK-AroyJM7jqJ5zP8Q'\n",
    "api_key = 'DyHgCLzELZZrIeI5pbvaXjz97CihKM-_aUVH3Ga8EYeTMLFmV59fm4VEO77af57qXjwGAjxIfYCODheuvhrw67YBnDwVI9kqWHs62sjL5HGzwXESA-HmL7twoZaPXnYx'"
   ]
  },
  {
   "cell_type": "code",
   "execution_count": null,
   "metadata": {},
   "outputs": [],
   "source": []
  }
 ],
 "metadata": {
  "kernelspec": {
   "display_name": "Python 3",
   "language": "python",
   "name": "python3"
  },
  "language_info": {
   "codemirror_mode": {
    "name": "ipython",
    "version": 3
   },
   "file_extension": ".py",
   "mimetype": "text/x-python",
   "name": "python",
   "nbconvert_exporter": "python",
   "pygments_lexer": "ipython3",
   "version": "3.7.6"
  }
 },
 "nbformat": 4,
 "nbformat_minor": 4
}
