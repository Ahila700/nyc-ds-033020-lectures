{
 "cells": [
  {
   "cell_type": "code",
   "execution_count": 1,
   "metadata": {},
   "outputs": [],
   "source": [
    "import pandas as pd\n",
    "import numpy as np\n",
    "\n",
    "import seaborn as sns\n",
    "sns.set(context='paper', style='darkgrid', rc={'figure.facecolor':'white'}, font_scale=1.2)\n",
    "\n",
    "import matplotlib.pyplot as plt\n",
    "%matplotlib inline\n",
    "\n",
    "from sklearn.model_selection import train_test_split\n",
    "from sklearn.metrics import accuracy_score, f1_score\n",
    "from sklearn.preprocessing import PolynomialFeatures\n",
    "from sklearn.preprocessing import StandardScaler\n",
    "\n",
    "from sklearn.linear_model import LogisticRegression\n",
    "\n",
    "from sklearn import metrics\n",
    "\n",
    "from sklearn.metrics import confusion_matrix\n",
    "import itertools\n",
    "\n",
    "from sklearn.model_selection import GridSearchCV\n",
    "\n",
    "from statsmodels.stats.outliers_influence import variance_inflation_factor\n",
    "\n",
    "from sklearn.tree import DecisionTreeClassifier # Import Decision Tree Classifier\n",
    "\n",
    "import pickle"
   ]
  },
  {
   "cell_type": "code",
   "execution_count": 5,
   "metadata": {},
   "outputs": [],
   "source": [
    "df = pd.read_csv('validation_set.csv', index_col = 0)"
   ]
  },
  {
   "cell_type": "code",
   "execution_count": null,
   "metadata": {},
   "outputs": [],
   "source": []
  },
  {
   "cell_type": "code",
   "execution_count": 2,
   "metadata": {},
   "outputs": [],
   "source": [
    "with open('Features_Selected_by_RF', 'rb') as handle:\n",
    "    X = pickle.load(handle)"
   ]
  },
  {
   "cell_type": "code",
   "execution_count": null,
   "metadata": {},
   "outputs": [],
   "source": []
  },
  {
   "cell_type": "markdown",
   "metadata": {},
   "source": [
    "## Cleaning data to match the training set"
   ]
  },
  {
   "cell_type": "code",
   "execution_count": 7,
   "metadata": {},
   "outputs": [],
   "source": [
    "df.rename(columns = {'default payment next month': 'Default',\n",
    "                     'BILL_AMT1': 'September_bill',\n",
    "                     'BILL_AMT2': 'August_bill',\n",
    "                     'BILL_AMT3': 'July_bill',\n",
    "                     'BILL_AMT4': 'June_bill',\n",
    "                     'BILL_AMT5': 'May_bill',\n",
    "                     'BILL_AMT6': 'April_bill', \n",
    "                     'PAY_0': 'September_status',\n",
    "                     'PAY_2': 'August_status',\n",
    "                     'PAY_3': 'July_status',\n",
    "                     'PAY_4': 'June_status',\n",
    "                     'PAY_5': 'May_status',\n",
    "                     'PAY_6': 'April_status',\n",
    "                     'PAY_AMT1': 'September_payment',\n",
    "                     'PAY_AMT2': 'August_payment',\n",
    "                     'PAY_AMT3': 'July_payment',\n",
    "                     'PAY_AMT4': 'June_payment',\n",
    "                     'PAY_AMT5': 'May_payment',\n",
    "                     'PAY_AMT6': 'April_payment',}, inplace = True)"
   ]
  },
  {
   "cell_type": "code",
   "execution_count": null,
   "metadata": {},
   "outputs": [],
   "source": [
    "df['SEX'] = np.where(df['SEX'] == 1, 1, 0)"
   ]
  },
  {
   "cell_type": "code",
   "execution_count": 8,
   "metadata": {},
   "outputs": [],
   "source": [
    "edu_dict = {1: 1,\n",
    "           2: 2,\n",
    "           3: 3,\n",
    "           4: 4,\n",
    "           0: 4, \n",
    "           5: 4, \n",
    "           6: 4}\n",
    "\n",
    "df['EDUCATION'] = df['EDUCATION'].replace(edu_dict)"
   ]
  },
  {
   "cell_type": "code",
   "execution_count": 9,
   "metadata": {},
   "outputs": [],
   "source": [
    "marriage_dict = {0: 2,\n",
    "                1:1,\n",
    "                2:2,\n",
    "                3:2}\n",
    "\n",
    "df['MARRIAGE'] = df['MARRIAGE'].replace(marriage_dict)"
   ]
  },
  {
   "cell_type": "code",
   "execution_count": 10,
   "metadata": {},
   "outputs": [],
   "source": [
    "status_dict = {-2:-1}\n",
    "\n",
    "df['September_status'] = df['September_status'].replace(status_dict)\n",
    "df['August_status'] = df['August_status'].replace(status_dict)\n",
    "df['July_status'] = df['July_status'].replace(status_dict)\n",
    "df['June_status'] = df['June_status'].replace(status_dict)\n",
    "df['May_status'] = df['May_status'].replace(status_dict)\n",
    "df['April_status'] = df['April_status'].replace(status_dict)"
   ]
  },
  {
   "cell_type": "code",
   "execution_count": 11,
   "metadata": {},
   "outputs": [],
   "source": [
    "df['September_balance'] = [df['September_bill'][i] - df['September_payment'][i] \n",
    "                       for i in range(len(df['September_payment']))]\n",
    "\n",
    "df['August_balance'] = [df['August_bill'][i] - df['August_payment'][i] \n",
    "                       for i in range(len(df['August_payment']))]\n",
    "\n",
    "df['July_balance'] = [df['July_bill'][i] - df['July_payment'][i] \n",
    "                       for i in range(len(df['July_payment']))]\n",
    "\n",
    "df['June_balance'] = [df['June_bill'][i] - df['June_payment'][i] \n",
    "                       for i in range(len(df['June_payment']))]\n",
    "\n",
    "df['May_balance'] = [df['May_bill'][i] - df['May_payment'][i] \n",
    "                       for i in range(len(df['May_payment']))]\n",
    "\n",
    "df['April_balance'] = [df['April_bill'][i] - df['April_payment'][i] \n",
    "                       for i in range(len(df['April_payment']))]"
   ]
  },
  {
   "cell_type": "code",
   "execution_count": null,
   "metadata": {},
   "outputs": [],
   "source": []
  },
  {
   "cell_type": "code",
   "execution_count": 16,
   "metadata": {},
   "outputs": [],
   "source": [
    "df['Min_payment_sep'] = [1 if df['September_bill'][i] <= 0 \n",
    "                                 else 1 if (df['September_payment'][i] / df['September_bill'][i]) > .03       \n",
    "                                 else 0 for i in range(len(df['September_bill']))]\n",
    "\n",
    "df['Min_payment_aug'] = [1 if df['August_bill'][i] <= 0\n",
    "                                 else 1 if (df['August_payment'][i] / df['August_bill'][i]) > .03       \n",
    "                                 else 0 for i in range(len(df['August_bill']))]\n",
    "\n",
    "df['Min_payment_jul'] = [1 if df['July_bill'][i] <= 0\n",
    "                                 else 1 if (df['July_payment'][i] / df['July_bill'][i]) > .03       \n",
    "                                 else 0 for i in range(len(df['July_bill']))]\n",
    "\n",
    "df['Min_payment_jun'] = [1 if df['June_bill'][i] <= 0\n",
    "                                 else 1 if (df['June_payment'][i] / df['June_bill'][i]) > .03       \n",
    "                                else 0 for i in range(len(df['June_bill']))]\n",
    "\n",
    "df['Min_payment_may'] = [1 if df['May_bill'][i] <= 0\n",
    "                                 else 1 if (df['May_payment'][i] / df['May_bill'][i]) > .03       \n",
    "                                 else 0 for i in range(len(df['May_bill']))]\n",
    "\n",
    "df['Min_payment_apr'] = [1 if df['April_bill'][i] <= 0\n",
    "                                 else 1 if (df['April_payment'][i] / df['April_bill'][i]) > .03       \n",
    "                                 else 0 for i in range(len(df['April_bill']))]"
   ]
  },
  {
   "cell_type": "code",
   "execution_count": null,
   "metadata": {},
   "outputs": [],
   "source": []
  },
  {
   "cell_type": "code",
   "execution_count": 17,
   "metadata": {},
   "outputs": [],
   "source": [
    "edu_dummies = pd.get_dummies(df['EDUCATION'], prefix = 'edu', drop_first = True)\n",
    "\n",
    "marriage_dummies = pd.get_dummies(df['MARRIAGE'], prefix = 'marriage', drop_first = True)\n",
    "\n",
    "status_dummies_sep = pd.get_dummies(df['September_status'], \n",
    "                                    prefix = 'September_status', drop_first = True)\n",
    "\n",
    "status_dummies_aug = pd.get_dummies(df['August_status'], \n",
    "                                    prefix = 'August_status', drop_first = True)\n",
    "\n",
    "status_dummies_jul = pd.get_dummies(df['July_status'], \n",
    "                                    prefix = 'July_status', drop_first = True)\n",
    "\n",
    "status_dummies_jun = pd.get_dummies(df['June_status'], \n",
    "                                    prefix = 'June_status', drop_first = True)\n",
    "\n",
    "status_dummies_may = pd.get_dummies(df['May_status'], \n",
    "                                    prefix = 'May_status', drop_first = True)\n",
    "\n",
    "status_dummies_apr = pd.get_dummies(df['April_status'], \n",
    "                                    prefix = 'April_status', drop_first = True)"
   ]
  },
  {
   "cell_type": "code",
   "execution_count": 18,
   "metadata": {},
   "outputs": [],
   "source": [
    "df = pd.concat([df, edu_dummies, marriage_dummies, status_dummies_sep, \n",
    "                status_dummies_aug, status_dummies_jul, status_dummies_jun, \n",
    "                status_dummies_may, status_dummies_apr], axis = 1)"
   ]
  },
  {
   "cell_type": "code",
   "execution_count": null,
   "metadata": {},
   "outputs": [],
   "source": []
  },
  {
   "cell_type": "code",
   "execution_count": 20,
   "metadata": {},
   "outputs": [],
   "source": [
    "df['Limit_min_sep'] = [df['LIMIT_BAL'][i] * df['Min_payment_sep'][i]\n",
    "                            for i in range(len(df['LIMIT_BAL']))]\n",
    "\n",
    "df['Limit_min_aug'] = [df['LIMIT_BAL'][i] * df['Min_payment_aug'][i]\n",
    "                            for i in range(len(df['LIMIT_BAL']))]\n",
    "\n",
    "df['Limit_min_jul'] = [df['LIMIT_BAL'][i] * df['Min_payment_jul'][i]\n",
    "                            for i in range(len(df['LIMIT_BAL']))]\n",
    "\n",
    "df['Limit_min_jun'] = [df['LIMIT_BAL'][i] * df['Min_payment_jun'][i]\n",
    "                            for i in range(len(df['LIMIT_BAL']))]\n",
    "\n",
    "df['Limit_min_may'] = [df['LIMIT_BAL'][i] * df['Min_payment_may'][i]\n",
    "                            for i in range(len(df['LIMIT_BAL']))]\n",
    "\n",
    "df['Limit_min_apr'] = [df['LIMIT_BAL'][i] * df['Min_payment_apr'][i]\n",
    "                            for i in range(len(df['LIMIT_BAL']))]"
   ]
  },
  {
   "cell_type": "code",
   "execution_count": null,
   "metadata": {},
   "outputs": [],
   "source": []
  },
  {
   "cell_type": "code",
   "execution_count": 21,
   "metadata": {},
   "outputs": [],
   "source": [
    "df.drop(columns = ['September_bill', 'August_bill', 'July_bill','June_bill', 'May_bill', \n",
    "                   'April_bill', 'September_payment', 'August_payment', 'July_payment', \n",
    "                   'June_payment', 'May_payment','April_payment', 'EDUCATION', 'MARRIAGE', \n",
    "                   'September_status', 'August_status', 'July_status', 'June_status', \n",
    "                   'May_status', 'April_status', 'EDUCATION', 'MARRIAGE'], inplace = True)"
   ]
  },
  {
   "cell_type": "code",
   "execution_count": null,
   "metadata": {},
   "outputs": [],
   "source": []
  },
  {
   "cell_type": "code",
   "execution_count": 25,
   "metadata": {},
   "outputs": [],
   "source": [
    "df = df[X.columns]"
   ]
  },
  {
   "cell_type": "code",
   "execution_count": 29,
   "metadata": {},
   "outputs": [
    {
     "data": {
      "text/html": [
       "<div>\n",
       "<style scoped>\n",
       "    .dataframe tbody tr th:only-of-type {\n",
       "        vertical-align: middle;\n",
       "    }\n",
       "\n",
       "    .dataframe tbody tr th {\n",
       "        vertical-align: top;\n",
       "    }\n",
       "\n",
       "    .dataframe thead th {\n",
       "        text-align: right;\n",
       "    }\n",
       "</style>\n",
       "<table border=\"1\" class=\"dataframe\">\n",
       "  <thead>\n",
       "    <tr style=\"text-align: right;\">\n",
       "      <th></th>\n",
       "      <th>LIMIT_BAL</th>\n",
       "      <th>SEX</th>\n",
       "      <th>AGE</th>\n",
       "      <th>September_balance</th>\n",
       "      <th>August_balance</th>\n",
       "      <th>July_balance</th>\n",
       "      <th>June_balance</th>\n",
       "      <th>May_balance</th>\n",
       "      <th>April_balance</th>\n",
       "      <th>Min_payment_sep</th>\n",
       "      <th>...</th>\n",
       "      <th>May_status_0</th>\n",
       "      <th>May_status_2</th>\n",
       "      <th>May_status_3</th>\n",
       "      <th>May_status_4</th>\n",
       "      <th>May_status_7</th>\n",
       "      <th>April_status_0</th>\n",
       "      <th>April_status_2</th>\n",
       "      <th>April_status_3</th>\n",
       "      <th>April_status_4</th>\n",
       "      <th>April_status_7</th>\n",
       "    </tr>\n",
       "  </thead>\n",
       "  <tbody>\n",
       "    <tr>\n",
       "      <th>0</th>\n",
       "      <td>300000</td>\n",
       "      <td>2</td>\n",
       "      <td>32</td>\n",
       "      <td>25254</td>\n",
       "      <td>17902</td>\n",
       "      <td>19111</td>\n",
       "      <td>8488</td>\n",
       "      <td>250</td>\n",
       "      <td>0</td>\n",
       "      <td>1</td>\n",
       "      <td>...</td>\n",
       "      <td>1</td>\n",
       "      <td>0</td>\n",
       "      <td>0</td>\n",
       "      <td>0</td>\n",
       "      <td>0</td>\n",
       "      <td>0</td>\n",
       "      <td>0</td>\n",
       "      <td>0</td>\n",
       "      <td>0</td>\n",
       "      <td>0</td>\n",
       "    </tr>\n",
       "    <tr>\n",
       "      <th>1</th>\n",
       "      <td>360000</td>\n",
       "      <td>2</td>\n",
       "      <td>47</td>\n",
       "      <td>-3249</td>\n",
       "      <td>-1492</td>\n",
       "      <td>-17731</td>\n",
       "      <td>17985</td>\n",
       "      <td>935</td>\n",
       "      <td>4999</td>\n",
       "      <td>1</td>\n",
       "      <td>...</td>\n",
       "      <td>0</td>\n",
       "      <td>0</td>\n",
       "      <td>0</td>\n",
       "      <td>0</td>\n",
       "      <td>0</td>\n",
       "      <td>0</td>\n",
       "      <td>0</td>\n",
       "      <td>0</td>\n",
       "      <td>0</td>\n",
       "      <td>0</td>\n",
       "    </tr>\n",
       "    <tr>\n",
       "      <th>2</th>\n",
       "      <td>120000</td>\n",
       "      <td>2</td>\n",
       "      <td>27</td>\n",
       "      <td>10179</td>\n",
       "      <td>8059</td>\n",
       "      <td>10861</td>\n",
       "      <td>8955</td>\n",
       "      <td>10490</td>\n",
       "      <td>9866</td>\n",
       "      <td>1</td>\n",
       "      <td>...</td>\n",
       "      <td>1</td>\n",
       "      <td>0</td>\n",
       "      <td>0</td>\n",
       "      <td>0</td>\n",
       "      <td>0</td>\n",
       "      <td>1</td>\n",
       "      <td>0</td>\n",
       "      <td>0</td>\n",
       "      <td>0</td>\n",
       "      <td>0</td>\n",
       "    </tr>\n",
       "    <tr>\n",
       "      <th>3</th>\n",
       "      <td>140000</td>\n",
       "      <td>2</td>\n",
       "      <td>40</td>\n",
       "      <td>133241</td>\n",
       "      <td>107485</td>\n",
       "      <td>81465</td>\n",
       "      <td>38202</td>\n",
       "      <td>38646</td>\n",
       "      <td>31279</td>\n",
       "      <td>1</td>\n",
       "      <td>...</td>\n",
       "      <td>1</td>\n",
       "      <td>0</td>\n",
       "      <td>0</td>\n",
       "      <td>0</td>\n",
       "      <td>0</td>\n",
       "      <td>1</td>\n",
       "      <td>0</td>\n",
       "      <td>0</td>\n",
       "      <td>0</td>\n",
       "      <td>0</td>\n",
       "    </tr>\n",
       "    <tr>\n",
       "      <th>4</th>\n",
       "      <td>180000</td>\n",
       "      <td>2</td>\n",
       "      <td>31</td>\n",
       "      <td>0</td>\n",
       "      <td>0</td>\n",
       "      <td>0</td>\n",
       "      <td>0</td>\n",
       "      <td>0</td>\n",
       "      <td>0</td>\n",
       "      <td>1</td>\n",
       "      <td>...</td>\n",
       "      <td>0</td>\n",
       "      <td>0</td>\n",
       "      <td>0</td>\n",
       "      <td>0</td>\n",
       "      <td>0</td>\n",
       "      <td>0</td>\n",
       "      <td>0</td>\n",
       "      <td>0</td>\n",
       "      <td>0</td>\n",
       "      <td>0</td>\n",
       "    </tr>\n",
       "  </tbody>\n",
       "</table>\n",
       "<p>5 rows × 51 columns</p>\n",
       "</div>"
      ],
      "text/plain": [
       "   LIMIT_BAL  SEX  AGE  September_balance  August_balance  July_balance  \\\n",
       "0     300000    2   32              25254           17902         19111   \n",
       "1     360000    2   47              -3249           -1492        -17731   \n",
       "2     120000    2   27              10179            8059         10861   \n",
       "3     140000    2   40             133241          107485         81465   \n",
       "4     180000    2   31                  0               0             0   \n",
       "\n",
       "   June_balance  May_balance  April_balance  Min_payment_sep  ...  \\\n",
       "0          8488          250              0                1  ...   \n",
       "1         17985          935           4999                1  ...   \n",
       "2          8955        10490           9866                1  ...   \n",
       "3         38202        38646          31279                1  ...   \n",
       "4             0            0              0                1  ...   \n",
       "\n",
       "   May_status_0  May_status_2  May_status_3  May_status_4  May_status_7  \\\n",
       "0             1             0             0             0             0   \n",
       "1             0             0             0             0             0   \n",
       "2             1             0             0             0             0   \n",
       "3             1             0             0             0             0   \n",
       "4             0             0             0             0             0   \n",
       "\n",
       "   April_status_0  April_status_2  April_status_3  April_status_4  \\\n",
       "0               0               0               0               0   \n",
       "1               0               0               0               0   \n",
       "2               1               0               0               0   \n",
       "3               1               0               0               0   \n",
       "4               0               0               0               0   \n",
       "\n",
       "   April_status_7  \n",
       "0               0  \n",
       "1               0  \n",
       "2               0  \n",
       "3               0  \n",
       "4               0  \n",
       "\n",
       "[5 rows x 51 columns]"
      ]
     },
     "execution_count": 29,
     "metadata": {},
     "output_type": "execute_result"
    }
   ],
   "source": [
    "df.head()"
   ]
  },
  {
   "cell_type": "code",
   "execution_count": null,
   "metadata": {},
   "outputs": [],
   "source": []
  },
  {
   "cell_type": "markdown",
   "metadata": {},
   "source": [
    "## Making Predictions"
   ]
  },
  {
   "cell_type": "markdown",
   "metadata": {},
   "source": [
    "#### Bringing in predictions with pickle"
   ]
  },
  {
   "cell_type": "code",
   "execution_count": 32,
   "metadata": {},
   "outputs": [],
   "source": [
    "with open('Best_model', 'rb') as handle:\n",
    "    rfc_clf = pickle.load(handle)"
   ]
  },
  {
   "cell_type": "code",
   "execution_count": 33,
   "metadata": {},
   "outputs": [],
   "source": [
    "with open('Final_scaler', 'rb') as handle:\n",
    "    final_scaler = pickle.load(handle)"
   ]
  },
  {
   "cell_type": "code",
   "execution_count": null,
   "metadata": {},
   "outputs": [],
   "source": []
  },
  {
   "cell_type": "markdown",
   "metadata": {},
   "source": [
    "### Applying scaler and making predicitons"
   ]
  },
  {
   "cell_type": "code",
   "execution_count": 34,
   "metadata": {},
   "outputs": [],
   "source": [
    "df_scaled = pd.DataFrame(data=final_scaler.transform(df))"
   ]
  },
  {
   "cell_type": "code",
   "execution_count": null,
   "metadata": {},
   "outputs": [],
   "source": []
  },
  {
   "cell_type": "code",
   "execution_count": 36,
   "metadata": {},
   "outputs": [],
   "source": [
    "default_preds = rfc_clf.predict(df_scaled)"
   ]
  },
  {
   "cell_type": "code",
   "execution_count": 44,
   "metadata": {},
   "outputs": [],
   "source": [
    "default_pred_df = pd.DataFrame(default_preds)"
   ]
  },
  {
   "cell_type": "code",
   "execution_count": 46,
   "metadata": {},
   "outputs": [],
   "source": [
    "default_pred_df.rename(columns = {0 : 'Default_status'}, inplace = True)"
   ]
  },
  {
   "cell_type": "code",
   "execution_count": 50,
   "metadata": {},
   "outputs": [],
   "source": [
    "default_pred_df.to_csv('Default_predictions_AH.csv', header = None)"
   ]
  },
  {
   "cell_type": "code",
   "execution_count": null,
   "metadata": {},
   "outputs": [],
   "source": []
  }
 ],
 "metadata": {
  "kernelspec": {
   "display_name": "Python 3",
   "language": "python",
   "name": "python3"
  },
  "language_info": {
   "codemirror_mode": {
    "name": "ipython",
    "version": 3
   },
   "file_extension": ".py",
   "mimetype": "text/x-python",
   "name": "python",
   "nbconvert_exporter": "python",
   "pygments_lexer": "ipython3",
   "version": "3.7.6"
  }
 },
 "nbformat": 4,
 "nbformat_minor": 4
}
