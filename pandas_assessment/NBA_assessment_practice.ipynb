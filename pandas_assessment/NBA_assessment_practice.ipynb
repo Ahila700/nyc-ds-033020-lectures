{
 "cells": [
  {
   "cell_type": "code",
   "execution_count": 1,
   "metadata": {},
   "outputs": [],
   "source": [
    "import json\n",
    "import pandas as pd"
   ]
  },
  {
   "cell_type": "markdown",
   "metadata": {},
   "source": [
    "# Part 1: Reading and investigating data\n",
    "\n",
    "Open up the `player_data.json` and investigate the data structure."
   ]
  },
  {
   "cell_type": "code",
   "execution_count": 202,
   "metadata": {},
   "outputs": [
    {
     "data": {
      "text/html": [
       "<div>\n",
       "<style scoped>\n",
       "    .dataframe tbody tr th:only-of-type {\n",
       "        vertical-align: middle;\n",
       "    }\n",
       "\n",
       "    .dataframe tbody tr th {\n",
       "        vertical-align: top;\n",
       "    }\n",
       "\n",
       "    .dataframe thead th {\n",
       "        text-align: right;\n",
       "    }\n",
       "</style>\n",
       "<table border=\"1\" class=\"dataframe\">\n",
       "  <thead>\n",
       "    <tr style=\"text-align: right;\">\n",
       "      <th></th>\n",
       "      <th>DISPLAY_FIRST_LAST</th>\n",
       "      <th>PERSON_ID</th>\n",
       "      <th>TEAM_ID</th>\n",
       "      <th>Game_ID</th>\n",
       "      <th>MIN</th>\n",
       "      <th>PTS</th>\n",
       "      <th>AST</th>\n",
       "      <th>REB</th>\n",
       "      <th>DREB</th>\n",
       "      <th>BLK</th>\n",
       "      <th>TEAM_ABBREVIATION</th>\n",
       "    </tr>\n",
       "  </thead>\n",
       "  <tbody>\n",
       "    <tr>\n",
       "      <th>0</th>\n",
       "      <td>Alex Abrines</td>\n",
       "      <td>203518</td>\n",
       "      <td>1610612760</td>\n",
       "      <td>0021800772</td>\n",
       "      <td>9</td>\n",
       "      <td>0</td>\n",
       "      <td>0</td>\n",
       "      <td>0</td>\n",
       "      <td>0</td>\n",
       "      <td>0</td>\n",
       "      <td>OKC</td>\n",
       "    </tr>\n",
       "    <tr>\n",
       "      <th>1</th>\n",
       "      <td>Alex Abrines</td>\n",
       "      <td>203518</td>\n",
       "      <td>1610612760</td>\n",
       "      <td>0021800751</td>\n",
       "      <td>6</td>\n",
       "      <td>3</td>\n",
       "      <td>0</td>\n",
       "      <td>1</td>\n",
       "      <td>1</td>\n",
       "      <td>0</td>\n",
       "      <td>OKC</td>\n",
       "    </tr>\n",
       "    <tr>\n",
       "      <th>2</th>\n",
       "      <td>Alex Abrines</td>\n",
       "      <td>203518</td>\n",
       "      <td>1610612760</td>\n",
       "      <td>0021800493</td>\n",
       "      <td>27</td>\n",
       "      <td>7</td>\n",
       "      <td>0</td>\n",
       "      <td>1</td>\n",
       "      <td>1</td>\n",
       "      <td>2</td>\n",
       "      <td>OKC</td>\n",
       "    </tr>\n",
       "    <tr>\n",
       "      <th>3</th>\n",
       "      <td>Alex Abrines</td>\n",
       "      <td>203518</td>\n",
       "      <td>1610612760</td>\n",
       "      <td>0021800485</td>\n",
       "      <td>16</td>\n",
       "      <td>6</td>\n",
       "      <td>0</td>\n",
       "      <td>1</td>\n",
       "      <td>1</td>\n",
       "      <td>0</td>\n",
       "      <td>OKC</td>\n",
       "    </tr>\n",
       "    <tr>\n",
       "      <th>4</th>\n",
       "      <td>Alex Abrines</td>\n",
       "      <td>203518</td>\n",
       "      <td>1610612760</td>\n",
       "      <td>0021800466</td>\n",
       "      <td>23</td>\n",
       "      <td>9</td>\n",
       "      <td>1</td>\n",
       "      <td>1</td>\n",
       "      <td>1</td>\n",
       "      <td>0</td>\n",
       "      <td>OKC</td>\n",
       "    </tr>\n",
       "    <tr>\n",
       "      <th>...</th>\n",
       "      <td>...</td>\n",
       "      <td>...</td>\n",
       "      <td>...</td>\n",
       "      <td>...</td>\n",
       "      <td>...</td>\n",
       "      <td>...</td>\n",
       "      <td>...</td>\n",
       "      <td>...</td>\n",
       "      <td>...</td>\n",
       "      <td>...</td>\n",
       "      <td>...</td>\n",
       "    </tr>\n",
       "    <tr>\n",
       "      <th>26096</th>\n",
       "      <td>Ivica Zubac</td>\n",
       "      <td>1627826</td>\n",
       "      <td>1610612747</td>\n",
       "      <td>0021800183</td>\n",
       "      <td>2</td>\n",
       "      <td>0</td>\n",
       "      <td>0</td>\n",
       "      <td>2</td>\n",
       "      <td>1</td>\n",
       "      <td>0</td>\n",
       "      <td>LAL</td>\n",
       "    </tr>\n",
       "    <tr>\n",
       "      <th>26097</th>\n",
       "      <td>Ivica Zubac</td>\n",
       "      <td>1627826</td>\n",
       "      <td>1610612747</td>\n",
       "      <td>0021800139</td>\n",
       "      <td>11</td>\n",
       "      <td>5</td>\n",
       "      <td>1</td>\n",
       "      <td>6</td>\n",
       "      <td>4</td>\n",
       "      <td>0</td>\n",
       "      <td>LAL</td>\n",
       "    </tr>\n",
       "    <tr>\n",
       "      <th>26098</th>\n",
       "      <td>Ivica Zubac</td>\n",
       "      <td>1627826</td>\n",
       "      <td>1610612747</td>\n",
       "      <td>0021800132</td>\n",
       "      <td>20</td>\n",
       "      <td>9</td>\n",
       "      <td>0</td>\n",
       "      <td>8</td>\n",
       "      <td>4</td>\n",
       "      <td>0</td>\n",
       "      <td>LAL</td>\n",
       "    </tr>\n",
       "    <tr>\n",
       "      <th>26099</th>\n",
       "      <td>Ivica Zubac</td>\n",
       "      <td>1627826</td>\n",
       "      <td>1610612747</td>\n",
       "      <td>0021800060</td>\n",
       "      <td>2</td>\n",
       "      <td>0</td>\n",
       "      <td>1</td>\n",
       "      <td>2</td>\n",
       "      <td>1</td>\n",
       "      <td>0</td>\n",
       "      <td>LAL</td>\n",
       "    </tr>\n",
       "    <tr>\n",
       "      <th>26100</th>\n",
       "      <td>Ivica Zubac</td>\n",
       "      <td>1627826</td>\n",
       "      <td>1610612747</td>\n",
       "      <td>0021800048</td>\n",
       "      <td>5</td>\n",
       "      <td>0</td>\n",
       "      <td>0</td>\n",
       "      <td>1</td>\n",
       "      <td>0</td>\n",
       "      <td>1</td>\n",
       "      <td>LAL</td>\n",
       "    </tr>\n",
       "  </tbody>\n",
       "</table>\n",
       "<p>26101 rows × 11 columns</p>\n",
       "</div>"
      ],
      "text/plain": [
       "      DISPLAY_FIRST_LAST PERSON_ID     TEAM_ID     Game_ID MIN PTS AST REB  \\\n",
       "0           Alex Abrines    203518  1610612760  0021800772   9   0   0   0   \n",
       "1           Alex Abrines    203518  1610612760  0021800751   6   3   0   1   \n",
       "2           Alex Abrines    203518  1610612760  0021800493  27   7   0   1   \n",
       "3           Alex Abrines    203518  1610612760  0021800485  16   6   0   1   \n",
       "4           Alex Abrines    203518  1610612760  0021800466  23   9   1   1   \n",
       "...                  ...       ...         ...         ...  ..  ..  ..  ..   \n",
       "26096        Ivica Zubac   1627826  1610612747  0021800183   2   0   0   2   \n",
       "26097        Ivica Zubac   1627826  1610612747  0021800139  11   5   1   6   \n",
       "26098        Ivica Zubac   1627826  1610612747  0021800132  20   9   0   8   \n",
       "26099        Ivica Zubac   1627826  1610612747  0021800060   2   0   1   2   \n",
       "26100        Ivica Zubac   1627826  1610612747  0021800048   5   0   0   1   \n",
       "\n",
       "      DREB BLK TEAM_ABBREVIATION  \n",
       "0        0   0               OKC  \n",
       "1        1   0               OKC  \n",
       "2        1   2               OKC  \n",
       "3        1   0               OKC  \n",
       "4        1   0               OKC  \n",
       "...    ...  ..               ...  \n",
       "26096    1   0               LAL  \n",
       "26097    4   0               LAL  \n",
       "26098    4   0               LAL  \n",
       "26099    1   0               LAL  \n",
       "26100    0   1               LAL  \n",
       "\n",
       "[26101 rows x 11 columns]"
      ]
     },
     "execution_count": 202,
     "metadata": {},
     "output_type": "execute_result"
    }
   ],
   "source": [
    "nba = pd.read_json('player_data.json')\n",
    "\n",
    "column_names = ['DISPLAY_FIRST_LAST', 'PERSON_ID', 'TEAM_ID', 'Game_ID', 'MIN', 'PTS', 'AST', \n",
    "                'REB', 'DREB', 'BLK', 'TEAM_ABBREVIATION']\n",
    "\n",
    "nba_data = pd.DataFrame(columns = column_names)\n",
    "\n",
    "\n",
    "# nba['MIN'] = 0\n",
    "# for index, row in nba.iterrows():\n",
    "#     minutes = 0\n",
    "#     for game in row['GAMELOG']:\n",
    "#         minutes += game['MIN']\n",
    "#     if minutes == 0:\n",
    "#         nba.loc[nba_check['PERSON_ID'] == row['PERSON_ID'], 'MIN'] = 0\n",
    "#     else:\n",
    "#         nba.loc[nba_check['PERSON_ID'] == row['PERSON_ID'], 'MIN'] = round((minutes / len(nba_check['GAMELOG'][index])),3)\n",
    "nba_game_list = []\n",
    "for index, row in nba.iterrows():\n",
    "    for game in row['GAMELOG']:\n",
    "        nba_game = [row['DISPLAY_FIRST_LAST'], row['PERSON_ID'], game['TEAM_ID'], \n",
    "                        game['Game_ID'], game['MIN'], game['PTS'], game['AST'], game['REB'],\n",
    "                        game['DREB'], game['BLK'], game['TEAM_ABBREVIATION']]\n",
    "        zipped = zip(column_names, nba_game)\n",
    "        a_dictionary = dict(zipped)\n",
    "        nba_game_list.append(a_dictionary)\n",
    "\n",
    "nba_data = nba_data.append(nba_game_list)\n",
    "\n",
    "nba_data"
   ]
  },
  {
   "cell_type": "markdown",
   "metadata": {},
   "source": [
    "# Part 2:  Creating the Dataframe\n",
    "\n",
    "Create a data frame where each row corresponds to a game for each player. You must have atleast the following columns in your final dataframe:\n",
    "\n",
    "'DISPLAY_FIRST_LAST', 'PERSON_ID', 'TEAM_ID', 'AST', 'BLK', 'DREB','Game_ID',  'MIN', 'PTS', 'REB', 'TEAM_ABBREVIATION'\n",
    "\n",
    "*You can include additional columns in your dataframe, so you don't have to do additional work to remove other columns.*  "
   ]
  },
  {
   "cell_type": "code",
   "execution_count": null,
   "metadata": {},
   "outputs": [],
   "source": []
  },
  {
   "cell_type": "markdown",
   "metadata": {},
   "source": [
    "# Part 3: Pandas Questions\n",
    "\n",
    "Answer the following questions"
   ]
  },
  {
   "cell_type": "markdown",
   "metadata": {},
   "source": [
    "## 1 \n",
    "- Find the player who scored the most points in an individual game last season.\n",
    "\n",
    "-  Now do the same for rebounds, blocks, and assists."
   ]
  },
  {
   "cell_type": "code",
   "execution_count": 233,
   "metadata": {
    "collapsed": true
   },
   "outputs": [
    {
     "name": "stdout",
     "output_type": "stream",
     "text": [
      "      DISPLAY_FIRST_LAST PERSON_ID     TEAM_ID     Game_ID MIN PTS AST REB  \\\n",
      "10323       James Harden    201935  1610612745  0021801084  37  61   1   7   \n",
      "10348       James Harden    201935  1610612745  0021800710  40  61   4  15   \n",
      "\n",
      "      DREB BLK TEAM_ABBREVIATION  \n",
      "10323    5   0               HOU  \n",
      "10348    9   0               HOU  \n",
      "       DISPLAY_FIRST_LAST PERSON_ID     TEAM_ID     Game_ID MIN PTS AST REB  \\\n",
      "23773  Karl-Anthony Towns   1626157  1610612750  0021800633  37  27   3  27   \n",
      "\n",
      "      DREB BLK TEAM_ABBREVIATION  \n",
      "23773   18   4               MIN  \n",
      "      DISPLAY_FIRST_LAST PERSON_ID     TEAM_ID     Game_ID MIN PTS AST REB  \\\n",
      "21109  Mitchell Robinson   1629011  1610612752  0021800186  22   4   0   4   \n",
      "25135   Hassan Whiteside    202355  1610612748  0021800156  32  29   2  20   \n",
      "\n",
      "      DREB BLK TEAM_ABBREVIATION  \n",
      "21109    4   9               NYK  \n",
      "25135   14   9               MIA  \n",
      "      DISPLAY_FIRST_LAST PERSON_ID     TEAM_ID     Game_ID MIN PTS AST REB  \\\n",
      "24969  Russell Westbrook    201566  1610612760  0021800619  50  24  24  13   \n",
      "\n",
      "      DREB BLK TEAM_ABBREVIATION  \n",
      "24969   11   0               OKC  \n"
     ]
    }
   ],
   "source": [
    "# nba_data.loc(nba_data['PTS'].max())\n",
    "\n",
    "print(nba_data.loc[nba_data['PTS'] == nba_data['PTS'].max()])\n",
    "print(nba_data.loc[nba_data['REB'] == nba_data['REB'].max()])\n",
    "print(nba_data.loc[nba_data['BLK'] == nba_data['BLK'].max()])\n",
    "print(nba_data.loc[nba_data['AST'] == nba_data['AST'].max()])"
   ]
  },
  {
   "cell_type": "markdown",
   "metadata": {},
   "source": [
    "## 2: \n",
    "\n",
    "- Find the player who scored the most points for the entire season.\n",
    "\n",
    "- Now do the same for rebounds, blocks, and assists."
   ]
  },
  {
   "cell_type": "code",
   "execution_count": 262,
   "metadata": {
    "collapsed": true
   },
   "outputs": [
    {
     "name": "stdout",
     "output_type": "stream",
     "text": [
      "                    PERSON_ID       TEAM_ID  \\\n",
      "DISPLAY_FIRST_LAST                            \n",
      "James Harden         15750930  125627794110   \n",
      "\n",
      "                                                              Game_ID   MIN  \\\n",
      "DISPLAY_FIRST_LAST                                                            \n",
      "James Harden        0021801218002180120000218011840021801176002180...  2870   \n",
      "\n",
      "                     PTS  AST  REB  DREB  BLK  \\\n",
      "DISPLAY_FIRST_LAST                              \n",
      "James Harden        2818  586  518   452   58   \n",
      "\n",
      "                                                    TEAM_ABBREVIATION  \n",
      "DISPLAY_FIRST_LAST                                                     \n",
      "James Harden        HOUHOUHOUHOUHOUHOUHOUHOUHOUHOUHOUHOUHOUHOUHOUH...  \n",
      "                    PERSON_ID       TEAM_ID  \\\n",
      "DISPLAY_FIRST_LAST                            \n",
      "Andre Drummond       16043557  127238408435   \n",
      "\n",
      "                                                              Game_ID   MIN  \\\n",
      "DISPLAY_FIRST_LAST                                                            \n",
      "Andre Drummond      0021801223002180121000218011980021801186002180...  2646   \n",
      "\n",
      "                     PTS  AST   REB  DREB  BLK  \\\n",
      "DISPLAY_FIRST_LAST                               \n",
      "Andre Drummond      1370  112  1232   809  138   \n",
      "\n",
      "                                                    TEAM_ABBREVIATION  \n",
      "DISPLAY_FIRST_LAST                                                     \n",
      "Andre Drummond      DETDETDETDETDETDETDETDETDETDETDETDETDETDETDETD...  \n",
      "                    PERSON_ID       TEAM_ID  \\\n",
      "DISPLAY_FIRST_LAST                            \n",
      "Myles Turner        120336358  119185343796   \n",
      "\n",
      "                                                              Game_ID   MIN  \\\n",
      "DISPLAY_FIRST_LAST                                                            \n",
      "Myles Turner        0021801199002180118300218011650021801152002180...  2119   \n",
      "\n",
      "                    PTS  AST  REB  DREB  BLK  \\\n",
      "DISPLAY_FIRST_LAST                             \n",
      "Myles Turner        984  115  531   430  199   \n",
      "\n",
      "                                                    TEAM_ABBREVIATION  \n",
      "DISPLAY_FIRST_LAST                                                     \n",
      "Myles Turner        INDINDINDINDINDINDINDINDINDINDINDINDINDINDINDI...  \n",
      "                    PERSON_ID       TEAM_ID  \\\n",
      "DISPLAY_FIRST_LAST                            \n",
      "Russell Westbrook    14714318  117574731480   \n",
      "\n",
      "                                                              Game_ID   MIN  \\\n",
      "DISPLAY_FIRST_LAST                                                            \n",
      "Russell Westbrook   0021801226002180121800218011970021801186002180...  2634   \n",
      "\n",
      "                     PTS  AST  REB  DREB  BLK  \\\n",
      "DISPLAY_FIRST_LAST                              \n",
      "Russell Westbrook   1675  784  807   698   33   \n",
      "\n",
      "                                                    TEAM_ABBREVIATION  \n",
      "DISPLAY_FIRST_LAST                                                     \n",
      "Russell Westbrook   OKCOKCOKCOKCOKCOKCOKCOKCOKCOKCOKCOKCOKCOKCOKCO...  \n"
     ]
    }
   ],
   "source": [
    "nba_sums = nba_data.groupby(['DISPLAY_FIRST_LAST']).sum()\n",
    "print(nba_sums.loc[nba_sums['PTS'] == nba_sums['PTS'].max()])\n",
    "print(nba_sums.loc[nba_sums['REB'] == nba_sums['REB'].max()])\n",
    "print(nba_sums.loc[nba_sums['BLK'] == nba_sums['BLK'].max()])\n",
    "print(nba_sums.loc[nba_sums['AST'] == nba_sums['AST'].max()])"
   ]
  },
  {
   "cell_type": "markdown",
   "metadata": {},
   "source": [
    "## 3:\n",
    "How many players played in at least 82 games last season?"
   ]
  },
  {
   "cell_type": "code",
   "execution_count": 271,
   "metadata": {},
   "outputs": [
    {
     "data": {
      "text/plain": [
       "21"
      ]
     },
     "execution_count": 271,
     "metadata": {},
     "output_type": "execute_result"
    }
   ],
   "source": [
    "num_games = nba_data.groupby(['DISPLAY_FIRST_LAST']).count()\n",
    "(num_games['PERSON_ID'].loc[num_games['PERSON_ID'] == 82]).count()"
   ]
  },
  {
   "cell_type": "markdown",
   "metadata": {},
   "source": [
    "## 4: \n",
    "- Find which team scored the most points for the entire season.\n",
    "\n",
    "- Now do the same for rebounds, blocks, and assists."
   ]
  },
  {
   "cell_type": "code",
   "execution_count": 300,
   "metadata": {},
   "outputs": [],
   "source": [
    "team_total = nba_data.groupby(['TEAM_ABBREVIATION']).sum()\n",
    "total_pts = team_total.loc[team_total['PTS'] == team_total['PTS'].max()]\n",
    "total_reb = team_total.loc[team_total['REB'] == team_total['REB'].max()]\n",
    "total_blk = team_total.loc[team_total['BLK'] == team_total['BLK'].max()]\n",
    "total_ast = team_total.loc[team_total['AST'] == team_total['AST'].max()]\n"
   ]
  },
  {
   "cell_type": "markdown",
   "metadata": {},
   "source": [
    "## 5:\n",
    "Which team had the most players play for them last season?"
   ]
  },
  {
   "cell_type": "code",
   "execution_count": 313,
   "metadata": {},
   "outputs": [
    {
     "data": {
      "text/plain": [
       "TEAM_ABBREVIATION\n",
       "LAC    942\n",
       "Name: DISPLAY_FIRST_LAST, dtype: int64"
      ]
     },
     "execution_count": 313,
     "metadata": {},
     "output_type": "execute_result"
    }
   ],
   "source": [
    "total_players = nba_data.groupby(['TEAM_ABBREVIATION'])\n",
    "\n",
    "count_players = total_players['DISPLAY_FIRST_LAST'].count()\n",
    "\n",
    "count_players[count_players == count_players.max()]"
   ]
  },
  {
   "cell_type": "markdown",
   "metadata": {},
   "source": [
    "## 6:\n",
    "- Did any players play for more than one team last year?\n",
    "\n",
    "- What is the most number of teams a player played for last season?"
   ]
  },
  {
   "cell_type": "code",
   "execution_count": null,
   "metadata": {},
   "outputs": [],
   "source": []
  },
  {
   "cell_type": "markdown",
   "metadata": {},
   "source": [
    "## 7:\n",
    "\n",
    "Find the player who scored the least amount of points while playing in at least 40 games last season."
   ]
  },
  {
   "cell_type": "code",
   "execution_count": null,
   "metadata": {},
   "outputs": [],
   "source": [
    "#your code here"
   ]
  },
  {
   "cell_type": "markdown",
   "metadata": {},
   "source": [
    "# Part 4: Pandas and Probability"
   ]
  },
  {
   "cell_type": "markdown",
   "metadata": {},
   "source": [
    "## 8: \n",
    "\n",
    "What is the probability that a random player had a game where they scored more than 40 points?"
   ]
  },
  {
   "cell_type": "code",
   "execution_count": null,
   "metadata": {},
   "outputs": [],
   "source": [
    "#your code here"
   ]
  },
  {
   "cell_type": "markdown",
   "metadata": {},
   "source": [
    "## 9:\n",
    "\n",
    "What is the probability that a randomly selected player from last season would average more than 20 points per game?"
   ]
  },
  {
   "cell_type": "code",
   "execution_count": null,
   "metadata": {},
   "outputs": [],
   "source": [
    "# your code here"
   ]
  },
  {
   "cell_type": "markdown",
   "metadata": {},
   "source": [
    "# Advanced Questions"
   ]
  },
  {
   "cell_type": "markdown",
   "metadata": {},
   "source": [
    "## 10: \n",
    "Find the player who scored the least amount of points while playing in at least 40 games and averageing at least 15 minutes per game last season."
   ]
  },
  {
   "cell_type": "code",
   "execution_count": null,
   "metadata": {},
   "outputs": [],
   "source": [
    "#your code here"
   ]
  },
  {
   "cell_type": "markdown",
   "metadata": {},
   "source": [
    "## 11: \n",
    "Which player scored the largest share of points for their team throughout the season."
   ]
  },
  {
   "cell_type": "code",
   "execution_count": null,
   "metadata": {},
   "outputs": [],
   "source": [
    "#your code here"
   ]
  },
  {
   "cell_type": "markdown",
   "metadata": {},
   "source": [
    "## 12:\n",
    "\n",
    "What is the probability that a randomly selected player had at least one game in which they scored 40 points last season. "
   ]
  },
  {
   "cell_type": "code",
   "execution_count": null,
   "metadata": {},
   "outputs": [],
   "source": [
    "# your code here"
   ]
  },
  {
   "cell_type": "markdown",
   "metadata": {},
   "source": [
    "## 13: \n",
    "\n",
    "A double-double is when a player records for any of the two follow categories: points, rebounds, assists, steals, or blocks. \n",
    "What is the probability that a randomly selected player had a double-double in a game last season?\n"
   ]
  },
  {
   "cell_type": "code",
   "execution_count": null,
   "metadata": {},
   "outputs": [],
   "source": [
    "#your code here"
   ]
  },
  {
   "cell_type": "markdown",
   "metadata": {},
   "source": [
    "## 14:\n",
    "\n",
    "What is the probability that a randomnly selected game had a player record a triple-double in that game?"
   ]
  },
  {
   "cell_type": "code",
   "execution_count": null,
   "metadata": {},
   "outputs": [],
   "source": [
    "#your code here"
   ]
  }
 ],
 "metadata": {
  "kernelspec": {
   "display_name": "Python 3",
   "language": "python",
   "name": "python3"
  },
  "language_info": {
   "codemirror_mode": {
    "name": "ipython",
    "version": 3
   },
   "file_extension": ".py",
   "mimetype": "text/x-python",
   "name": "python",
   "nbconvert_exporter": "python",
   "pygments_lexer": "ipython3",
   "version": "3.7.6"
  }
 },
 "nbformat": 4,
 "nbformat_minor": 2
}
