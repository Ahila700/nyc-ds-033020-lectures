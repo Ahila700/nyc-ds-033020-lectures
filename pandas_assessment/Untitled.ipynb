{
 "cells": [
  {
   "cell_type": "code",
   "execution_count": 1,
   "metadata": {},
   "outputs": [
    {
     "name": "stdout",
     "output_type": "stream",
     "text": [
      "Requirement already satisfied: nba_api in /anaconda3/lib/python3.7/site-packages (1.1.4)\n",
      "Requirement already satisfied: requests in /anaconda3/lib/python3.7/site-packages (from nba_api) (2.21.0)\n",
      "Requirement already satisfied: idna<2.9,>=2.5 in /anaconda3/lib/python3.7/site-packages (from requests->nba_api) (2.8)\n",
      "Requirement already satisfied: chardet<3.1.0,>=3.0.2 in /anaconda3/lib/python3.7/site-packages (from requests->nba_api) (3.0.4)\n",
      "Requirement already satisfied: urllib3<1.25,>=1.21.1 in /anaconda3/lib/python3.7/site-packages (from requests->nba_api) (1.24.1)\n",
      "Requirement already satisfied: certifi>=2017.4.17 in /anaconda3/lib/python3.7/site-packages (from requests->nba_api) (2019.3.9)\n"
     ]
    }
   ],
   "source": [
    "! pip install nba_api"
   ]
  },
  {
   "cell_type": "code",
   "execution_count": 2,
   "metadata": {},
   "outputs": [],
   "source": [
    "from nba_api.stats.static import teams, players\n",
    "from nba_api.stats.endpoints import commonplayerinfo, playergamelog\n",
    "import time\n",
    "import json"
   ]
  },
  {
   "cell_type": "code",
   "execution_count": 3,
   "metadata": {},
   "outputs": [],
   "source": [
    "teams_dict = teams.get_teams()\n",
    "active_players = players.get_active_players()"
   ]
  },
  {
   "cell_type": "code",
   "execution_count": 4,
   "metadata": {},
   "outputs": [],
   "source": [
    "team_to_id = {}\n",
    "for team in teams_dict:\n",
    "    team_to_id[team['abbreviation']]=team['id']"
   ]
  },
  {
   "cell_type": "code",
   "execution_count": null,
   "metadata": {},
   "outputs": [],
   "source": []
  },
  {
   "cell_type": "code",
   "execution_count": 9,
   "metadata": {},
   "outputs": [
    {
     "ename": "IndexError",
     "evalue": "list index out of range",
     "output_type": "error",
     "traceback": [
      "\u001b[0;31m---------------------------------------------------------------------------\u001b[0m",
      "\u001b[0;31mIndexError\u001b[0m                                Traceback (most recent call last)",
      "\u001b[0;32m<ipython-input-9-cfef6a814bea>\u001b[0m in \u001b[0;36m<module>\u001b[0;34m\u001b[0m\n\u001b[1;32m      4\u001b[0m     \u001b[0mplayer_info\u001b[0m \u001b[0;34m=\u001b[0m \u001b[0mcommonplayerinfo\u001b[0m\u001b[0;34m.\u001b[0m\u001b[0mCommonPlayerInfo\u001b[0m\u001b[0;34m(\u001b[0m\u001b[0mplayer\u001b[0m\u001b[0;34m[\u001b[0m\u001b[0;34m'id'\u001b[0m\u001b[0;34m]\u001b[0m\u001b[0;34m)\u001b[0m\u001b[0;34m.\u001b[0m\u001b[0mget_normalized_dict\u001b[0m\u001b[0;34m(\u001b[0m\u001b[0;34m)\u001b[0m\u001b[0;34m\u001b[0m\u001b[0;34m\u001b[0m\u001b[0m\n\u001b[1;32m      5\u001b[0m     \u001b[0mnew_player_dict\u001b[0m \u001b[0;34m=\u001b[0m \u001b[0mplayer_info\u001b[0m\u001b[0;34m[\u001b[0m\u001b[0;34m'CommonPlayerInfo'\u001b[0m\u001b[0;34m]\u001b[0m\u001b[0;34m[\u001b[0m\u001b[0;36m0\u001b[0m\u001b[0;34m]\u001b[0m\u001b[0;34m\u001b[0m\u001b[0;34m\u001b[0m\u001b[0m\n\u001b[0;32m----> 6\u001b[0;31m     \u001b[0mcareer_stats\u001b[0m \u001b[0;34m=\u001b[0m \u001b[0mplayer_info\u001b[0m\u001b[0;34m[\u001b[0m\u001b[0;34m'PlayerHeadlineStats'\u001b[0m\u001b[0;34m]\u001b[0m\u001b[0;34m[\u001b[0m\u001b[0;36m0\u001b[0m\u001b[0;34m]\u001b[0m\u001b[0;34m\u001b[0m\u001b[0;34m\u001b[0m\u001b[0m\n\u001b[0m\u001b[1;32m      7\u001b[0m     \u001b[0;32mdel\u001b[0m \u001b[0mcareer_stats\u001b[0m\u001b[0;34m[\u001b[0m\u001b[0;34m'PLAYER_ID'\u001b[0m\u001b[0;34m]\u001b[0m\u001b[0;34m\u001b[0m\u001b[0;34m\u001b[0m\u001b[0m\n\u001b[1;32m      8\u001b[0m     \u001b[0;32mdel\u001b[0m \u001b[0mcareer_stats\u001b[0m\u001b[0;34m[\u001b[0m\u001b[0;34m'PLAYER_NAME'\u001b[0m\u001b[0;34m]\u001b[0m\u001b[0;34m\u001b[0m\u001b[0;34m\u001b[0m\u001b[0m\n",
      "\u001b[0;31mIndexError\u001b[0m: list index out of range"
     ]
    }
   ],
   "source": [
    "all_player_info=[]\n",
    "\n",
    "for player in active_players:\n",
    "    player_info = commonplayerinfo.CommonPlayerInfo(player['id']).get_normalized_dict()\n",
    "    new_player_dict = player_info['CommonPlayerInfo'][0]\n",
    "    career_stats = player_info['PlayerHeadlineStats'][0]\n",
    "    del career_stats['PLAYER_ID']\n",
    "    del career_stats['PLAYER_NAME']\n",
    "    del career_stats['TimeFrame']\n",
    "    new_player_dict['CAREER_STATS']= career_stats\n",
    "    player_games = playergamelog.PlayerGameLog(player['id']).get_normalized_dict()\n",
    "    \n",
    "    for game in player_games['PlayerGameLog']:\n",
    "        game['TEAM_ABR']= game['MATCHUP'][:3]\n",
    "        game['TEAM_ID']= team_to_id[game['MATCHUP'][:3]]\n",
    "\n",
    "    new_player_dict['GAMELOG']= player_games['PlayerGameLog']\n",
    "    all_player_info.append(new_player_dict)\n",
    "    time.sleep(1)\n",
    "\n",
    "with open('player_data.json', 'w', encoding='utf-8') as file:\n",
    "    json.dump(all_player_info, file, ensure_ascii=False, indent=4)\n",
    "    \n"
   ]
  },
  {
   "cell_type": "code",
   "execution_count": 8,
   "metadata": {
    "collapsed": true
   },
   "outputs": [
    {
     "data": {
      "text/plain": [
       "{'id': 203518,\n",
       " 'full_name': 'Alex Abrines',\n",
       " 'first_name': 'Alex',\n",
       " 'last_name': 'Abrines',\n",
       " 'is_active': True}"
      ]
     },
     "execution_count": 8,
     "metadata": {},
     "output_type": "execute_result"
    }
   ],
   "source": [
    "player"
   ]
  },
  {
   "cell_type": "code",
   "execution_count": 11,
   "metadata": {},
   "outputs": [
    {
     "data": {
      "text/plain": [
       "49"
      ]
     },
     "execution_count": 11,
     "metadata": {},
     "output_type": "execute_result"
    }
   ],
   "source": [
    "len(all_player_info)"
   ]
  },
  {
   "cell_type": "code",
   "execution_count": 12,
   "metadata": {},
   "outputs": [
    {
     "data": {
      "text/plain": [
       "{'id': 1629167,\n",
       " 'full_name': 'Justin Bibbs',\n",
       " 'first_name': 'Justin',\n",
       " 'last_name': 'Bibbs',\n",
       " 'is_active': True}"
      ]
     },
     "execution_count": 12,
     "metadata": {},
     "output_type": "execute_result"
    }
   ],
   "source": [
    "active_players[49]"
   ]
  },
  {
   "cell_type": "code",
   "execution_count": 19,
   "metadata": {},
   "outputs": [
    {
     "data": {
      "text/plain": [
       "{'CommonPlayerInfo': [{'PERSON_ID': 1629129,\n",
       "   'FIRST_NAME': 'Trevon',\n",
       "   'LAST_NAME': 'Bluiett',\n",
       "   'DISPLAY_FIRST_LAST': 'Trevon Bluiett',\n",
       "   'DISPLAY_LAST_COMMA_FIRST': 'Bluiett, Trevon',\n",
       "   'DISPLAY_FI_LAST': 'T. Bluiett',\n",
       "   'BIRTHDATE': '1994-11-04T00:00:00',\n",
       "   'SCHOOL': 'Xavier University',\n",
       "   'COUNTRY': 'USA',\n",
       "   'LAST_AFFILIATION': 'Xavier/USA',\n",
       "   'HEIGHT': '6-6',\n",
       "   'WEIGHT': '198',\n",
       "   'SEASON_EXP': 1,\n",
       "   'JERSEY': '5',\n",
       "   'POSITION': 'Guard-Forward',\n",
       "   'ROSTERSTATUS': 'Active',\n",
       "   'TEAM_ID': 1610612740,\n",
       "   'TEAM_NAME': 'Pelicans',\n",
       "   'TEAM_ABBREVIATION': 'NOP',\n",
       "   'TEAM_CODE': 'pelicans',\n",
       "   'TEAM_CITY': 'New Orleans',\n",
       "   'PLAYERCODE': 'trevon_bluiett',\n",
       "   'FROM_YEAR': 2018,\n",
       "   'TO_YEAR': 2018,\n",
       "   'DLEAGUE_FLAG': 'Y',\n",
       "   'NBA_FLAG': 'N',\n",
       "   'GAMES_PLAYED_FLAG': 'Y',\n",
       "   'DRAFT_YEAR': 'Undrafted',\n",
       "   'DRAFT_ROUND': 'Undrafted',\n",
       "   'DRAFT_NUMBER': 'Undrafted'}],\n",
       " 'PlayerHeadlineStats': [],\n",
       " 'AvailableSeasons': [{'SEASON_ID': '12018'}]}"
      ]
     },
     "execution_count": 19,
     "metadata": {},
     "output_type": "execute_result"
    }
   ],
   "source": [
    "commonplayerinfo.CommonPlayerInfo(1629129).get_normalized_dict()"
   ]
  },
  {
   "cell_type": "code",
   "execution_count": 14,
   "metadata": {},
   "outputs": [
    {
     "data": {
      "text/plain": [
       "546"
      ]
     },
     "execution_count": 14,
     "metadata": {},
     "output_type": "execute_result"
    }
   ],
   "source": [
    "len(active_players)"
   ]
  },
  {
   "cell_type": "code",
   "execution_count": 15,
   "metadata": {},
   "outputs": [
    {
     "data": {
      "text/plain": [
       "{'id': 203518,\n",
       " 'full_name': 'Alex Abrines',\n",
       " 'first_name': 'Alex',\n",
       " 'last_name': 'Abrines',\n",
       " 'is_active': True}"
      ]
     },
     "execution_count": 15,
     "metadata": {},
     "output_type": "execute_result"
    }
   ],
   "source": [
    "active_players[0]"
   ]
  },
  {
   "cell_type": "code",
   "execution_count": 18,
   "metadata": {},
   "outputs": [
    {
     "data": {
      "text/plain": [
       "{'PlayerGameLog': []}"
      ]
     },
     "execution_count": 18,
     "metadata": {},
     "output_type": "execute_result"
    }
   ],
   "source": [
    "playergamelog.PlayerGameLog(1629129).get_normalized_dict()"
   ]
  },
  {
   "cell_type": "code",
   "execution_count": null,
   "metadata": {},
   "outputs": [],
   "source": []
  }
 ],
 "metadata": {
  "kernelspec": {
   "display_name": "Python 3",
   "language": "python",
   "name": "python3"
  },
  "language_info": {
   "codemirror_mode": {
    "name": "ipython",
    "version": 3
   },
   "file_extension": ".py",
   "mimetype": "text/x-python",
   "name": "python",
   "nbconvert_exporter": "python",
   "pygments_lexer": "ipython3",
   "version": "3.7.3"
  }
 },
 "nbformat": 4,
 "nbformat_minor": 2
}
