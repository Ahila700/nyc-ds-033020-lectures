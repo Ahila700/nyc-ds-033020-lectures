{
 "cells": [
  {
   "cell_type": "code",
   "execution_count": null,
   "metadata": {},
   "outputs": [],
   "source": [
    "# ! pip install nba_api"
   ]
  },
  {
   "cell_type": "code",
   "execution_count": 1,
   "metadata": {},
   "outputs": [],
   "source": [
    "import json\n",
    "import time\n",
    "import pandas as pd\n",
    "from nba_api.stats.static import players, teams\n",
    "from nba_api.stats.endpoints import commonplayerinfo, playergamelog, teamgamelog"
   ]
  },
  {
   "cell_type": "markdown",
   "metadata": {},
   "source": [
    "```\n",
    "{\n",
    "\n",
    "    \n",
    "}\n",
    "```"
   ]
  },
  {
   "cell_type": "code",
   "execution_count": 2,
   "metadata": {},
   "outputs": [],
   "source": [
    "_teams = teams.get_teams()\n",
    "_players = players.get_active_players()"
   ]
  },
  {
   "cell_type": "code",
   "execution_count": null,
   "metadata": {},
   "outputs": [],
   "source": [
    "result = []\n",
    "FILE_NAME = 'player_data.json'\n",
    "\n",
    "team_name_to_id = {}\n",
    "for team in _teams:\n",
    "    team_name_to_id[team['abbreviation']] = team['id']\n",
    "\n",
    "for player in _players[:2]:\n",
    "    print(f'GETTING PLAYER {player[\"full_name\"]}:{player[\"id\"]}')\n",
    "    p_info = commonplayerinfo.CommonPlayerInfo(player_id=player['id']).get_normalized_dict()\n",
    "\n",
    "    player_info = p_info['CommonPlayerInfo'][0]\n",
    "    \n",
    "    if len(p_info['PlayerHeadlineStats']) == 0:\n",
    "        continue\n",
    "\n",
    "    player_headline_stats = p_info['PlayerHeadlineStats'][0]\n",
    "    del player_headline_stats['PLAYER_ID']\n",
    "    del player_headline_stats['PLAYER_NAME']\n",
    "    del player_headline_stats['TimeFrame']\n",
    "\n",
    "    player_gamelog = playergamelog.PlayerGameLog(player_id=player['id']).get_normalized_dict()['PlayerGameLog']\n",
    "    for game in player_gamelog:\n",
    "        game['TEAM_ABBREVIATION'] = game['MATCHUP'][:3]\n",
    "        game['TEAM_ID'] = team_name_to_id[game['TEAM_ABBREVIATION']]\n",
    "\n",
    "    result.append({ **player_info, 'CAREER_STATS': player_headline_stats, 'GAMELOG': player_gamelog })\n",
    "    time.sleep(0.5)\n",
    "\n",
    "with open(FILE_NAME, 'w', encoding='utf-8') as file:\n",
    "    json.dump(result, file, ensure_ascii=False, indent=4)"
   ]
  },
  {
   "cell_type": "code",
   "execution_count": null,
   "metadata": {},
   "outputs": [],
   "source": [
    "with open('strings.json') as f:\n",
    "    d = json.load(f)\n",
    "    print(d)"
   ]
  },
  {
   "cell_type": "code",
   "execution_count": null,
   "metadata": {
    "scrolled": true
   },
   "outputs": [],
   "source": [
    "df = pd.DataFrame()\n",
    "\n",
    "for person in result:\n",
    "    if len(person['GAMELOG']) == 0:\n",
    "        continue\n",
    "    df1 = pd.DataFrame(person, columns=['DISPLAY_FIRST_LAST', 'PERSON_ID', 'TEAM_ID'], index=[0])\n",
    "    df2 = pd.DataFrame(person['GAMELOG'])\n",
    "    merged = pd.merge(df1, df2, left_on='PERSON_ID', right_on='Player_ID', how='outer')\n",
    "    df = pd.concat([df, merged])\n",
    "    \n",
    "df.reset_index(drop=True, inplace=True)\n",
    "df"
   ]
  },
  {
   "cell_type": "code",
   "execution_count": null,
   "metadata": {},
   "outputs": [],
   "source": [
    "df.columns"
   ]
  },
  {
   "cell_type": "markdown",
   "metadata": {},
   "source": [
    "Find the player who scored the most points in an individual game last season.\n",
    "\n",
    "Now do the same for rebounds, blocks, and assists."
   ]
  },
  {
   "cell_type": "markdown",
   "metadata": {},
   "source": [
    "Which player played the most minutes last season?"
   ]
  },
  {
   "cell_type": "markdown",
   "metadata": {},
   "source": [
    "How many players played in at least 82 games last season?"
   ]
  },
  {
   "cell_type": "markdown",
   "metadata": {},
   "source": [
    "Find the player who scored the most points for the entire season.\n",
    "\n",
    "Now do the same for rebounds, blocks, and assists."
   ]
  },
  {
   "cell_type": "markdown",
   "metadata": {},
   "source": [
    "Find which team scored the most points for the entire season.\n",
    "\n",
    "Now do the same for rebounds, blocks, and assists."
   ]
  },
  {
   "cell_type": "markdown",
   "metadata": {},
   "source": [
    "Which team had the most players play for them last season?"
   ]
  },
  {
   "cell_type": "markdown",
   "metadata": {},
   "source": [
    "Did any players play for more than one team last year?\n",
    "\n",
    "Which player(s) played for the most teams last season?"
   ]
  },
  {
   "cell_type": "markdown",
   "metadata": {},
   "source": [
    "Find the player who scored the least amount of points while playing in at least 40 games last season."
   ]
  },
  {
   "cell_type": "markdown",
   "metadata": {},
   "source": [
    "Find the player who scored the least amount of points while playing in at least 40 games and averageing at least 15 minutes per game last season."
   ]
  },
  {
   "cell_type": "markdown",
   "metadata": {},
   "source": [
    "Which player scored the largest share of points for their team throughout the season."
   ]
  }
 ],
 "metadata": {
  "kernelspec": {
   "display_name": "Python 3",
   "language": "python",
   "name": "python3"
  },
  "language_info": {
   "codemirror_mode": {
    "name": "ipython",
    "version": 3
   },
   "file_extension": ".py",
   "mimetype": "text/x-python",
   "name": "python",
   "nbconvert_exporter": "python",
   "pygments_lexer": "ipython3",
   "version": "3.7.3"
  }
 },
 "nbformat": 4,
 "nbformat_minor": 2
}
