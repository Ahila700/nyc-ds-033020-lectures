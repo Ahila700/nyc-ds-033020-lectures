{
 "cells": [
  {
   "cell_type": "code",
   "execution_count": 25,
   "metadata": {},
   "outputs": [],
   "source": [
    "import json\n",
    "import pandas as pd"
   ]
  },
  {
   "cell_type": "markdown",
   "metadata": {},
   "source": [
    "# Part 1: Reading and investigating data\n",
    "\n",
    "Open up the `player_data.json` and investigate the data structure."
   ]
  },
  {
   "cell_type": "code",
   "execution_count": 26,
   "metadata": {},
   "outputs": [],
   "source": [
    "nba = pd.read_json('player_data.json')\n",
    "\n",
    "column_names = ['DISPLAY_FIRST_LAST', 'PERSON_ID', 'TEAM_ID', 'Game_ID', 'MIN', 'PTS', 'AST', \n",
    "                'REB', 'DREB', 'BLK', 'TEAM_ABBREVIATION']\n",
    "\n",
    "nba_data = pd.DataFrame(columns = column_names)\n",
    "\n",
    "\n",
    "# nba['MIN'] = 0\n",
    "# for index, row in nba.iterrows():\n",
    "#     minutes = 0\n",
    "#     for game in row['GAMELOG']:\n",
    "#         minutes += game['MIN']\n",
    "#     if minutes == 0:\n",
    "#         nba.loc[nba_check['PERSON_ID'] == row['PERSON_ID'], 'MIN'] = 0\n",
    "#     else:\n",
    "#         nba.loc[nba_check['PERSON_ID'] == row['PERSON_ID'], 'MIN'] = round((minutes / len(nba_check['GAMELOG'][index])),3)\n",
    "nba_game_list = []\n",
    "for index, row in nba.iterrows():\n",
    "    for game in row['GAMELOG']:\n",
    "        nba_game = [row['DISPLAY_FIRST_LAST'], row['PERSON_ID'], game['TEAM_ID'], \n",
    "                        game['Game_ID'], game['MIN'], game['PTS'], game['AST'], game['REB'],\n",
    "                        game['DREB'], game['BLK'], game['TEAM_ABBREVIATION']]\n",
    "        zipped = zip(column_names, nba_game)\n",
    "        a_dictionary = dict(zipped)\n",
    "        nba_game_list.append(a_dictionary)\n",
    "        \n",
    "nba_data = nba_data.append(nba_game_list)\n"
   ]
  },
  {
   "cell_type": "markdown",
   "metadata": {},
   "source": [
    "# Part 2:  Creating the Dataframe\n",
    "\n",
    "Create a data frame where each row corresponds to a game for each player. You must have atleast the following columns in your final dataframe:\n",
    "\n",
    "'DISPLAY_FIRST_LAST', 'PERSON_ID', 'TEAM_ID', 'AST', 'BLK', 'DREB','Game_ID',  'MIN', 'PTS', 'REB', 'TEAM_ABBREVIATION'\n",
    "\n",
    "*You can include additional columns in your dataframe, so you don't have to do additional work to remove other columns.*  "
   ]
  },
  {
   "cell_type": "code",
   "execution_count": 27,
   "metadata": {},
   "outputs": [
    {
     "data": {
      "text/html": [
       "<div>\n",
       "<style scoped>\n",
       "    .dataframe tbody tr th:only-of-type {\n",
       "        vertical-align: middle;\n",
       "    }\n",
       "\n",
       "    .dataframe tbody tr th {\n",
       "        vertical-align: top;\n",
       "    }\n",
       "\n",
       "    .dataframe thead th {\n",
       "        text-align: right;\n",
       "    }\n",
       "</style>\n",
       "<table border=\"1\" class=\"dataframe\">\n",
       "  <thead>\n",
       "    <tr style=\"text-align: right;\">\n",
       "      <th></th>\n",
       "      <th>DISPLAY_FIRST_LAST</th>\n",
       "      <th>PERSON_ID</th>\n",
       "      <th>TEAM_ID</th>\n",
       "      <th>Game_ID</th>\n",
       "      <th>MIN</th>\n",
       "      <th>PTS</th>\n",
       "      <th>AST</th>\n",
       "      <th>REB</th>\n",
       "      <th>DREB</th>\n",
       "      <th>BLK</th>\n",
       "      <th>TEAM_ABBREVIATION</th>\n",
       "    </tr>\n",
       "  </thead>\n",
       "  <tbody>\n",
       "    <tr>\n",
       "      <th>0</th>\n",
       "      <td>Alex Abrines</td>\n",
       "      <td>203518</td>\n",
       "      <td>1610612760</td>\n",
       "      <td>0021800772</td>\n",
       "      <td>9</td>\n",
       "      <td>0</td>\n",
       "      <td>0</td>\n",
       "      <td>0</td>\n",
       "      <td>0</td>\n",
       "      <td>0</td>\n",
       "      <td>OKC</td>\n",
       "    </tr>\n",
       "    <tr>\n",
       "      <th>1</th>\n",
       "      <td>Alex Abrines</td>\n",
       "      <td>203518</td>\n",
       "      <td>1610612760</td>\n",
       "      <td>0021800751</td>\n",
       "      <td>6</td>\n",
       "      <td>3</td>\n",
       "      <td>0</td>\n",
       "      <td>1</td>\n",
       "      <td>1</td>\n",
       "      <td>0</td>\n",
       "      <td>OKC</td>\n",
       "    </tr>\n",
       "    <tr>\n",
       "      <th>2</th>\n",
       "      <td>Alex Abrines</td>\n",
       "      <td>203518</td>\n",
       "      <td>1610612760</td>\n",
       "      <td>0021800493</td>\n",
       "      <td>27</td>\n",
       "      <td>7</td>\n",
       "      <td>0</td>\n",
       "      <td>1</td>\n",
       "      <td>1</td>\n",
       "      <td>2</td>\n",
       "      <td>OKC</td>\n",
       "    </tr>\n",
       "    <tr>\n",
       "      <th>3</th>\n",
       "      <td>Alex Abrines</td>\n",
       "      <td>203518</td>\n",
       "      <td>1610612760</td>\n",
       "      <td>0021800485</td>\n",
       "      <td>16</td>\n",
       "      <td>6</td>\n",
       "      <td>0</td>\n",
       "      <td>1</td>\n",
       "      <td>1</td>\n",
       "      <td>0</td>\n",
       "      <td>OKC</td>\n",
       "    </tr>\n",
       "    <tr>\n",
       "      <th>4</th>\n",
       "      <td>Alex Abrines</td>\n",
       "      <td>203518</td>\n",
       "      <td>1610612760</td>\n",
       "      <td>0021800466</td>\n",
       "      <td>23</td>\n",
       "      <td>9</td>\n",
       "      <td>1</td>\n",
       "      <td>1</td>\n",
       "      <td>1</td>\n",
       "      <td>0</td>\n",
       "      <td>OKC</td>\n",
       "    </tr>\n",
       "    <tr>\n",
       "      <th>...</th>\n",
       "      <td>...</td>\n",
       "      <td>...</td>\n",
       "      <td>...</td>\n",
       "      <td>...</td>\n",
       "      <td>...</td>\n",
       "      <td>...</td>\n",
       "      <td>...</td>\n",
       "      <td>...</td>\n",
       "      <td>...</td>\n",
       "      <td>...</td>\n",
       "      <td>...</td>\n",
       "    </tr>\n",
       "    <tr>\n",
       "      <th>26096</th>\n",
       "      <td>Ivica Zubac</td>\n",
       "      <td>1627826</td>\n",
       "      <td>1610612747</td>\n",
       "      <td>0021800183</td>\n",
       "      <td>2</td>\n",
       "      <td>0</td>\n",
       "      <td>0</td>\n",
       "      <td>2</td>\n",
       "      <td>1</td>\n",
       "      <td>0</td>\n",
       "      <td>LAL</td>\n",
       "    </tr>\n",
       "    <tr>\n",
       "      <th>26097</th>\n",
       "      <td>Ivica Zubac</td>\n",
       "      <td>1627826</td>\n",
       "      <td>1610612747</td>\n",
       "      <td>0021800139</td>\n",
       "      <td>11</td>\n",
       "      <td>5</td>\n",
       "      <td>1</td>\n",
       "      <td>6</td>\n",
       "      <td>4</td>\n",
       "      <td>0</td>\n",
       "      <td>LAL</td>\n",
       "    </tr>\n",
       "    <tr>\n",
       "      <th>26098</th>\n",
       "      <td>Ivica Zubac</td>\n",
       "      <td>1627826</td>\n",
       "      <td>1610612747</td>\n",
       "      <td>0021800132</td>\n",
       "      <td>20</td>\n",
       "      <td>9</td>\n",
       "      <td>0</td>\n",
       "      <td>8</td>\n",
       "      <td>4</td>\n",
       "      <td>0</td>\n",
       "      <td>LAL</td>\n",
       "    </tr>\n",
       "    <tr>\n",
       "      <th>26099</th>\n",
       "      <td>Ivica Zubac</td>\n",
       "      <td>1627826</td>\n",
       "      <td>1610612747</td>\n",
       "      <td>0021800060</td>\n",
       "      <td>2</td>\n",
       "      <td>0</td>\n",
       "      <td>1</td>\n",
       "      <td>2</td>\n",
       "      <td>1</td>\n",
       "      <td>0</td>\n",
       "      <td>LAL</td>\n",
       "    </tr>\n",
       "    <tr>\n",
       "      <th>26100</th>\n",
       "      <td>Ivica Zubac</td>\n",
       "      <td>1627826</td>\n",
       "      <td>1610612747</td>\n",
       "      <td>0021800048</td>\n",
       "      <td>5</td>\n",
       "      <td>0</td>\n",
       "      <td>0</td>\n",
       "      <td>1</td>\n",
       "      <td>0</td>\n",
       "      <td>1</td>\n",
       "      <td>LAL</td>\n",
       "    </tr>\n",
       "  </tbody>\n",
       "</table>\n",
       "<p>26101 rows × 11 columns</p>\n",
       "</div>"
      ],
      "text/plain": [
       "      DISPLAY_FIRST_LAST PERSON_ID     TEAM_ID     Game_ID MIN PTS AST REB  \\\n",
       "0           Alex Abrines    203518  1610612760  0021800772   9   0   0   0   \n",
       "1           Alex Abrines    203518  1610612760  0021800751   6   3   0   1   \n",
       "2           Alex Abrines    203518  1610612760  0021800493  27   7   0   1   \n",
       "3           Alex Abrines    203518  1610612760  0021800485  16   6   0   1   \n",
       "4           Alex Abrines    203518  1610612760  0021800466  23   9   1   1   \n",
       "...                  ...       ...         ...         ...  ..  ..  ..  ..   \n",
       "26096        Ivica Zubac   1627826  1610612747  0021800183   2   0   0   2   \n",
       "26097        Ivica Zubac   1627826  1610612747  0021800139  11   5   1   6   \n",
       "26098        Ivica Zubac   1627826  1610612747  0021800132  20   9   0   8   \n",
       "26099        Ivica Zubac   1627826  1610612747  0021800060   2   0   1   2   \n",
       "26100        Ivica Zubac   1627826  1610612747  0021800048   5   0   0   1   \n",
       "\n",
       "      DREB BLK TEAM_ABBREVIATION  \n",
       "0        0   0               OKC  \n",
       "1        1   0               OKC  \n",
       "2        1   2               OKC  \n",
       "3        1   0               OKC  \n",
       "4        1   0               OKC  \n",
       "...    ...  ..               ...  \n",
       "26096    1   0               LAL  \n",
       "26097    4   0               LAL  \n",
       "26098    4   0               LAL  \n",
       "26099    1   0               LAL  \n",
       "26100    0   1               LAL  \n",
       "\n",
       "[26101 rows x 11 columns]"
      ]
     },
     "execution_count": 27,
     "metadata": {},
     "output_type": "execute_result"
    }
   ],
   "source": [
    "nba_data"
   ]
  },
  {
   "cell_type": "markdown",
   "metadata": {},
   "source": [
    "# Part 3: Pandas Questions\n",
    "\n",
    "Answer the following questions"
   ]
  },
  {
   "cell_type": "markdown",
   "metadata": {},
   "source": [
    "## 1 \n",
    "- Find the player who scored the most points in an individual game last season.\n",
    "\n",
    "-  Now do the same for rebounds, blocks, and assists."
   ]
  },
  {
   "cell_type": "code",
   "execution_count": 28,
   "metadata": {},
   "outputs": [
    {
     "name": "stdout",
     "output_type": "stream",
     "text": [
      "      DISPLAY_FIRST_LAST PERSON_ID     TEAM_ID     Game_ID MIN PTS AST REB  \\\n",
      "10323       James Harden    201935  1610612745  0021801084  37  61   1   7   \n",
      "10348       James Harden    201935  1610612745  0021800710  40  61   4  15   \n",
      "\n",
      "      DREB BLK TEAM_ABBREVIATION  \n",
      "10323    5   0               HOU  \n",
      "10348    9   0               HOU  \n",
      "       DISPLAY_FIRST_LAST PERSON_ID     TEAM_ID     Game_ID MIN PTS AST REB  \\\n",
      "23773  Karl-Anthony Towns   1626157  1610612750  0021800633  37  27   3  27   \n",
      "\n",
      "      DREB BLK TEAM_ABBREVIATION  \n",
      "23773   18   4               MIN  \n",
      "      DISPLAY_FIRST_LAST PERSON_ID     TEAM_ID     Game_ID MIN PTS AST REB  \\\n",
      "21109  Mitchell Robinson   1629011  1610612752  0021800186  22   4   0   4   \n",
      "25135   Hassan Whiteside    202355  1610612748  0021800156  32  29   2  20   \n",
      "\n",
      "      DREB BLK TEAM_ABBREVIATION  \n",
      "21109    4   9               NYK  \n",
      "25135   14   9               MIA  \n",
      "      DISPLAY_FIRST_LAST PERSON_ID     TEAM_ID     Game_ID MIN PTS AST REB  \\\n",
      "24969  Russell Westbrook    201566  1610612760  0021800619  50  24  24  13   \n",
      "\n",
      "      DREB BLK TEAM_ABBREVIATION  \n",
      "24969   11   0               OKC  \n"
     ]
    }
   ],
   "source": [
    "# nba_data.loc(nba_data['PTS'].max())\n",
    "\n",
    "print(nba_data.loc[nba_data['PTS'] == nba_data['PTS'].max()])\n",
    "print(nba_data.loc[nba_data['REB'] == nba_data['REB'].max()])\n",
    "print(nba_data.loc[nba_data['BLK'] == nba_data['BLK'].max()])\n",
    "print(nba_data.loc[nba_data['AST'] == nba_data['AST'].max()])"
   ]
  },
  {
   "cell_type": "markdown",
   "metadata": {},
   "source": [
    "## 2: \n",
    "\n",
    "- Find the player who scored the most points for the entire season.\n",
    "\n",
    "- Now do the same for rebounds, blocks, and assists."
   ]
  },
  {
   "cell_type": "code",
   "execution_count": 29,
   "metadata": {},
   "outputs": [
    {
     "name": "stdout",
     "output_type": "stream",
     "text": [
      "                    PERSON_ID       TEAM_ID  \\\n",
      "DISPLAY_FIRST_LAST                            \n",
      "James Harden         15750930  125627794110   \n",
      "\n",
      "                                                              Game_ID   MIN  \\\n",
      "DISPLAY_FIRST_LAST                                                            \n",
      "James Harden        0021801218002180120000218011840021801176002180...  2870   \n",
      "\n",
      "                     PTS  AST  REB  DREB  BLK  \\\n",
      "DISPLAY_FIRST_LAST                              \n",
      "James Harden        2818  586  518   452   58   \n",
      "\n",
      "                                                    TEAM_ABBREVIATION  \n",
      "DISPLAY_FIRST_LAST                                                     \n",
      "James Harden        HOUHOUHOUHOUHOUHOUHOUHOUHOUHOUHOUHOUHOUHOUHOUH...  \n",
      "                    PERSON_ID       TEAM_ID  \\\n",
      "DISPLAY_FIRST_LAST                            \n",
      "Andre Drummond       16043557  127238408435   \n",
      "\n",
      "                                                              Game_ID   MIN  \\\n",
      "DISPLAY_FIRST_LAST                                                            \n",
      "Andre Drummond      0021801223002180121000218011980021801186002180...  2646   \n",
      "\n",
      "                     PTS  AST   REB  DREB  BLK  \\\n",
      "DISPLAY_FIRST_LAST                               \n",
      "Andre Drummond      1370  112  1232   809  138   \n",
      "\n",
      "                                                    TEAM_ABBREVIATION  \n",
      "DISPLAY_FIRST_LAST                                                     \n",
      "Andre Drummond      DETDETDETDETDETDETDETDETDETDETDETDETDETDETDETD...  \n",
      "                    PERSON_ID       TEAM_ID  \\\n",
      "DISPLAY_FIRST_LAST                            \n",
      "Myles Turner        120336358  119185343796   \n",
      "\n",
      "                                                              Game_ID   MIN  \\\n",
      "DISPLAY_FIRST_LAST                                                            \n",
      "Myles Turner        0021801199002180118300218011650021801152002180...  2119   \n",
      "\n",
      "                    PTS  AST  REB  DREB  BLK  \\\n",
      "DISPLAY_FIRST_LAST                             \n",
      "Myles Turner        984  115  531   430  199   \n",
      "\n",
      "                                                    TEAM_ABBREVIATION  \n",
      "DISPLAY_FIRST_LAST                                                     \n",
      "Myles Turner        INDINDINDINDINDINDINDINDINDINDINDINDINDINDINDI...  \n",
      "                    PERSON_ID       TEAM_ID  \\\n",
      "DISPLAY_FIRST_LAST                            \n",
      "Russell Westbrook    14714318  117574731480   \n",
      "\n",
      "                                                              Game_ID   MIN  \\\n",
      "DISPLAY_FIRST_LAST                                                            \n",
      "Russell Westbrook   0021801226002180121800218011970021801186002180...  2634   \n",
      "\n",
      "                     PTS  AST  REB  DREB  BLK  \\\n",
      "DISPLAY_FIRST_LAST                              \n",
      "Russell Westbrook   1675  784  807   698   33   \n",
      "\n",
      "                                                    TEAM_ABBREVIATION  \n",
      "DISPLAY_FIRST_LAST                                                     \n",
      "Russell Westbrook   OKCOKCOKCOKCOKCOKCOKCOKCOKCOKCOKCOKCOKCOKCOKCO...  \n"
     ]
    }
   ],
   "source": [
    "nba_sums = nba_data.groupby(['DISPLAY_FIRST_LAST']).sum()\n",
    "print(nba_sums.loc[nba_sums['PTS'] == nba_sums['PTS'].max()])\n",
    "print(nba_sums.loc[nba_sums['REB'] == nba_sums['REB'].max()])\n",
    "print(nba_sums.loc[nba_sums['BLK'] == nba_sums['BLK'].max()])\n",
    "print(nba_sums.loc[nba_sums['AST'] == nba_sums['AST'].max()])"
   ]
  },
  {
   "cell_type": "markdown",
   "metadata": {},
   "source": [
    "## 3:\n",
    "How many players played in at least 82 games last season?"
   ]
  },
  {
   "cell_type": "code",
   "execution_count": 30,
   "metadata": {},
   "outputs": [
    {
     "data": {
      "text/plain": [
       "21"
      ]
     },
     "execution_count": 30,
     "metadata": {},
     "output_type": "execute_result"
    }
   ],
   "source": [
    "num_games = nba_data.groupby(['DISPLAY_FIRST_LAST']).count()\n",
    "(num_games['PERSON_ID'].loc[num_games['PERSON_ID'] == 82]).count()"
   ]
  },
  {
   "cell_type": "markdown",
   "metadata": {},
   "source": [
    "## 4: \n",
    "- Find which team scored the most points for the entire season.\n",
    "\n",
    "- Now do the same for rebounds, blocks, and assists."
   ]
  },
  {
   "cell_type": "code",
   "execution_count": 31,
   "metadata": {},
   "outputs": [
    {
     "name": "stdout",
     "output_type": "stream",
     "text": [
      "MIL\n",
      "MIL\n",
      "GSW\n",
      "GSW\n"
     ]
    }
   ],
   "source": [
    "team_total = nba_data.groupby(['TEAM_ABBREVIATION']).sum()\n",
    "print(team_total.loc[team_total['PTS'] == team_total['PTS'].max()].reset_index()['TEAM_ABBREVIATION'][0])\n",
    "print(team_total.loc[team_total['REB'] == team_total['REB'].max()].reset_index()['TEAM_ABBREVIATION'][0])\n",
    "print(team_total.loc[team_total['BLK'] == team_total['BLK'].max()].reset_index()['TEAM_ABBREVIATION'][0])\n",
    "print(team_total.loc[team_total['AST'] == team_total['AST'].max()].reset_index()['TEAM_ABBREVIATION'][0])"
   ]
  },
  {
   "cell_type": "markdown",
   "metadata": {},
   "source": [
    "## 5:\n",
    "Which team had the most players play for them last season?"
   ]
  },
  {
   "cell_type": "code",
   "execution_count": 32,
   "metadata": {},
   "outputs": [
    {
     "data": {
      "text/plain": [
       "'LAC'"
      ]
     },
     "execution_count": 32,
     "metadata": {},
     "output_type": "execute_result"
    }
   ],
   "source": [
    "total_players = nba_data.groupby(['TEAM_ABBREVIATION'])\n",
    "\n",
    "count_players = total_players['DISPLAY_FIRST_LAST'].count()\n",
    "\n",
    "count_players[count_players == count_players.max()].reset_index()['TEAM_ABBREVIATION'][0]"
   ]
  },
  {
   "cell_type": "markdown",
   "metadata": {},
   "source": [
    "## 6:\n",
    "- Did any players play for more than one team last year?\n",
    "\n",
    "- What is the most number of teams a player played for last season?"
   ]
  },
  {
   "cell_type": "markdown",
   "metadata": {},
   "source": [
    "## 7:\n",
    "\n",
    "Find the player who scored the least amount of points while playing in at least 40 games last season."
   ]
  },
  {
   "cell_type": "code",
   "execution_count": 45,
   "metadata": {},
   "outputs": [
    {
     "data": {
      "text/html": [
       "<div>\n",
       "<style scoped>\n",
       "    .dataframe tbody tr th:only-of-type {\n",
       "        vertical-align: middle;\n",
       "    }\n",
       "\n",
       "    .dataframe tbody tr th {\n",
       "        vertical-align: top;\n",
       "    }\n",
       "\n",
       "    .dataframe thead th {\n",
       "        text-align: right;\n",
       "    }\n",
       "</style>\n",
       "<table border=\"1\" class=\"dataframe\">\n",
       "  <thead>\n",
       "    <tr style=\"text-align: right;\">\n",
       "      <th></th>\n",
       "      <th>PERSON_ID</th>\n",
       "      <th>TEAM_ID</th>\n",
       "      <th>Game_ID</th>\n",
       "      <th>MIN</th>\n",
       "      <th>PTS</th>\n",
       "      <th>AST</th>\n",
       "      <th>REB</th>\n",
       "      <th>DREB</th>\n",
       "      <th>BLK</th>\n",
       "      <th>TEAM_ABBREVIATION</th>\n",
       "      <th>Games_Played</th>\n",
       "    </tr>\n",
       "    <tr>\n",
       "      <th>DISPLAY_FIRST_LAST</th>\n",
       "      <th></th>\n",
       "      <th></th>\n",
       "      <th></th>\n",
       "      <th></th>\n",
       "      <th></th>\n",
       "      <th></th>\n",
       "      <th></th>\n",
       "      <th></th>\n",
       "      <th></th>\n",
       "      <th></th>\n",
       "      <th></th>\n",
       "    </tr>\n",
       "  </thead>\n",
       "  <tbody>\n",
       "    <tr>\n",
       "      <th>Sindarius Thornwell</th>\n",
       "      <td>104218496</td>\n",
       "      <td>103079215744</td>\n",
       "      <td>0021801229002180120500218011920021801176002180...</td>\n",
       "      <td>318</td>\n",
       "      <td>62</td>\n",
       "      <td>18</td>\n",
       "      <td>44</td>\n",
       "      <td>39</td>\n",
       "      <td>7</td>\n",
       "      <td>LACLACLACLACLACLACLACLACLACLACLACLACLACLACLACL...</td>\n",
       "      <td>64.0</td>\n",
       "    </tr>\n",
       "  </tbody>\n",
       "</table>\n",
       "</div>"
      ],
      "text/plain": [
       "                     PERSON_ID       TEAM_ID  \\\n",
       "DISPLAY_FIRST_LAST                             \n",
       "Sindarius Thornwell  104218496  103079215744   \n",
       "\n",
       "                                                               Game_ID  MIN  \\\n",
       "DISPLAY_FIRST_LAST                                                            \n",
       "Sindarius Thornwell  0021801229002180120500218011920021801176002180...  318   \n",
       "\n",
       "                     PTS  AST  REB  DREB  BLK  \\\n",
       "DISPLAY_FIRST_LAST                              \n",
       "Sindarius Thornwell   62   18   44    39    7   \n",
       "\n",
       "                                                     TEAM_ABBREVIATION  \\\n",
       "DISPLAY_FIRST_LAST                                                       \n",
       "Sindarius Thornwell  LACLACLACLACLACLACLACLACLACLACLACLACLACLACLACL...   \n",
       "\n",
       "                     Games_Played  \n",
       "DISPLAY_FIRST_LAST                 \n",
       "Sindarius Thornwell          64.0  "
      ]
     },
     "execution_count": 45,
     "metadata": {},
     "output_type": "execute_result"
    }
   ],
   "source": [
    "x = nba_data.groupby('DISPLAY_FIRST_LAST').sum()\n",
    "x['Games_Played'] = [len(x)/3 for x in x['TEAM_ABBREVIATION']]\n",
    "x.loc[x['Games_Played'] >= 40].sort_values('PTS').head(1)"
   ]
  },
  {
   "cell_type": "markdown",
   "metadata": {},
   "source": [
    "# Part 4: Pandas and Probability"
   ]
  },
  {
   "cell_type": "markdown",
   "metadata": {},
   "source": [
    "## 8: \n",
    "\n",
    "What is the probability that a random player had a game where they scored more than 40 points?"
   ]
  },
  {
   "cell_type": "code",
   "execution_count": 31,
   "metadata": {},
   "outputs": [
    {
     "data": {
      "text/plain": [
       "0.4214397915788667"
      ]
     },
     "execution_count": 31,
     "metadata": {},
     "output_type": "execute_result"
    }
   ],
   "source": [
    "probability = (nba_data.loc[nba_data['PTS'] > 40].count()[0] / nba_data.count()[0]) * 100\n",
    "probability"
   ]
  },
  {
   "cell_type": "markdown",
   "metadata": {},
   "source": [
    "## 9:\n",
    "\n",
    "What is the probability that a randomly selected player from last season would average more than 20 points per game?"
   ]
  },
  {
   "cell_type": "code",
   "execution_count": 56,
   "metadata": {},
   "outputs": [
    {
     "data": {
      "text/plain": [
       "6.226415094339623"
      ]
     },
     "execution_count": 56,
     "metadata": {},
     "output_type": "execute_result"
    }
   ],
   "source": [
    "x['avg_pts'] = [(x['PTS'][i] / x['Games_Played'][i]) for i in range(len(x['Games_Played']))]\n",
    "(len(x.loc[x['avg_pts'] > 20.0]) / len(x)) * 100"
   ]
  },
  {
   "cell_type": "markdown",
   "metadata": {},
   "source": [
    "# Advanced Questions"
   ]
  },
  {
   "cell_type": "markdown",
   "metadata": {},
   "source": [
    "## 10: \n",
    "Find the player who scored the least amount of points while playing in at least 40 games and averageing at least 15 minutes per game last season."
   ]
  },
  {
   "cell_type": "code",
   "execution_count": 69,
   "metadata": {},
   "outputs": [
    {
     "data": {
      "text/html": [
       "<div>\n",
       "<style scoped>\n",
       "    .dataframe tbody tr th:only-of-type {\n",
       "        vertical-align: middle;\n",
       "    }\n",
       "\n",
       "    .dataframe tbody tr th {\n",
       "        vertical-align: top;\n",
       "    }\n",
       "\n",
       "    .dataframe thead th {\n",
       "        text-align: right;\n",
       "    }\n",
       "</style>\n",
       "<table border=\"1\" class=\"dataframe\">\n",
       "  <thead>\n",
       "    <tr style=\"text-align: right;\">\n",
       "      <th></th>\n",
       "      <th>PERSON_ID</th>\n",
       "      <th>TEAM_ID</th>\n",
       "      <th>Game_ID</th>\n",
       "      <th>MIN</th>\n",
       "      <th>PTS</th>\n",
       "      <th>AST</th>\n",
       "      <th>REB</th>\n",
       "      <th>DREB</th>\n",
       "      <th>BLK</th>\n",
       "      <th>TEAM_ABBREVIATION</th>\n",
       "      <th>Games_Played</th>\n",
       "      <th>avg_pts</th>\n",
       "      <th>mpg</th>\n",
       "    </tr>\n",
       "    <tr>\n",
       "      <th>DISPLAY_FIRST_LAST</th>\n",
       "      <th></th>\n",
       "      <th></th>\n",
       "      <th></th>\n",
       "      <th></th>\n",
       "      <th></th>\n",
       "      <th></th>\n",
       "      <th></th>\n",
       "      <th></th>\n",
       "      <th></th>\n",
       "      <th></th>\n",
       "      <th></th>\n",
       "      <th></th>\n",
       "      <th></th>\n",
       "    </tr>\n",
       "  </thead>\n",
       "  <tbody>\n",
       "    <tr>\n",
       "      <th>Tyson Chandler</th>\n",
       "      <td>120945</td>\n",
       "      <td>88583701148</td>\n",
       "      <td>0021801102002180108600218009420021800921002180...</td>\n",
       "      <td>876</td>\n",
       "      <td>173</td>\n",
       "      <td>37</td>\n",
       "      <td>307</td>\n",
       "      <td>215</td>\n",
       "      <td>23</td>\n",
       "      <td>LALLALLALLALLALLALLALLALLALLALLALLALLALLALLALL...</td>\n",
       "      <td>55.0</td>\n",
       "      <td>3.145455</td>\n",
       "      <td>15.927273</td>\n",
       "    </tr>\n",
       "  </tbody>\n",
       "</table>\n",
       "</div>"
      ],
      "text/plain": [
       "                    PERSON_ID      TEAM_ID  \\\n",
       "DISPLAY_FIRST_LAST                           \n",
       "Tyson Chandler         120945  88583701148   \n",
       "\n",
       "                                                              Game_ID  MIN  \\\n",
       "DISPLAY_FIRST_LAST                                                           \n",
       "Tyson Chandler      0021801102002180108600218009420021800921002180...  876   \n",
       "\n",
       "                    PTS  AST  REB  DREB  BLK  \\\n",
       "DISPLAY_FIRST_LAST                             \n",
       "Tyson Chandler      173   37  307   215   23   \n",
       "\n",
       "                                                    TEAM_ABBREVIATION  \\\n",
       "DISPLAY_FIRST_LAST                                                      \n",
       "Tyson Chandler      LALLALLALLALLALLALLALLALLALLALLALLALLALLALLALL...   \n",
       "\n",
       "                    Games_Played   avg_pts        mpg  \n",
       "DISPLAY_FIRST_LAST                                     \n",
       "Tyson Chandler              55.0  3.145455  15.927273  "
      ]
     },
     "execution_count": 69,
     "metadata": {},
     "output_type": "execute_result"
    }
   ],
   "source": [
    "x['mpg'] = [(x['MIN'][i] / x['Games_Played'][i]) for i in range(len(x['Games_Played']))]\n",
    "x.head()\n",
    "y = x.loc[x['mpg'] >= 15.0]\n",
    "y.loc[x['Games_Played'] >= 40].sort_values('PTS').head(1)"
   ]
  },
  {
   "cell_type": "markdown",
   "metadata": {},
   "source": [
    "## 11: \n",
    "Which player scored the largest share of points for their team throughout the season."
   ]
  },
  {
   "cell_type": "code",
   "execution_count": 108,
   "metadata": {},
   "outputs": [
    {
     "data": {
      "text/html": [
       "<div>\n",
       "<style scoped>\n",
       "    .dataframe tbody tr th:only-of-type {\n",
       "        vertical-align: middle;\n",
       "    }\n",
       "\n",
       "    .dataframe tbody tr th {\n",
       "        vertical-align: top;\n",
       "    }\n",
       "\n",
       "    .dataframe thead th {\n",
       "        text-align: right;\n",
       "    }\n",
       "</style>\n",
       "<table border=\"1\" class=\"dataframe\">\n",
       "  <thead>\n",
       "    <tr style=\"text-align: right;\">\n",
       "      <th></th>\n",
       "      <th>PERSON_ID</th>\n",
       "      <th>TEAM_ID</th>\n",
       "      <th>Game_ID</th>\n",
       "      <th>MIN</th>\n",
       "      <th>PTS</th>\n",
       "      <th>AST</th>\n",
       "      <th>REB</th>\n",
       "      <th>DREB</th>\n",
       "      <th>BLK</th>\n",
       "      <th>TEAM_ABBREVIATION</th>\n",
       "      <th>Games_Played</th>\n",
       "      <th>avg_pts</th>\n",
       "      <th>mpg</th>\n",
       "    </tr>\n",
       "    <tr>\n",
       "      <th>DISPLAY_FIRST_LAST</th>\n",
       "      <th></th>\n",
       "      <th></th>\n",
       "      <th></th>\n",
       "      <th></th>\n",
       "      <th></th>\n",
       "      <th></th>\n",
       "      <th></th>\n",
       "      <th></th>\n",
       "      <th></th>\n",
       "      <th></th>\n",
       "      <th></th>\n",
       "      <th></th>\n",
       "      <th></th>\n",
       "    </tr>\n",
       "  </thead>\n",
       "  <tbody>\n",
       "    <tr>\n",
       "      <th>James Harden</th>\n",
       "      <td>15750930</td>\n",
       "      <td>125627794110</td>\n",
       "      <td>0021801218002180120000218011840021801176002180...</td>\n",
       "      <td>2870</td>\n",
       "      <td>2818</td>\n",
       "      <td>586</td>\n",
       "      <td>518</td>\n",
       "      <td>452</td>\n",
       "      <td>58</td>\n",
       "      <td>HOUHOUHOUHOUHOUHOUHOUHOUHOUHOUHOUHOUHOUHOUHOUH...</td>\n",
       "      <td>78.0</td>\n",
       "      <td>36.128205</td>\n",
       "      <td>36.794872</td>\n",
       "    </tr>\n",
       "  </tbody>\n",
       "</table>\n",
       "</div>"
      ],
      "text/plain": [
       "                    PERSON_ID       TEAM_ID  \\\n",
       "DISPLAY_FIRST_LAST                            \n",
       "James Harden         15750930  125627794110   \n",
       "\n",
       "                                                              Game_ID   MIN  \\\n",
       "DISPLAY_FIRST_LAST                                                            \n",
       "James Harden        0021801218002180120000218011840021801176002180...  2870   \n",
       "\n",
       "                     PTS  AST  REB  DREB  BLK  \\\n",
       "DISPLAY_FIRST_LAST                              \n",
       "James Harden        2818  586  518   452   58   \n",
       "\n",
       "                                                    TEAM_ABBREVIATION  \\\n",
       "DISPLAY_FIRST_LAST                                                      \n",
       "James Harden        HOUHOUHOUHOUHOUHOUHOUHOUHOUHOUHOUHOUHOUHOUHOUH...   \n",
       "\n",
       "                    Games_Played    avg_pts        mpg  \n",
       "DISPLAY_FIRST_LAST                                      \n",
       "James Harden                78.0  36.128205  36.794872  "
      ]
     },
     "execution_count": 108,
     "metadata": {},
     "output_type": "execute_result"
    }
   ],
   "source": [
    "Team_pts = nba_data.groupby(['TEAM_ABBREVIATION'])['PTS'].sum()\n",
    "a = nba_data.groupby(['TEAM_ABBREVIATION', 'DISPLAY_FIRST_LAST']).sum()\n",
    "\n",
    "new_data = pd.merge(a, Team_pts, on = 'TEAM_ABBREVIATION')\n",
    "new_data['Share_of_pts'] = [(new_data['PTS_x'][i] / new_data['PTS_y'][i]) for i in range(len(new_data['PTS_x']))]   \n",
    "new_data.sort_values('Share_of_pts', ascending = False)\n",
    "\n",
    "x.loc[x['PERSON_ID'] == 15750930]"
   ]
  },
  {
   "cell_type": "markdown",
   "metadata": {},
   "source": [
    "## 12:\n",
    "\n",
    "What is the probability that a randomly selected player had at least one game in which they scored 40 points last season. "
   ]
  },
  {
   "cell_type": "code",
   "execution_count": null,
   "metadata": {},
   "outputs": [],
   "source": [
    "# your code here"
   ]
  },
  {
   "cell_type": "markdown",
   "metadata": {},
   "source": [
    "## 13: \n",
    "\n",
    "A double-double is when a player records for any of the two follow categories: points, rebounds, assists, steals, or blocks. \n",
    "What is the probability that a randomly selected player had a double-double in a game last season?\n"
   ]
  },
  {
   "cell_type": "code",
   "execution_count": null,
   "metadata": {},
   "outputs": [],
   "source": [
    "#your code here"
   ]
  },
  {
   "cell_type": "markdown",
   "metadata": {},
   "source": [
    "## 14:\n",
    "\n",
    "What is the probability that a randomnly selected game had a player record a triple-double in that game?"
   ]
  },
  {
   "cell_type": "code",
   "execution_count": null,
   "metadata": {},
   "outputs": [],
   "source": [
    "#your code here"
   ]
  }
 ],
 "metadata": {
  "kernelspec": {
   "display_name": "Python 3",
   "language": "python",
   "name": "python3"
  },
  "language_info": {
   "codemirror_mode": {
    "name": "ipython",
    "version": 3
   },
   "file_extension": ".py",
   "mimetype": "text/x-python",
   "name": "python",
   "nbconvert_exporter": "python",
   "pygments_lexer": "ipython3",
   "version": "3.7.6"
  }
 },
 "nbformat": 4,
 "nbformat_minor": 2
}
